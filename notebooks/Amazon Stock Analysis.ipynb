{
 "cells": [
  {
   "cell_type": "markdown",
   "metadata": {},
   "source": [
    "<h1> <center>   AMAZON STOCK ANALYSIS"
   ]
  },
  {
   "cell_type": "markdown",
   "metadata": {},
   "source": [
    "___"
   ]
  },
  {
   "cell_type": "markdown",
   "metadata": {},
   "source": [
    "<h2> OBJECTIVE"
   ]
  },
  {
   "cell_type": "markdown",
   "metadata": {},
   "source": [
    "- Stock Price Movement Analysis\n",
    "\n",
    "- Trading Volume Trends\n",
    "\n",
    "- Moving Averages Alignment\n",
    "\n",
    "- MACD Trend Analysis\n",
    "\n",
    "- Distribution of Daily Returns\n",
    "\n",
    "- 30-Day Moving Average Comparison"
   ]
  },
  {
   "cell_type": "markdown",
   "metadata": {},
   "source": [
    "_______"
   ]
  },
  {
   "cell_type": "code",
   "execution_count": 1,
   "metadata": {},
   "outputs": [],
   "source": [
    "import pandas as pd\n",
    "import matplotlib.pyplot as plt\n",
    "import seaborn as sns\n",
    "import plotly.graph_objects as go\n",
    "import yfinance as yf\n",
    "import warnings\n",
    "warnings.filterwarnings('ignore')"
   ]
  },
  {
   "cell_type": "code",
   "execution_count": 3,
   "metadata": {},
   "outputs": [
    {
     "data": {
      "text/html": [
       "<div>\n",
       "<style scoped>\n",
       "    .dataframe tbody tr th:only-of-type {\n",
       "        vertical-align: middle;\n",
       "    }\n",
       "\n",
       "    .dataframe tbody tr th {\n",
       "        vertical-align: top;\n",
       "    }\n",
       "\n",
       "    .dataframe thead th {\n",
       "        text-align: right;\n",
       "    }\n",
       "</style>\n",
       "<table border=\"1\" class=\"dataframe\">\n",
       "  <thead>\n",
       "    <tr style=\"text-align: right;\">\n",
       "      <th></th>\n",
       "      <th>Date</th>\n",
       "      <th>Open</th>\n",
       "      <th>High</th>\n",
       "      <th>Low</th>\n",
       "      <th>Close</th>\n",
       "      <th>Volume</th>\n",
       "      <th>Dividends</th>\n",
       "      <th>Stock Splits</th>\n",
       "    </tr>\n",
       "  </thead>\n",
       "  <tbody>\n",
       "    <tr>\n",
       "      <th>0</th>\n",
       "      <td>2022-03-01 00:00:00-05:00</td>\n",
       "      <td>152.732498</td>\n",
       "      <td>154.098999</td>\n",
       "      <td>149.977005</td>\n",
       "      <td>151.141998</td>\n",
       "      <td>44874000</td>\n",
       "      <td>0.0</td>\n",
       "      <td>0.0</td>\n",
       "    </tr>\n",
       "    <tr>\n",
       "      <th>1</th>\n",
       "      <td>2022-03-02 00:00:00-05:00</td>\n",
       "      <td>150.848999</td>\n",
       "      <td>152.999496</td>\n",
       "      <td>148.750000</td>\n",
       "      <td>152.052505</td>\n",
       "      <td>47334000</td>\n",
       "      <td>0.0</td>\n",
       "      <td>0.0</td>\n",
       "    </tr>\n",
       "    <tr>\n",
       "      <th>2</th>\n",
       "      <td>2022-03-03 00:00:00-05:00</td>\n",
       "      <td>153.531494</td>\n",
       "      <td>153.929001</td>\n",
       "      <td>146.856003</td>\n",
       "      <td>147.898499</td>\n",
       "      <td>65198000</td>\n",
       "      <td>0.0</td>\n",
       "      <td>0.0</td>\n",
       "    </tr>\n",
       "    <tr>\n",
       "      <th>3</th>\n",
       "      <td>2022-03-04 00:00:00-05:00</td>\n",
       "      <td>147.158997</td>\n",
       "      <td>147.850006</td>\n",
       "      <td>143.807007</td>\n",
       "      <td>145.641006</td>\n",
       "      <td>60934000</td>\n",
       "      <td>0.0</td>\n",
       "      <td>0.0</td>\n",
       "    </tr>\n",
       "    <tr>\n",
       "      <th>4</th>\n",
       "      <td>2022-03-07 00:00:00-05:00</td>\n",
       "      <td>145.443497</td>\n",
       "      <td>146.094498</td>\n",
       "      <td>137.416504</td>\n",
       "      <td>137.453003</td>\n",
       "      <td>86934000</td>\n",
       "      <td>0.0</td>\n",
       "      <td>0.0</td>\n",
       "    </tr>\n",
       "    <tr>\n",
       "      <th>...</th>\n",
       "      <td>...</td>\n",
       "      <td>...</td>\n",
       "      <td>...</td>\n",
       "      <td>...</td>\n",
       "      <td>...</td>\n",
       "      <td>...</td>\n",
       "      <td>...</td>\n",
       "      <td>...</td>\n",
       "    </tr>\n",
       "    <tr>\n",
       "      <th>748</th>\n",
       "      <td>2025-02-24 00:00:00-05:00</td>\n",
       "      <td>217.449997</td>\n",
       "      <td>217.720001</td>\n",
       "      <td>212.419998</td>\n",
       "      <td>212.710007</td>\n",
       "      <td>42387600</td>\n",
       "      <td>0.0</td>\n",
       "      <td>0.0</td>\n",
       "    </tr>\n",
       "    <tr>\n",
       "      <th>749</th>\n",
       "      <td>2025-02-25 00:00:00-05:00</td>\n",
       "      <td>211.630005</td>\n",
       "      <td>213.339996</td>\n",
       "      <td>204.160004</td>\n",
       "      <td>212.800003</td>\n",
       "      <td>58958000</td>\n",
       "      <td>0.0</td>\n",
       "      <td>0.0</td>\n",
       "    </tr>\n",
       "    <tr>\n",
       "      <th>750</th>\n",
       "      <td>2025-02-26 00:00:00-05:00</td>\n",
       "      <td>214.940002</td>\n",
       "      <td>218.160004</td>\n",
       "      <td>213.089996</td>\n",
       "      <td>214.350006</td>\n",
       "      <td>39120600</td>\n",
       "      <td>0.0</td>\n",
       "      <td>0.0</td>\n",
       "    </tr>\n",
       "    <tr>\n",
       "      <th>751</th>\n",
       "      <td>2025-02-27 00:00:00-05:00</td>\n",
       "      <td>218.350006</td>\n",
       "      <td>219.970001</td>\n",
       "      <td>208.369995</td>\n",
       "      <td>208.740005</td>\n",
       "      <td>40548600</td>\n",
       "      <td>0.0</td>\n",
       "      <td>0.0</td>\n",
       "    </tr>\n",
       "    <tr>\n",
       "      <th>752</th>\n",
       "      <td>2025-02-28 00:00:00-05:00</td>\n",
       "      <td>208.649994</td>\n",
       "      <td>212.619995</td>\n",
       "      <td>206.990005</td>\n",
       "      <td>212.279999</td>\n",
       "      <td>51715400</td>\n",
       "      <td>0.0</td>\n",
       "      <td>0.0</td>\n",
       "    </tr>\n",
       "  </tbody>\n",
       "</table>\n",
       "<p>753 rows × 8 columns</p>\n",
       "</div>"
      ],
      "text/plain": [
       "                         Date        Open        High         Low       Close  \\\n",
       "0   2022-03-01 00:00:00-05:00  152.732498  154.098999  149.977005  151.141998   \n",
       "1   2022-03-02 00:00:00-05:00  150.848999  152.999496  148.750000  152.052505   \n",
       "2   2022-03-03 00:00:00-05:00  153.531494  153.929001  146.856003  147.898499   \n",
       "3   2022-03-04 00:00:00-05:00  147.158997  147.850006  143.807007  145.641006   \n",
       "4   2022-03-07 00:00:00-05:00  145.443497  146.094498  137.416504  137.453003   \n",
       "..                        ...         ...         ...         ...         ...   \n",
       "748 2025-02-24 00:00:00-05:00  217.449997  217.720001  212.419998  212.710007   \n",
       "749 2025-02-25 00:00:00-05:00  211.630005  213.339996  204.160004  212.800003   \n",
       "750 2025-02-26 00:00:00-05:00  214.940002  218.160004  213.089996  214.350006   \n",
       "751 2025-02-27 00:00:00-05:00  218.350006  219.970001  208.369995  208.740005   \n",
       "752 2025-02-28 00:00:00-05:00  208.649994  212.619995  206.990005  212.279999   \n",
       "\n",
       "       Volume  Dividends  Stock Splits  \n",
       "0    44874000        0.0           0.0  \n",
       "1    47334000        0.0           0.0  \n",
       "2    65198000        0.0           0.0  \n",
       "3    60934000        0.0           0.0  \n",
       "4    86934000        0.0           0.0  \n",
       "..        ...        ...           ...  \n",
       "748  42387600        0.0           0.0  \n",
       "749  58958000        0.0           0.0  \n",
       "750  39120600        0.0           0.0  \n",
       "751  40548600        0.0           0.0  \n",
       "752  51715400        0.0           0.0  \n",
       "\n",
       "[753 rows x 8 columns]"
      ]
     },
     "execution_count": 3,
     "metadata": {},
     "output_type": "execute_result"
    }
   ],
   "source": [
    "stock= yf.Ticker('AMZN')\n",
    "df=stock.history(period= '3y')\n",
    "df.reset_index(inplace=True)\n",
    "df"
   ]
  },
  {
   "cell_type": "code",
   "execution_count": 4,
   "metadata": {},
   "outputs": [
    {
     "name": "stdout",
     "output_type": "stream",
     "text": [
      "<class 'pandas.core.frame.DataFrame'>\n",
      "RangeIndex: 753 entries, 0 to 752\n",
      "Data columns (total 8 columns):\n",
      " #   Column        Non-Null Count  Dtype                           \n",
      "---  ------        --------------  -----                           \n",
      " 0   Date          753 non-null    datetime64[ns, America/New_York]\n",
      " 1   Open          753 non-null    float64                         \n",
      " 2   High          753 non-null    float64                         \n",
      " 3   Low           753 non-null    float64                         \n",
      " 4   Close         753 non-null    float64                         \n",
      " 5   Volume        753 non-null    int64                           \n",
      " 6   Dividends     753 non-null    float64                         \n",
      " 7   Stock Splits  753 non-null    float64                         \n",
      "dtypes: datetime64[ns, America/New_York](1), float64(6), int64(1)\n",
      "memory usage: 47.2 KB\n"
     ]
    }
   ],
   "source": [
    "df.info()"
   ]
  },
  {
   "cell_type": "code",
   "execution_count": 6,
   "metadata": {},
   "outputs": [
    {
     "data": {
      "text/plain": [
       "(753, 8)"
      ]
     },
     "execution_count": 6,
     "metadata": {},
     "output_type": "execute_result"
    }
   ],
   "source": [
    "df.shape"
   ]
  },
  {
   "cell_type": "code",
   "execution_count": 7,
   "metadata": {},
   "outputs": [
    {
     "data": {
      "text/html": [
       "<div>\n",
       "<style scoped>\n",
       "    .dataframe tbody tr th:only-of-type {\n",
       "        vertical-align: middle;\n",
       "    }\n",
       "\n",
       "    .dataframe tbody tr th {\n",
       "        vertical-align: top;\n",
       "    }\n",
       "\n",
       "    .dataframe thead th {\n",
       "        text-align: right;\n",
       "    }\n",
       "</style>\n",
       "<table border=\"1\" class=\"dataframe\">\n",
       "  <thead>\n",
       "    <tr style=\"text-align: right;\">\n",
       "      <th></th>\n",
       "      <th>Date</th>\n",
       "      <th>Open</th>\n",
       "      <th>High</th>\n",
       "      <th>Low</th>\n",
       "      <th>Close</th>\n",
       "      <th>Volume</th>\n",
       "      <th>Dividends</th>\n",
       "      <th>Stock Splits</th>\n",
       "    </tr>\n",
       "  </thead>\n",
       "  <tbody>\n",
       "    <tr>\n",
       "      <th>748</th>\n",
       "      <td>2025-02-24 00:00:00-05:00</td>\n",
       "      <td>217.449997</td>\n",
       "      <td>217.720001</td>\n",
       "      <td>212.419998</td>\n",
       "      <td>212.710007</td>\n",
       "      <td>42387600</td>\n",
       "      <td>0.0</td>\n",
       "      <td>0.0</td>\n",
       "    </tr>\n",
       "    <tr>\n",
       "      <th>749</th>\n",
       "      <td>2025-02-25 00:00:00-05:00</td>\n",
       "      <td>211.630005</td>\n",
       "      <td>213.339996</td>\n",
       "      <td>204.160004</td>\n",
       "      <td>212.800003</td>\n",
       "      <td>58958000</td>\n",
       "      <td>0.0</td>\n",
       "      <td>0.0</td>\n",
       "    </tr>\n",
       "    <tr>\n",
       "      <th>750</th>\n",
       "      <td>2025-02-26 00:00:00-05:00</td>\n",
       "      <td>214.940002</td>\n",
       "      <td>218.160004</td>\n",
       "      <td>213.089996</td>\n",
       "      <td>214.350006</td>\n",
       "      <td>39120600</td>\n",
       "      <td>0.0</td>\n",
       "      <td>0.0</td>\n",
       "    </tr>\n",
       "    <tr>\n",
       "      <th>751</th>\n",
       "      <td>2025-02-27 00:00:00-05:00</td>\n",
       "      <td>218.350006</td>\n",
       "      <td>219.970001</td>\n",
       "      <td>208.369995</td>\n",
       "      <td>208.740005</td>\n",
       "      <td>40548600</td>\n",
       "      <td>0.0</td>\n",
       "      <td>0.0</td>\n",
       "    </tr>\n",
       "    <tr>\n",
       "      <th>752</th>\n",
       "      <td>2025-02-28 00:00:00-05:00</td>\n",
       "      <td>208.649994</td>\n",
       "      <td>212.619995</td>\n",
       "      <td>206.990005</td>\n",
       "      <td>212.279999</td>\n",
       "      <td>51715400</td>\n",
       "      <td>0.0</td>\n",
       "      <td>0.0</td>\n",
       "    </tr>\n",
       "  </tbody>\n",
       "</table>\n",
       "</div>"
      ],
      "text/plain": [
       "                         Date        Open        High         Low       Close  \\\n",
       "748 2025-02-24 00:00:00-05:00  217.449997  217.720001  212.419998  212.710007   \n",
       "749 2025-02-25 00:00:00-05:00  211.630005  213.339996  204.160004  212.800003   \n",
       "750 2025-02-26 00:00:00-05:00  214.940002  218.160004  213.089996  214.350006   \n",
       "751 2025-02-27 00:00:00-05:00  218.350006  219.970001  208.369995  208.740005   \n",
       "752 2025-02-28 00:00:00-05:00  208.649994  212.619995  206.990005  212.279999   \n",
       "\n",
       "       Volume  Dividends  Stock Splits  \n",
       "748  42387600        0.0           0.0  \n",
       "749  58958000        0.0           0.0  \n",
       "750  39120600        0.0           0.0  \n",
       "751  40548600        0.0           0.0  \n",
       "752  51715400        0.0           0.0  "
      ]
     },
     "execution_count": 7,
     "metadata": {},
     "output_type": "execute_result"
    }
   ],
   "source": [
    "df.tail()"
   ]
  },
  {
   "cell_type": "code",
   "execution_count": 8,
   "metadata": {},
   "outputs": [
    {
     "data": {
      "text/plain": [
       "Date            0\n",
       "Open            0\n",
       "High            0\n",
       "Low             0\n",
       "Close           0\n",
       "Volume          0\n",
       "Dividends       0\n",
       "Stock Splits    0\n",
       "dtype: int64"
      ]
     },
     "execution_count": 8,
     "metadata": {},
     "output_type": "execute_result"
    }
   ],
   "source": [
    "df.isna().sum()"
   ]
  },
  {
   "cell_type": "code",
   "execution_count": 9,
   "metadata": {},
   "outputs": [
    {
     "data": {
      "text/html": [
       "<div>\n",
       "<style scoped>\n",
       "    .dataframe tbody tr th:only-of-type {\n",
       "        vertical-align: middle;\n",
       "    }\n",
       "\n",
       "    .dataframe tbody tr th {\n",
       "        vertical-align: top;\n",
       "    }\n",
       "\n",
       "    .dataframe thead th {\n",
       "        text-align: right;\n",
       "    }\n",
       "</style>\n",
       "<table border=\"1\" class=\"dataframe\">\n",
       "  <thead>\n",
       "    <tr style=\"text-align: right;\">\n",
       "      <th></th>\n",
       "      <th>Open</th>\n",
       "      <th>High</th>\n",
       "      <th>Low</th>\n",
       "      <th>Close</th>\n",
       "      <th>Volume</th>\n",
       "      <th>Dividends</th>\n",
       "      <th>Stock Splits</th>\n",
       "    </tr>\n",
       "  </thead>\n",
       "  <tbody>\n",
       "    <tr>\n",
       "      <th>count</th>\n",
       "      <td>753.0</td>\n",
       "      <td>753.0</td>\n",
       "      <td>753.0</td>\n",
       "      <td>753.0</td>\n",
       "      <td>753.0</td>\n",
       "      <td>753.0</td>\n",
       "      <td>753.0</td>\n",
       "    </tr>\n",
       "    <tr>\n",
       "      <th>mean</th>\n",
       "      <td>148.0</td>\n",
       "      <td>150.0</td>\n",
       "      <td>146.0</td>\n",
       "      <td>148.0</td>\n",
       "      <td>56246797.0</td>\n",
       "      <td>0.0</td>\n",
       "      <td>0.0</td>\n",
       "    </tr>\n",
       "    <tr>\n",
       "      <th>std</th>\n",
       "      <td>40.0</td>\n",
       "      <td>40.0</td>\n",
       "      <td>40.0</td>\n",
       "      <td>40.0</td>\n",
       "      <td>26885416.0</td>\n",
       "      <td>0.0</td>\n",
       "      <td>1.0</td>\n",
       "    </tr>\n",
       "    <tr>\n",
       "      <th>min</th>\n",
       "      <td>83.0</td>\n",
       "      <td>83.0</td>\n",
       "      <td>81.0</td>\n",
       "      <td>82.0</td>\n",
       "      <td>15007500.0</td>\n",
       "      <td>0.0</td>\n",
       "      <td>0.0</td>\n",
       "    </tr>\n",
       "    <tr>\n",
       "      <th>25%</th>\n",
       "      <td>115.0</td>\n",
       "      <td>117.0</td>\n",
       "      <td>113.0</td>\n",
       "      <td>115.0</td>\n",
       "      <td>39120600.0</td>\n",
       "      <td>0.0</td>\n",
       "      <td>0.0</td>\n",
       "    </tr>\n",
       "    <tr>\n",
       "      <th>50%</th>\n",
       "      <td>141.0</td>\n",
       "      <td>143.0</td>\n",
       "      <td>140.0</td>\n",
       "      <td>141.0</td>\n",
       "      <td>50017300.0</td>\n",
       "      <td>0.0</td>\n",
       "      <td>0.0</td>\n",
       "    </tr>\n",
       "    <tr>\n",
       "      <th>75%</th>\n",
       "      <td>181.0</td>\n",
       "      <td>182.0</td>\n",
       "      <td>179.0</td>\n",
       "      <td>180.0</td>\n",
       "      <td>66496700.0</td>\n",
       "      <td>0.0</td>\n",
       "      <td>0.0</td>\n",
       "    </tr>\n",
       "    <tr>\n",
       "      <th>max</th>\n",
       "      <td>239.0</td>\n",
       "      <td>243.0</td>\n",
       "      <td>238.0</td>\n",
       "      <td>242.0</td>\n",
       "      <td>272662000.0</td>\n",
       "      <td>0.0</td>\n",
       "      <td>20.0</td>\n",
       "    </tr>\n",
       "  </tbody>\n",
       "</table>\n",
       "</div>"
      ],
      "text/plain": [
       "        Open   High    Low  Close       Volume  Dividends  Stock Splits\n",
       "count  753.0  753.0  753.0  753.0        753.0      753.0         753.0\n",
       "mean   148.0  150.0  146.0  148.0   56246797.0        0.0           0.0\n",
       "std     40.0   40.0   40.0   40.0   26885416.0        0.0           1.0\n",
       "min     83.0   83.0   81.0   82.0   15007500.0        0.0           0.0\n",
       "25%    115.0  117.0  113.0  115.0   39120600.0        0.0           0.0\n",
       "50%    141.0  143.0  140.0  141.0   50017300.0        0.0           0.0\n",
       "75%    181.0  182.0  179.0  180.0   66496700.0        0.0           0.0\n",
       "max    239.0  243.0  238.0  242.0  272662000.0        0.0          20.0"
      ]
     },
     "execution_count": 9,
     "metadata": {},
     "output_type": "execute_result"
    }
   ],
   "source": [
    "df.describe().round()"
   ]
  },
  {
   "cell_type": "code",
   "execution_count": 10,
   "metadata": {},
   "outputs": [],
   "source": [
    "df['Daily Return'] = df['Close'].pct_change()"
   ]
  },
  {
   "cell_type": "code",
   "execution_count": 11,
   "metadata": {},
   "outputs": [],
   "source": [
    "df['Year'] = df['Date'].dt.year"
   ]
  },
  {
   "cell_type": "code",
   "execution_count": 12,
   "metadata": {},
   "outputs": [
    {
     "data": {
      "text/html": [
       "<div>\n",
       "<style scoped>\n",
       "    .dataframe tbody tr th:only-of-type {\n",
       "        vertical-align: middle;\n",
       "    }\n",
       "\n",
       "    .dataframe tbody tr th {\n",
       "        vertical-align: top;\n",
       "    }\n",
       "\n",
       "    .dataframe thead th {\n",
       "        text-align: right;\n",
       "    }\n",
       "</style>\n",
       "<table border=\"1\" class=\"dataframe\">\n",
       "  <thead>\n",
       "    <tr style=\"text-align: right;\">\n",
       "      <th></th>\n",
       "      <th>Date</th>\n",
       "      <th>Open</th>\n",
       "      <th>High</th>\n",
       "      <th>Low</th>\n",
       "      <th>Close</th>\n",
       "      <th>Volume</th>\n",
       "      <th>Dividends</th>\n",
       "      <th>Stock Splits</th>\n",
       "      <th>Daily Return</th>\n",
       "      <th>Year</th>\n",
       "    </tr>\n",
       "  </thead>\n",
       "  <tbody>\n",
       "    <tr>\n",
       "      <th>0</th>\n",
       "      <td>2022-03-01 00:00:00-05:00</td>\n",
       "      <td>152.732498</td>\n",
       "      <td>154.098999</td>\n",
       "      <td>149.977005</td>\n",
       "      <td>151.141998</td>\n",
       "      <td>44874000</td>\n",
       "      <td>0.0</td>\n",
       "      <td>0.0</td>\n",
       "      <td>NaN</td>\n",
       "      <td>2022</td>\n",
       "    </tr>\n",
       "    <tr>\n",
       "      <th>1</th>\n",
       "      <td>2022-03-02 00:00:00-05:00</td>\n",
       "      <td>150.848999</td>\n",
       "      <td>152.999496</td>\n",
       "      <td>148.750000</td>\n",
       "      <td>152.052505</td>\n",
       "      <td>47334000</td>\n",
       "      <td>0.0</td>\n",
       "      <td>0.0</td>\n",
       "      <td>0.006024</td>\n",
       "      <td>2022</td>\n",
       "    </tr>\n",
       "    <tr>\n",
       "      <th>2</th>\n",
       "      <td>2022-03-03 00:00:00-05:00</td>\n",
       "      <td>153.531494</td>\n",
       "      <td>153.929001</td>\n",
       "      <td>146.856003</td>\n",
       "      <td>147.898499</td>\n",
       "      <td>65198000</td>\n",
       "      <td>0.0</td>\n",
       "      <td>0.0</td>\n",
       "      <td>-0.027320</td>\n",
       "      <td>2022</td>\n",
       "    </tr>\n",
       "    <tr>\n",
       "      <th>3</th>\n",
       "      <td>2022-03-04 00:00:00-05:00</td>\n",
       "      <td>147.158997</td>\n",
       "      <td>147.850006</td>\n",
       "      <td>143.807007</td>\n",
       "      <td>145.641006</td>\n",
       "      <td>60934000</td>\n",
       "      <td>0.0</td>\n",
       "      <td>0.0</td>\n",
       "      <td>-0.015264</td>\n",
       "      <td>2022</td>\n",
       "    </tr>\n",
       "    <tr>\n",
       "      <th>4</th>\n",
       "      <td>2022-03-07 00:00:00-05:00</td>\n",
       "      <td>145.443497</td>\n",
       "      <td>146.094498</td>\n",
       "      <td>137.416504</td>\n",
       "      <td>137.453003</td>\n",
       "      <td>86934000</td>\n",
       "      <td>0.0</td>\n",
       "      <td>0.0</td>\n",
       "      <td>-0.056220</td>\n",
       "      <td>2022</td>\n",
       "    </tr>\n",
       "    <tr>\n",
       "      <th>...</th>\n",
       "      <td>...</td>\n",
       "      <td>...</td>\n",
       "      <td>...</td>\n",
       "      <td>...</td>\n",
       "      <td>...</td>\n",
       "      <td>...</td>\n",
       "      <td>...</td>\n",
       "      <td>...</td>\n",
       "      <td>...</td>\n",
       "      <td>...</td>\n",
       "    </tr>\n",
       "    <tr>\n",
       "      <th>748</th>\n",
       "      <td>2025-02-24 00:00:00-05:00</td>\n",
       "      <td>217.449997</td>\n",
       "      <td>217.720001</td>\n",
       "      <td>212.419998</td>\n",
       "      <td>212.710007</td>\n",
       "      <td>42387600</td>\n",
       "      <td>0.0</td>\n",
       "      <td>0.0</td>\n",
       "      <td>-0.017869</td>\n",
       "      <td>2025</td>\n",
       "    </tr>\n",
       "    <tr>\n",
       "      <th>749</th>\n",
       "      <td>2025-02-25 00:00:00-05:00</td>\n",
       "      <td>211.630005</td>\n",
       "      <td>213.339996</td>\n",
       "      <td>204.160004</td>\n",
       "      <td>212.800003</td>\n",
       "      <td>58958000</td>\n",
       "      <td>0.0</td>\n",
       "      <td>0.0</td>\n",
       "      <td>0.000423</td>\n",
       "      <td>2025</td>\n",
       "    </tr>\n",
       "    <tr>\n",
       "      <th>750</th>\n",
       "      <td>2025-02-26 00:00:00-05:00</td>\n",
       "      <td>214.940002</td>\n",
       "      <td>218.160004</td>\n",
       "      <td>213.089996</td>\n",
       "      <td>214.350006</td>\n",
       "      <td>39120600</td>\n",
       "      <td>0.0</td>\n",
       "      <td>0.0</td>\n",
       "      <td>0.007284</td>\n",
       "      <td>2025</td>\n",
       "    </tr>\n",
       "    <tr>\n",
       "      <th>751</th>\n",
       "      <td>2025-02-27 00:00:00-05:00</td>\n",
       "      <td>218.350006</td>\n",
       "      <td>219.970001</td>\n",
       "      <td>208.369995</td>\n",
       "      <td>208.740005</td>\n",
       "      <td>40548600</td>\n",
       "      <td>0.0</td>\n",
       "      <td>0.0</td>\n",
       "      <td>-0.026172</td>\n",
       "      <td>2025</td>\n",
       "    </tr>\n",
       "    <tr>\n",
       "      <th>752</th>\n",
       "      <td>2025-02-28 00:00:00-05:00</td>\n",
       "      <td>208.649994</td>\n",
       "      <td>212.619995</td>\n",
       "      <td>206.990005</td>\n",
       "      <td>212.279999</td>\n",
       "      <td>51715400</td>\n",
       "      <td>0.0</td>\n",
       "      <td>0.0</td>\n",
       "      <td>0.016959</td>\n",
       "      <td>2025</td>\n",
       "    </tr>\n",
       "  </tbody>\n",
       "</table>\n",
       "<p>753 rows × 10 columns</p>\n",
       "</div>"
      ],
      "text/plain": [
       "                         Date        Open        High         Low       Close  \\\n",
       "0   2022-03-01 00:00:00-05:00  152.732498  154.098999  149.977005  151.141998   \n",
       "1   2022-03-02 00:00:00-05:00  150.848999  152.999496  148.750000  152.052505   \n",
       "2   2022-03-03 00:00:00-05:00  153.531494  153.929001  146.856003  147.898499   \n",
       "3   2022-03-04 00:00:00-05:00  147.158997  147.850006  143.807007  145.641006   \n",
       "4   2022-03-07 00:00:00-05:00  145.443497  146.094498  137.416504  137.453003   \n",
       "..                        ...         ...         ...         ...         ...   \n",
       "748 2025-02-24 00:00:00-05:00  217.449997  217.720001  212.419998  212.710007   \n",
       "749 2025-02-25 00:00:00-05:00  211.630005  213.339996  204.160004  212.800003   \n",
       "750 2025-02-26 00:00:00-05:00  214.940002  218.160004  213.089996  214.350006   \n",
       "751 2025-02-27 00:00:00-05:00  218.350006  219.970001  208.369995  208.740005   \n",
       "752 2025-02-28 00:00:00-05:00  208.649994  212.619995  206.990005  212.279999   \n",
       "\n",
       "       Volume  Dividends  Stock Splits  Daily Return  Year  \n",
       "0    44874000        0.0           0.0           NaN  2022  \n",
       "1    47334000        0.0           0.0      0.006024  2022  \n",
       "2    65198000        0.0           0.0     -0.027320  2022  \n",
       "3    60934000        0.0           0.0     -0.015264  2022  \n",
       "4    86934000        0.0           0.0     -0.056220  2022  \n",
       "..        ...        ...           ...           ...   ...  \n",
       "748  42387600        0.0           0.0     -0.017869  2025  \n",
       "749  58958000        0.0           0.0      0.000423  2025  \n",
       "750  39120600        0.0           0.0      0.007284  2025  \n",
       "751  40548600        0.0           0.0     -0.026172  2025  \n",
       "752  51715400        0.0           0.0      0.016959  2025  \n",
       "\n",
       "[753 rows x 10 columns]"
      ]
     },
     "execution_count": 12,
     "metadata": {},
     "output_type": "execute_result"
    }
   ],
   "source": [
    "df"
   ]
  },
  {
   "cell_type": "code",
   "execution_count": 13,
   "metadata": {},
   "outputs": [
    {
     "data": {
      "text/plain": [
       "242.0"
      ]
     },
     "execution_count": 13,
     "metadata": {},
     "output_type": "execute_result"
    }
   ],
   "source": [
    "df['Close'].max().round()"
   ]
  },
  {
   "cell_type": "code",
   "execution_count": 14,
   "metadata": {},
   "outputs": [
    {
     "data": {
      "text/html": [
       "<div>\n",
       "<style scoped>\n",
       "    .dataframe tbody tr th:only-of-type {\n",
       "        vertical-align: middle;\n",
       "    }\n",
       "\n",
       "    .dataframe tbody tr th {\n",
       "        vertical-align: top;\n",
       "    }\n",
       "\n",
       "    .dataframe thead th {\n",
       "        text-align: right;\n",
       "    }\n",
       "</style>\n",
       "<table border=\"1\" class=\"dataframe\">\n",
       "  <thead>\n",
       "    <tr style=\"text-align: right;\">\n",
       "      <th></th>\n",
       "      <th>Date</th>\n",
       "      <th>Open</th>\n",
       "      <th>High</th>\n",
       "      <th>Low</th>\n",
       "      <th>Close</th>\n",
       "      <th>Volume</th>\n",
       "      <th>Dividends</th>\n",
       "      <th>Stock Splits</th>\n",
       "      <th>Daily Return</th>\n",
       "      <th>Year</th>\n",
       "    </tr>\n",
       "  </thead>\n",
       "  <tbody>\n",
       "    <tr>\n",
       "      <th>735</th>\n",
       "      <td>2025-02-04 00:00:00-05:00</td>\n",
       "      <td>239.009995</td>\n",
       "      <td>242.520004</td>\n",
       "      <td>238.029999</td>\n",
       "      <td>242.059998</td>\n",
       "      <td>29713800</td>\n",
       "      <td>0.0</td>\n",
       "      <td>0.0</td>\n",
       "      <td>0.019543</td>\n",
       "      <td>2025</td>\n",
       "    </tr>\n",
       "  </tbody>\n",
       "</table>\n",
       "</div>"
      ],
      "text/plain": [
       "                         Date        Open        High         Low       Close  \\\n",
       "735 2025-02-04 00:00:00-05:00  239.009995  242.520004  238.029999  242.059998   \n",
       "\n",
       "       Volume  Dividends  Stock Splits  Daily Return  Year  \n",
       "735  29713800        0.0           0.0      0.019543  2025  "
      ]
     },
     "execution_count": 14,
     "metadata": {},
     "output_type": "execute_result"
    }
   ],
   "source": [
    "max_close = df[df['Close'] == df['Close'].max()]\n",
    "max_close"
   ]
  },
  {
   "cell_type": "code",
   "execution_count": 14,
   "metadata": {},
   "outputs": [
    {
     "data": {
      "text/plain": [
       "Date            2025-02-28 00:00:00-05:00\n",
       "Open                           239.020004\n",
       "High                           242.520004\n",
       "Low                            238.029999\n",
       "Close                          242.059998\n",
       "Volume                          272662000\n",
       "Dividends                             0.0\n",
       "Stock Splits                         20.0\n",
       "Daily Return                     0.121778\n",
       "Year                                 2025\n",
       "dtype: object"
      ]
     },
     "execution_count": 14,
     "metadata": {},
     "output_type": "execute_result"
    }
   ],
   "source": [
    "df.max()"
   ]
  },
  {
   "cell_type": "code",
   "execution_count": 15,
   "metadata": {},
   "outputs": [
    {
     "data": {
      "text/html": [
       "<div>\n",
       "<style scoped>\n",
       "    .dataframe tbody tr th:only-of-type {\n",
       "        vertical-align: middle;\n",
       "    }\n",
       "\n",
       "    .dataframe tbody tr th {\n",
       "        vertical-align: top;\n",
       "    }\n",
       "\n",
       "    .dataframe thead th {\n",
       "        text-align: right;\n",
       "    }\n",
       "</style>\n",
       "<table border=\"1\" class=\"dataframe\">\n",
       "  <thead>\n",
       "    <tr style=\"text-align: right;\">\n",
       "      <th></th>\n",
       "      <th>Date</th>\n",
       "      <th>Open</th>\n",
       "      <th>High</th>\n",
       "      <th>Low</th>\n",
       "      <th>Close</th>\n",
       "      <th>Volume</th>\n",
       "      <th>Dividends</th>\n",
       "      <th>Stock Splits</th>\n",
       "      <th>Daily Return</th>\n",
       "      <th>Year</th>\n",
       "    </tr>\n",
       "  </thead>\n",
       "  <tbody>\n",
       "    <tr>\n",
       "      <th>154</th>\n",
       "      <td>2022-10-10 00:00:00-04:00</td>\n",
       "      <td>115.099998</td>\n",
       "      <td>116.25</td>\n",
       "      <td>112.43</td>\n",
       "      <td>113.669998</td>\n",
       "      <td>42339700</td>\n",
       "      <td>0.0</td>\n",
       "      <td>0.0</td>\n",
       "      <td>-0.007769</td>\n",
       "      <td>2022</td>\n",
       "    </tr>\n",
       "  </tbody>\n",
       "</table>\n",
       "</div>"
      ],
      "text/plain": [
       "                         Date        Open    High     Low       Close  \\\n",
       "154 2022-10-10 00:00:00-04:00  115.099998  116.25  112.43  113.669998   \n",
       "\n",
       "       Volume  Dividends  Stock Splits  Daily Return  Year  \n",
       "154  42339700        0.0           0.0     -0.007769  2022  "
      ]
     },
     "execution_count": 15,
     "metadata": {},
     "output_type": "execute_result"
    }
   ],
   "source": [
    "df.sample()"
   ]
  },
  {
   "cell_type": "markdown",
   "metadata": {},
   "source": [
    "- <h4> Stock Price Movement Analysis"
   ]
  },
  {
   "cell_type": "code",
   "execution_count": 5,
   "metadata": {},
   "outputs": [
    {
     "data": {
      "application/vnd.plotly.v1+json": {
       "config": {
        "plotlyServerURL": "https://plot.ly"
       },
       "data": [
        {
         "close": {
          "bdata": "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",
          "dtype": "f8"
         },
         "high": {
          "bdata": "AAAAACtDY0AAAADg+x9jQAAAAGC6PWNAAAAAQDN7YkAAAAAgBkNiQAAAAEBilmFAAAAAAACIYUAAAACAlZViQAAAAKCZtWJAAAAAYGZuYkAAAAAghX9iQAAAAMDMJGNAAAAAwPOvY0AAAAAAAjNkQAAAACCwYmRAAAAAIFjFZEAAAAAA18tkQAAAAMDKg2RAAAAAwMqrZEAAAABAMyFlQAAAAKCbWmVAAAAAgGoeZUAAAAAA189kQAAAAMB2umRAAAAAwJ8MZUAAAABAiQNlQAAAAGBmRmRAAAAAIIcCZEAAAADAyqtjQAAAAEBeRGNAAAAAACtjY0AAAADAzIBjQAAAAEC0fGNAAAAAoENBY0AAAACgxNRjQAAAAKBHs2NAAAAAwJ2XY0AAAAAgrrNiQAAAAIAWR2JAAAAAYGQbYkAAAAAgWr5hQAAAAAAAPmJAAAAAIFpYYEAAAACAwCpfQAAAAKAcjl9AAAAAAACAX0AAAACg799eQAAAAGA7w11AAAAAAACAXEAAAADAHilcQAAAAOD7iVtAAAAAwPOxW0AAAACgxktcQAAAACCFf1xAAAAAQDPzXEAAAACAlzZcQAAAAAAtgltAAAAA4Hh5W0AAAACAajRbQAAAAKCZWVpAAAAAQDMLW0AAAACAlypcQAAAAMD3y1xAAAAA4KV/XkAAAADAdEtfQAAAAEAKZ19AAAAAoJkZX0AAAAAgrh9gQAAAAGBmBl9AAAAAAADwXkAAAABAM1NeQAAAAAAAoFxAAAAAYI+iWkAAAADgUThaQAAAAADXQ1tAAAAAwB4lWkAAAABguL5aQAAAAOBR6FtAAAAA4FEIXEAAAAAAAEBcQAAAAKBwLV1AAAAAYLh+XUAAAABgZrZcQAAAACBcv1tAAAAAIIULW0AAAAAAAHBbQAAAAMAehVxAAAAAYLjeXEAAAAAgXD9dQAAAAMAeJV1AAAAAQDOTXEAAAABguE5cQAAAAIDr8VtAAAAAIIXLW0AAAACAwuVcQAAAACBcT11AAAAAwMy8XUAAAABguN5eQAAAAGBmNl9AAAAAAABgX0AAAADA9eheQAAAAKCZiV1AAAAAoJl5XkAAAACAwrVeQAAAAMDMNGFAAAAAYI9aYUAAAACAFC5hQAAAACCuj2FAAAAAgOvxYUAAAAAghdthQAAAACBcB2JAAAAAYGZeYUAAAABAMxNiQAAAACCuD2JAAAAAgD3yYUAAAADgUfhhQAAAAIA9UmJAAAAAACnsYUAAAADgo9hhQAAAACCFo2FAAAAAgD0KYUAAAAAgrt9gQAAAAEAK72BAAAAAoHAtYUAAAABgjzphQAAAAGBmfmBAAAAAgD2CYEAAAABA4VJgQAAAAOCjAGBAAAAAAClsYEAAAAAA1xNgQAAAAIA9OmBAAAAAwPVIYEAAAACAFLZgQAAAACCuD2FAAAAAwMxsYEAAAABA4RpgQAAAAADXS2BAAAAAIK73XkAAAACgcC1fQAAAAKCZGV9AAAAA4KPwXkAAAABgj7JdQAAAAEAzA11AAAAAgMJVXUAAAADgepRdQAAAAMDMrF1AAAAA4HoEXUAAAABA4TpdQAAAAIA9Ol1AAAAAAADAXkAAAAAAAHBeQAAAAIDrYV5AAAAAQOGKXUAAAAAAABBdQAAAAGC43lxAAAAAwB51XEAAAAAAKVxcQAAAAKBwvVxAAAAAACmMXEAAAACgR+FdQAAAAIDCJV1AAAAAIFyPXUAAAACAwuVdQAAAAMD1GF5AAAAA4HpUXkAAAABgZtZdQAAAACCuh1xAAAAAoHD9WUAAAAAgrjdaQAAAAMAeJVpAAAAAIFxvWEAAAAAAAGBXQAAAAAApHFdAAAAAYGYGV0AAAACAFO5WQAAAAGC4XlZAAAAAACmsWEAAAAAAKUxZQAAAACCuB1lAAAAAYI/yWUAAAAAgXJ9YQAAAAIAUPlhAAAAAIFz/V0AAAACgR8FXQAAAAGBmVldAAAAAwB6lV0AAAAAghZtXQAAAAKCZGVhAAAAAgD2aV0AAAABgjyJYQAAAAGC4TlhAAAAAQArXV0AAAAAA14NXQAAAAGCPwlZAAAAAwPV4VkAAAABACrdWQAAAAEAzk1ZAAAAAwB6lVkAAAAAAABBYQAAAAKBwXVdAAAAAgBR+VkAAAABgZlZWQAAAAOBR6FVAAAAAQAqnVUAAAABguM5VQAAAACCFa1VAAAAAgOtxVUAAAABgZlZVQAAAAGC43lRAAAAAQDMjVUAAAABAMwNVQAAAAKBwvVVAAAAAYLi+VUAAAABA4VpVQAAAAKCZmVVAAAAAYLheVkAAAAAAKYxWQAAAAOCj0FdAAAAAAClMWEAAAAAgrpdYQAAAAMD1uFhAAAAA4HrUWEAAAAAAKdxXQAAAAGBmVlhAAAAAgOtxWEAAAACAwoVYQAAAACBcT1hAAAAAIFzfWEAAAAAgXN9ZQAAAACBcb1lAAAAAYGbWWUAAAAAgXI9aQAAAAAAAgFxAAAAAgOsxW0AAAADAzPxZQAAAAIA9mllAAAAAQOGqWUAAAACA63FZQAAAAOB6tFhAAAAAIIXrWEAAAABA4TpZQAAAAEDhSllAAAAA4FEoWUAAAAAAKXxYQAAAAEAK51dAAAAA4KNAWEAAAAAghRtYQAAAAMD1iFdAAAAAgOuxV0AAAAAAKaxXQAAAACCFq1dAAAAAYLgOV0AAAAAAKbxXQAAAAEAzI1hAAAAAgMLFV0AAAABA4YpXQAAAAKBwDVhAAAAA4HpkV0AAAACgR4FXQAAAAOB6xFdAAAAAQOEqWEAAAAAgXD9ZQAAAAIA9KllAAAAAYLieWEAAAABgZjZZQAAAAGBmhllAAAAAANdDWUAAAABAM5NYQAAAAIDC1VhAAAAAACmcWEAAAABA4RpZQAAAAGCPwllAAAAAIFzfWUAAAABgj9JZQAAAAMDMDFpAAAAAgD36WUAAAADgUZhZQAAAAMDMjFlAAAAAAABAWUAAAADgoyBZQAAAAOB6pFlAAAAAwMzMWUAAAABguO5ZQAAAAMDMDFpAAAAAIK5HWkAAAAAAAFBaQAAAAKCZCVtAAAAAYLhOW0AAAADAzFxaQAAAACCup1pAAAAAQAq3W0AAAABguF5bQAAAAGC4TlpAAAAAoJn5WUAAAACgcH1aQAAAAMD1WFpAAAAA4KNwWkAAAABgZoZaQAAAAGCPslpAAAAAQOGqW0AAAACA61FcQAAAAMD1KFxAAAAAYI8SXEAAAABgj7JcQAAAAMAe9VxAAAAAYGamXUAAAAAA15NdQAAAAKBHMV1AAAAAwPVIXUAAAACAwlVdQAAAACCuN11AAAAAAABgXkAAAABA4bpeQAAAAGCPgl5AAAAAIFzfXkAAAADA9ZhfQAAAAEAzc19AAAAAoJnZX0AAAAAgrtdfQAAAAOBRaF9AAAAAQDNzX0AAAACA67FfQAAAAMAeDWBAAAAAwMy8X0AAAAAAKexfQAAAAKCZ+V9AAAAAAADQX0AAAABguK5fQAAAAGCPSmBAAAAAQOFaYEAAAAAgrm9gQAAAAEDhQmBAAAAAIFxvYEAAAADgUShgQAAAAAAAaGBAAAAAQDN7YEAAAADAzGxgQAAAACBcF2BAAAAAQApfYEAAAADA9ShgQAAAAOCjOGBAAAAA4FFoYEAAAACgcNVgQAAAAMDMFGFAAAAAANfzYEAAAAAghbtgQAAAACCu/2BAAAAAoEfZYEAAAAAA12tgQAAAAMAedWBAAAAAYI8yYEAAAABgjyJgQAAAAAAplGBAAAAA4FGgYEAAAAAA17tgQAAAAIAUtmBAAAAAIFxHYEAAAABA4TpgQAAAAAAp9GFAAAAAoEfRYUAAAABA4ZphQAAAAIA9imFAAAAAwB6NYUAAAABgj2phQAAAAEDhkmFAAAAAwPWoYUAAAADgoyhhQAAAAEDhAmFAAAAAgD3CYEAAAACAFOZgQAAAAMDM9GBAAAAAYGb+YEAAAADA9RhhQAAAAADXu2BAAAAAYGa+YEAAAADgeuRgQAAAAIDC9WBAAAAAoEdZYUAAAABguH5hQAAAAKCZOWFAAAAAYGYuYUAAAADA9UBhQAAAAEAzW2FAAAAAANfzYUAAAAAAAOBhQAAAACBcH2JAAAAAIIU7YkAAAACAPfJhQAAAAAAAuGFAAAAAQOFaYUAAAAAA12thQAAAACCuh2BAAAAAwPWAYEAAAADA9XhgQAAAAOB6TGBAAAAAYLjeX0AAAADAHqVfQAAAAMDMJGBAAAAAQApPYEAAAADgoxBgQAAAAEAK119AAAAAYLiuX0AAAABgZg5gQAAAAKBHGWBAAAAAIK5XYEAAAACgmYFgQAAAACBcz2BAAAAAgOupYEAAAACAPaJgQAAAAGCPkmBAAAAAoHBVYEAAAAAgrodgQAAAAKBwBWBAAAAA4FH4X0AAAACgmRlgQAAAAIDClV9AAAAAwPVoXkAAAADgo0BgQAAAAAAAoGBAAAAAgD2yYEAAAABAMythQAAAAIDrWWFAAAAAIK5vYUAAAAAgXJdhQAAAAADX62FAAAAAANfjYUAAAADAzNRhQAAAAMDM9GFAAAAAIFznYUAAAADgUWhiQAAAAKBHaWJAAAAAgD3qYUAAAAAgXCdiQAAAAAApVGJAAAAAoJkBYkAAAAAgrndiQAAAAGBmZmJAAAAA4FGoYkAAAABAM3NiQAAAAKBHkWJAAAAAgMJdYkAAAAAAAGhiQAAAAEAzK2JAAAAAgD2SYkAAAABAM3tiQAAAAKBwfWJAAAAAQOF6YkAAAACAFEZiQAAAAAAAcGJAAAAAYLiuYkAAAACgR9FiQAAAAIA90mJAAAAAQDNbY0AAAAAA12NjQAAAAAApdGNAAAAAQAo/Y0AAAABAM0tjQAAAACBcP2NAAAAAwPVYY0AAAABgj0JjQAAAAOB6PGNAAAAAACkMY0AAAACgmeFiQAAAAAApbGJAAAAAQOFSYkAAAADAzKxiQAAAAGC49mJAAAAAoHBNY0AAAACgcKVjQAAAAGBmhmNAAAAAIK5fY0AAAADAzARjQAAAAMD1OGNAAAAA4FF4Y0AAAACgmaFjQAAAAGC4hmNAAAAA4FHQY0AAAADgUdBjQAAAAEAKF2RAAAAAoEcpZEAAAAAgXDdkQAAAAOBR4GNAAAAA4FH4Y0AAAAAAAJBlQAAAAKCZUWVAAAAAYLhWZUAAAAAAKVxlQAAAAIDCbWVAAAAAAADgZUAAAADgeuxlQAAAAGBmXmVAAAAAYLhmZUAAAACgcGVlQAAAAKBwTWVAAAAAYLgWZUAAAAAgXEdlQAAAAKCZ2WVAAAAAAAD4ZUAAAAAA1wtmQAAAAADX02VAAAAAoJnBZUAAAABACidmQAAAACBcV2ZAAAAA4HqEZkAAAACAwh1mQAAAAGC4DmZAAAAAIK4/ZkAAAACgR1lmQAAAAEAKz2VAAAAA4FEYZkAAAAAA1zNmQAAAAMD1cGZAAAAAgMI9ZkAAAACAFBZmQAAAAEDhAmZAAAAAwPVQZkAAAACgcK1mQAAAAOBRaGZAAAAAIK6fZkAAAABgZo5mQAAAAAAAgGZAAAAAYGa2ZkAAAAAAAOBmQAAAAKBHmWZAAAAAANfbZkAAAABAMyNnQAAAAOCjSGdAAAAAoEdpZ0AAAABA4WpnQAAAAOCjSGdAAAAA4KO4Z0AAAAAAKYxnQAAAAIAUlmdAAAAAYI8aZ0AAAACAPRJnQAAAAOB6zGZAAAAAAABgZkAAAAAA11tmQAAAAIDCfWZAAAAAgD2KZkAAAACgcL1lQAAAAIA9mmZAAAAAwPXwZkAAAAAgrt9mQAAAAMDMJGdAAAAAQDMjZ0AAAAAA13tnQAAAAAAAmGdAAAAAgBS+Z0AAAACAwo1nQAAAAGBm9mdAAAAA4Hq8Z0AAAACA64lnQAAAAEAKd2dAAAAAQApXZ0AAAACA62lnQAAAAKCZKWdAAAAAoHBVZ0AAAADgUehmQAAAAEAKJ2dAAAAA4FEYZ0AAAACAFM5mQAAAACCux2ZAAAAAYI8CZ0AAAABA4apmQAAAAGC4ZmZAAAAAYGZWZkAAAACAPXpmQAAAAAAAsGZAAAAAAAAgZ0AAAACgR0lnQAAAACBcZ2dAAAAA4KN4Z0AAAABAM4tnQAAAAKBwdWdAAAAAQAr3ZkAAAAAAACBnQAAAAKBHCWdAAAAA4FFQZ0AAAADA9ahnQAAAAAAA4GdAAAAAQOGaZ0AAAACgmVloQAAAAEDh+mhAAAAAQDPbaEAAAACgmcloQAAAAIDCDWlAAAAAwPUAaUAAAACgmRFpQAAAAGBmJmlAAAAAgD0SaUAAAAAghQNpQAAAAOCjCGlAAAAAQAqPaEAAAACAFIZoQAAAAADXk2hAAAAAYI/yZ0AAAACAwrVnQAAAAIDCHWdAAAAAgOshZ0AAAADgeqxnQAAAAGBmLmdAAAAAwMz8ZkAAAACAFOZmQAAAAAAAGGdAAAAAIIU7Z0AAAACAFH5nQAAAAEAz02dAAAAA4KMYZUAAAABguF5kQAAAAGCPomRAAAAAYI/yZEAAAACAFNZkQAAAAKCZEWVAAAAAoJkRZUAAAACgR2FlQAAAAMD1iGVAAAAAwB49ZkAAAABA4UpmQAAAAKCZSWZAAAAA4FFgZkAAAADgesxmQAAAAEAKr2ZAAAAAQApfZkAAAABACi9mQAAAAOB63GVAAAAAgBS2ZUAAAACgR8llQAAAAMDMXGZAAAAA4FFIZkAAAAAgXP9lQAAAAAApfGZAAAAAAClMZkAAAABAM/tlQAAAAAAAkGZAAAAAIK4fZ0AAAADAHm1nQAAAAAAAkGdAAAAAgOs5Z0AAAABgZq5nQAAAAKCZmWdAAAAAIK7fZ0AAAABA4fpnQAAAAGBmTmhAAAAAANdraEAAAABgZj5oQAAAAMD1UGhAAAAAwMzcZ0AAAAAgro9nQAAAAIAURmdAAAAAQDNTZ0AAAACAFO5mQAAAAEAzc2dAAAAAQDPzZkAAAABA4eJmQAAAAEAzO2dAAAAAACmEZ0AAAACAwr1nQAAAAGCPumdAAAAAwB6NZ0AAAADA9XhnQAAAAIAUnmdAAAAAIK7XZ0AAAABguK5nQAAAAOCj8GdAAAAAwB6lZ0AAAAAghWNnQAAAAGBmzmdAAAAAYLjGZ0AAAABguO5nQAAAACCFc2hAAAAAQDPTZ0AAAAAAABBpQAAAAGCPqmhAAAAAgD36aEAAAACgmfFpQAAAAAAAiGpAAAAAYLg+akAAAADAzDRqQAAAAKBHMWpAAAAAQOHiakAAAADAzPxqQAAAAEDh6mlAAAAAoHCVaUAAAACgmalpQAAAAAApZGlAAAAAIK5vaUAAAADgUehoQAAAAGBmPmlAAAAAAAAAakAAAADgevRpQAAAAGBmBmpAAAAAIK6fakAAAADgo8BqQAAAAAAAgGtAAAAAwMzEa0AAAADAzGRsQAAAAGCPwmxAAAAAgOuhbEAAAABgZuZsQAAAAEDh4mxAAAAAYGbGbEAAAAAAACBtQAAAACBcF21AAAAAwMzsbEAAAABA4UJsQAAAAGC4RmxAAAAAAClcbEAAAADgeqRsQAAAAAAAkGxAAAAAwPVAbEAAAAAAAOBrQAAAACBc52tAAAAAwMwkbEAAAAAghStsQAAAAEDhmmxAAAAAACmMbEAAAADgo/BrQAAAAGC4tmtAAAAAwMxsa0AAAACAPbprQAAAAIA98mtAAAAAwMwUbEAAAADgUVBsQAAAAMD1+GxAAAAAgBRubUAAAADgo3BtQAAAAMDMjG1AAAAAIIVzbUAAAADgozhuQAAAAOB6DG5AAAAAYGa+bUAAAACgRwluQAAAAAAA6G1AAAAA4KNQbkAAAACAPcptQAAAAMAe9W1AAAAAgOtZbUAAAACgcD1tQAAAAIAULm1AAAAAgMLlbEAAAACgcM1sQAAAAOB6vGxAAAAAoJmpbEAAAABgj1psQAAAAAApJGxAAAAAgOvpa0AAAABACjdrQAAAAEDhqmpAAAAAwB5Fa0AAAABACn9rQAAAAADXk2pA",
          "dtype": "f8"
         },
         "low": {
          "bdata": "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",
          "dtype": "f8"
         },
         "open": {
          "bdata": "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",
          "dtype": "f8"
         },
         "type": "ohlc",
         "x": [
          "2022-03-01T00:00:00-05:00",
          "2022-03-02T00:00:00-05:00",
          "2022-03-03T00:00:00-05:00",
          "2022-03-04T00:00:00-05:00",
          "2022-03-07T00:00:00-05:00",
          "2022-03-08T00:00:00-05:00",
          "2022-03-09T00:00:00-05:00",
          "2022-03-10T00:00:00-05:00",
          "2022-03-11T00:00:00-05:00",
          "2022-03-14T00:00:00-04:00",
          "2022-03-15T00:00:00-04:00",
          "2022-03-16T00:00:00-04:00",
          "2022-03-17T00:00:00-04:00",
          "2022-03-18T00:00:00-04:00",
          "2022-03-21T00:00:00-04:00",
          "2022-03-22T00:00:00-04:00",
          "2022-03-23T00:00:00-04:00",
          "2022-03-24T00:00:00-04:00",
          "2022-03-25T00:00:00-04:00",
          "2022-03-28T00:00:00-04:00",
          "2022-03-29T00:00:00-04:00",
          "2022-03-30T00:00:00-04:00",
          "2022-03-31T00:00:00-04:00",
          "2022-04-01T00:00:00-04:00",
          "2022-04-04T00:00:00-04:00",
          "2022-04-05T00:00:00-04:00",
          "2022-04-06T00:00:00-04:00",
          "2022-04-07T00:00:00-04:00",
          "2022-04-08T00:00:00-04:00",
          "2022-04-11T00:00:00-04:00",
          "2022-04-12T00:00:00-04:00",
          "2022-04-13T00:00:00-04:00",
          "2022-04-14T00:00:00-04:00",
          "2022-04-18T00:00:00-04:00",
          "2022-04-19T00:00:00-04:00",
          "2022-04-20T00:00:00-04:00",
          "2022-04-21T00:00:00-04:00",
          "2022-04-22T00:00:00-04:00",
          "2022-04-25T00:00:00-04:00",
          "2022-04-26T00:00:00-04:00",
          "2022-04-27T00:00:00-04:00",
          "2022-04-28T00:00:00-04:00",
          "2022-04-29T00:00:00-04:00",
          "2022-05-02T00:00:00-04:00",
          "2022-05-03T00:00:00-04:00",
          "2022-05-04T00:00:00-04:00",
          "2022-05-05T00:00:00-04:00",
          "2022-05-06T00:00:00-04:00",
          "2022-05-09T00:00:00-04:00",
          "2022-05-10T00:00:00-04:00",
          "2022-05-11T00:00:00-04:00",
          "2022-05-12T00:00:00-04:00",
          "2022-05-13T00:00:00-04:00",
          "2022-05-16T00:00:00-04:00",
          "2022-05-17T00:00:00-04:00",
          "2022-05-18T00:00:00-04:00",
          "2022-05-19T00:00:00-04:00",
          "2022-05-20T00:00:00-04:00",
          "2022-05-23T00:00:00-04:00",
          "2022-05-24T00:00:00-04:00",
          "2022-05-25T00:00:00-04:00",
          "2022-05-26T00:00:00-04:00",
          "2022-05-27T00:00:00-04:00",
          "2022-05-31T00:00:00-04:00",
          "2022-06-01T00:00:00-04:00",
          "2022-06-02T00:00:00-04:00",
          "2022-06-03T00:00:00-04:00",
          "2022-06-06T00:00:00-04:00",
          "2022-06-07T00:00:00-04:00",
          "2022-06-08T00:00:00-04:00",
          "2022-06-09T00:00:00-04:00",
          "2022-06-10T00:00:00-04:00",
          "2022-06-13T00:00:00-04:00",
          "2022-06-14T00:00:00-04:00",
          "2022-06-15T00:00:00-04:00",
          "2022-06-16T00:00:00-04:00",
          "2022-06-17T00:00:00-04:00",
          "2022-06-21T00:00:00-04:00",
          "2022-06-22T00:00:00-04:00",
          "2022-06-23T00:00:00-04:00",
          "2022-06-24T00:00:00-04:00",
          "2022-06-27T00:00:00-04:00",
          "2022-06-28T00:00:00-04:00",
          "2022-06-29T00:00:00-04:00",
          "2022-06-30T00:00:00-04:00",
          "2022-07-01T00:00:00-04:00",
          "2022-07-05T00:00:00-04:00",
          "2022-07-06T00:00:00-04:00",
          "2022-07-07T00:00:00-04:00",
          "2022-07-08T00:00:00-04:00",
          "2022-07-11T00:00:00-04:00",
          "2022-07-12T00:00:00-04:00",
          "2022-07-13T00:00:00-04:00",
          "2022-07-14T00:00:00-04:00",
          "2022-07-15T00:00:00-04:00",
          "2022-07-18T00:00:00-04:00",
          "2022-07-19T00:00:00-04:00",
          "2022-07-20T00:00:00-04:00",
          "2022-07-21T00:00:00-04:00",
          "2022-07-22T00:00:00-04:00",
          "2022-07-25T00:00:00-04:00",
          "2022-07-26T00:00:00-04:00",
          "2022-07-27T00:00:00-04:00",
          "2022-07-28T00:00:00-04:00",
          "2022-07-29T00:00:00-04:00",
          "2022-08-01T00:00:00-04:00",
          "2022-08-02T00:00:00-04:00",
          "2022-08-03T00:00:00-04:00",
          "2022-08-04T00:00:00-04:00",
          "2022-08-05T00:00:00-04:00",
          "2022-08-08T00:00:00-04:00",
          "2022-08-09T00:00:00-04:00",
          "2022-08-10T00:00:00-04:00",
          "2022-08-11T00:00:00-04:00",
          "2022-08-12T00:00:00-04:00",
          "2022-08-15T00:00:00-04:00",
          "2022-08-16T00:00:00-04:00",
          "2022-08-17T00:00:00-04:00",
          "2022-08-18T00:00:00-04:00",
          "2022-08-19T00:00:00-04:00",
          "2022-08-22T00:00:00-04:00",
          "2022-08-23T00:00:00-04:00",
          "2022-08-24T00:00:00-04:00",
          "2022-08-25T00:00:00-04:00",
          "2022-08-26T00:00:00-04:00",
          "2022-08-29T00:00:00-04:00",
          "2022-08-30T00:00:00-04:00",
          "2022-08-31T00:00:00-04:00",
          "2022-09-01T00:00:00-04:00",
          "2022-09-02T00:00:00-04:00",
          "2022-09-06T00:00:00-04:00",
          "2022-09-07T00:00:00-04:00",
          "2022-09-08T00:00:00-04:00",
          "2022-09-09T00:00:00-04:00",
          "2022-09-12T00:00:00-04:00",
          "2022-09-13T00:00:00-04:00",
          "2022-09-14T00:00:00-04:00",
          "2022-09-15T00:00:00-04:00",
          "2022-09-16T00:00:00-04:00",
          "2022-09-19T00:00:00-04:00",
          "2022-09-20T00:00:00-04:00",
          "2022-09-21T00:00:00-04:00",
          "2022-09-22T00:00:00-04:00",
          "2022-09-23T00:00:00-04:00",
          "2022-09-26T00:00:00-04:00",
          "2022-09-27T00:00:00-04:00",
          "2022-09-28T00:00:00-04:00",
          "2022-09-29T00:00:00-04:00",
          "2022-09-30T00:00:00-04:00",
          "2022-10-03T00:00:00-04:00",
          "2022-10-04T00:00:00-04:00",
          "2022-10-05T00:00:00-04:00",
          "2022-10-06T00:00:00-04:00",
          "2022-10-07T00:00:00-04:00",
          "2022-10-10T00:00:00-04:00",
          "2022-10-11T00:00:00-04:00",
          "2022-10-12T00:00:00-04:00",
          "2022-10-13T00:00:00-04:00",
          "2022-10-14T00:00:00-04:00",
          "2022-10-17T00:00:00-04:00",
          "2022-10-18T00:00:00-04:00",
          "2022-10-19T00:00:00-04:00",
          "2022-10-20T00:00:00-04:00",
          "2022-10-21T00:00:00-04:00",
          "2022-10-24T00:00:00-04:00",
          "2022-10-25T00:00:00-04:00",
          "2022-10-26T00:00:00-04:00",
          "2022-10-27T00:00:00-04:00",
          "2022-10-28T00:00:00-04:00",
          "2022-10-31T00:00:00-04:00",
          "2022-11-01T00:00:00-04:00",
          "2022-11-02T00:00:00-04:00",
          "2022-11-03T00:00:00-04:00",
          "2022-11-04T00:00:00-04:00",
          "2022-11-07T00:00:00-05:00",
          "2022-11-08T00:00:00-05:00",
          "2022-11-09T00:00:00-05:00",
          "2022-11-10T00:00:00-05:00",
          "2022-11-11T00:00:00-05:00",
          "2022-11-14T00:00:00-05:00",
          "2022-11-15T00:00:00-05:00",
          "2022-11-16T00:00:00-05:00",
          "2022-11-17T00:00:00-05:00",
          "2022-11-18T00:00:00-05:00",
          "2022-11-21T00:00:00-05:00",
          "2022-11-22T00:00:00-05:00",
          "2022-11-23T00:00:00-05:00",
          "2022-11-25T00:00:00-05:00",
          "2022-11-28T00:00:00-05:00",
          "2022-11-29T00:00:00-05:00",
          "2022-11-30T00:00:00-05:00",
          "2022-12-01T00:00:00-05:00",
          "2022-12-02T00:00:00-05:00",
          "2022-12-05T00:00:00-05:00",
          "2022-12-06T00:00:00-05:00",
          "2022-12-07T00:00:00-05:00",
          "2022-12-08T00:00:00-05:00",
          "2022-12-09T00:00:00-05:00",
          "2022-12-12T00:00:00-05:00",
          "2022-12-13T00:00:00-05:00",
          "2022-12-14T00:00:00-05:00",
          "2022-12-15T00:00:00-05:00",
          "2022-12-16T00:00:00-05:00",
          "2022-12-19T00:00:00-05:00",
          "2022-12-20T00:00:00-05:00",
          "2022-12-21T00:00:00-05:00",
          "2022-12-22T00:00:00-05:00",
          "2022-12-23T00:00:00-05:00",
          "2022-12-27T00:00:00-05:00",
          "2022-12-28T00:00:00-05:00",
          "2022-12-29T00:00:00-05:00",
          "2022-12-30T00:00:00-05:00",
          "2023-01-03T00:00:00-05:00",
          "2023-01-04T00:00:00-05:00",
          "2023-01-05T00:00:00-05:00",
          "2023-01-06T00:00:00-05:00",
          "2023-01-09T00:00:00-05:00",
          "2023-01-10T00:00:00-05:00",
          "2023-01-11T00:00:00-05:00",
          "2023-01-12T00:00:00-05:00",
          "2023-01-13T00:00:00-05:00",
          "2023-01-17T00:00:00-05:00",
          "2023-01-18T00:00:00-05:00",
          "2023-01-19T00:00:00-05:00",
          "2023-01-20T00:00:00-05:00",
          "2023-01-23T00:00:00-05:00",
          "2023-01-24T00:00:00-05:00",
          "2023-01-25T00:00:00-05:00",
          "2023-01-26T00:00:00-05:00",
          "2023-01-27T00:00:00-05:00",
          "2023-01-30T00:00:00-05:00",
          "2023-01-31T00:00:00-05:00",
          "2023-02-01T00:00:00-05:00",
          "2023-02-02T00:00:00-05:00",
          "2023-02-03T00:00:00-05:00",
          "2023-02-06T00:00:00-05:00",
          "2023-02-07T00:00:00-05:00",
          "2023-02-08T00:00:00-05:00",
          "2023-02-09T00:00:00-05:00",
          "2023-02-10T00:00:00-05:00",
          "2023-02-13T00:00:00-05:00",
          "2023-02-14T00:00:00-05:00",
          "2023-02-15T00:00:00-05:00",
          "2023-02-16T00:00:00-05:00",
          "2023-02-17T00:00:00-05:00",
          "2023-02-21T00:00:00-05:00",
          "2023-02-22T00:00:00-05:00",
          "2023-02-23T00:00:00-05:00",
          "2023-02-24T00:00:00-05:00",
          "2023-02-27T00:00:00-05:00",
          "2023-02-28T00:00:00-05:00",
          "2023-03-01T00:00:00-05:00",
          "2023-03-02T00:00:00-05:00",
          "2023-03-03T00:00:00-05:00",
          "2023-03-06T00:00:00-05:00",
          "2023-03-07T00:00:00-05:00",
          "2023-03-08T00:00:00-05:00",
          "2023-03-09T00:00:00-05:00",
          "2023-03-10T00:00:00-05:00",
          "2023-03-13T00:00:00-04:00",
          "2023-03-14T00:00:00-04:00",
          "2023-03-15T00:00:00-04:00",
          "2023-03-16T00:00:00-04:00",
          "2023-03-17T00:00:00-04:00",
          "2023-03-20T00:00:00-04:00",
          "2023-03-21T00:00:00-04:00",
          "2023-03-22T00:00:00-04:00",
          "2023-03-23T00:00:00-04:00",
          "2023-03-24T00:00:00-04:00",
          "2023-03-27T00:00:00-04:00",
          "2023-03-28T00:00:00-04:00",
          "2023-03-29T00:00:00-04:00",
          "2023-03-30T00:00:00-04:00",
          "2023-03-31T00:00:00-04:00",
          "2023-04-03T00:00:00-04:00",
          "2023-04-04T00:00:00-04:00",
          "2023-04-05T00:00:00-04:00",
          "2023-04-06T00:00:00-04:00",
          "2023-04-10T00:00:00-04:00",
          "2023-04-11T00:00:00-04:00",
          "2023-04-12T00:00:00-04:00",
          "2023-04-13T00:00:00-04:00",
          "2023-04-14T00:00:00-04:00",
          "2023-04-17T00:00:00-04:00",
          "2023-04-18T00:00:00-04:00",
          "2023-04-19T00:00:00-04:00",
          "2023-04-20T00:00:00-04:00",
          "2023-04-21T00:00:00-04:00",
          "2023-04-24T00:00:00-04:00",
          "2023-04-25T00:00:00-04:00",
          "2023-04-26T00:00:00-04:00",
          "2023-04-27T00:00:00-04:00",
          "2023-04-28T00:00:00-04:00",
          "2023-05-01T00:00:00-04:00",
          "2023-05-02T00:00:00-04:00",
          "2023-05-03T00:00:00-04:00",
          "2023-05-04T00:00:00-04:00",
          "2023-05-05T00:00:00-04:00",
          "2023-05-08T00:00:00-04:00",
          "2023-05-09T00:00:00-04:00",
          "2023-05-10T00:00:00-04:00",
          "2023-05-11T00:00:00-04:00",
          "2023-05-12T00:00:00-04:00",
          "2023-05-15T00:00:00-04:00",
          "2023-05-16T00:00:00-04:00",
          "2023-05-17T00:00:00-04:00",
          "2023-05-18T00:00:00-04:00",
          "2023-05-19T00:00:00-04:00",
          "2023-05-22T00:00:00-04:00",
          "2023-05-23T00:00:00-04:00",
          "2023-05-24T00:00:00-04:00",
          "2023-05-25T00:00:00-04:00",
          "2023-05-26T00:00:00-04:00",
          "2023-05-30T00:00:00-04:00",
          "2023-05-31T00:00:00-04:00",
          "2023-06-01T00:00:00-04:00",
          "2023-06-02T00:00:00-04:00",
          "2023-06-05T00:00:00-04:00",
          "2023-06-06T00:00:00-04:00",
          "2023-06-07T00:00:00-04:00",
          "2023-06-08T00:00:00-04:00",
          "2023-06-09T00:00:00-04:00",
          "2023-06-12T00:00:00-04:00",
          "2023-06-13T00:00:00-04:00",
          "2023-06-14T00:00:00-04:00",
          "2023-06-15T00:00:00-04:00",
          "2023-06-16T00:00:00-04:00",
          "2023-06-20T00:00:00-04:00",
          "2023-06-21T00:00:00-04:00",
          "2023-06-22T00:00:00-04:00",
          "2023-06-23T00:00:00-04:00",
          "2023-06-26T00:00:00-04:00",
          "2023-06-27T00:00:00-04:00",
          "2023-06-28T00:00:00-04:00",
          "2023-06-29T00:00:00-04:00",
          "2023-06-30T00:00:00-04:00",
          "2023-07-03T00:00:00-04:00",
          "2023-07-05T00:00:00-04:00",
          "2023-07-06T00:00:00-04:00",
          "2023-07-07T00:00:00-04:00",
          "2023-07-10T00:00:00-04:00",
          "2023-07-11T00:00:00-04:00",
          "2023-07-12T00:00:00-04:00",
          "2023-07-13T00:00:00-04:00",
          "2023-07-14T00:00:00-04:00",
          "2023-07-17T00:00:00-04:00",
          "2023-07-18T00:00:00-04:00",
          "2023-07-19T00:00:00-04:00",
          "2023-07-20T00:00:00-04:00",
          "2023-07-21T00:00:00-04:00",
          "2023-07-24T00:00:00-04:00",
          "2023-07-25T00:00:00-04:00",
          "2023-07-26T00:00:00-04:00",
          "2023-07-27T00:00:00-04:00",
          "2023-07-28T00:00:00-04:00",
          "2023-07-31T00:00:00-04:00",
          "2023-08-01T00:00:00-04:00",
          "2023-08-02T00:00:00-04:00",
          "2023-08-03T00:00:00-04:00",
          "2023-08-04T00:00:00-04:00",
          "2023-08-07T00:00:00-04:00",
          "2023-08-08T00:00:00-04:00",
          "2023-08-09T00:00:00-04:00",
          "2023-08-10T00:00:00-04:00",
          "2023-08-11T00:00:00-04:00",
          "2023-08-14T00:00:00-04:00",
          "2023-08-15T00:00:00-04:00",
          "2023-08-16T00:00:00-04:00",
          "2023-08-17T00:00:00-04:00",
          "2023-08-18T00:00:00-04:00",
          "2023-08-21T00:00:00-04:00",
          "2023-08-22T00:00:00-04:00",
          "2023-08-23T00:00:00-04:00",
          "2023-08-24T00:00:00-04:00",
          "2023-08-25T00:00:00-04:00",
          "2023-08-28T00:00:00-04:00",
          "2023-08-29T00:00:00-04:00",
          "2023-08-30T00:00:00-04:00",
          "2023-08-31T00:00:00-04:00",
          "2023-09-01T00:00:00-04:00",
          "2023-09-05T00:00:00-04:00",
          "2023-09-06T00:00:00-04:00",
          "2023-09-07T00:00:00-04:00",
          "2023-09-08T00:00:00-04:00",
          "2023-09-11T00:00:00-04:00",
          "2023-09-12T00:00:00-04:00",
          "2023-09-13T00:00:00-04:00",
          "2023-09-14T00:00:00-04:00",
          "2023-09-15T00:00:00-04:00",
          "2023-09-18T00:00:00-04:00",
          "2023-09-19T00:00:00-04:00",
          "2023-09-20T00:00:00-04:00",
          "2023-09-21T00:00:00-04:00",
          "2023-09-22T00:00:00-04:00",
          "2023-09-25T00:00:00-04:00",
          "2023-09-26T00:00:00-04:00",
          "2023-09-27T00:00:00-04:00",
          "2023-09-28T00:00:00-04:00",
          "2023-09-29T00:00:00-04:00",
          "2023-10-02T00:00:00-04:00",
          "2023-10-03T00:00:00-04:00",
          "2023-10-04T00:00:00-04:00",
          "2023-10-05T00:00:00-04:00",
          "2023-10-06T00:00:00-04:00",
          "2023-10-09T00:00:00-04:00",
          "2023-10-10T00:00:00-04:00",
          "2023-10-11T00:00:00-04:00",
          "2023-10-12T00:00:00-04:00",
          "2023-10-13T00:00:00-04:00",
          "2023-10-16T00:00:00-04:00",
          "2023-10-17T00:00:00-04:00",
          "2023-10-18T00:00:00-04:00",
          "2023-10-19T00:00:00-04:00",
          "2023-10-20T00:00:00-04:00",
          "2023-10-23T00:00:00-04:00",
          "2023-10-24T00:00:00-04:00",
          "2023-10-25T00:00:00-04:00",
          "2023-10-26T00:00:00-04:00",
          "2023-10-27T00:00:00-04:00",
          "2023-10-30T00:00:00-04:00",
          "2023-10-31T00:00:00-04:00",
          "2023-11-01T00:00:00-04:00",
          "2023-11-02T00:00:00-04:00",
          "2023-11-03T00:00:00-04:00",
          "2023-11-06T00:00:00-05:00",
          "2023-11-07T00:00:00-05:00",
          "2023-11-08T00:00:00-05:00",
          "2023-11-09T00:00:00-05:00",
          "2023-11-10T00:00:00-05:00",
          "2023-11-13T00:00:00-05:00",
          "2023-11-14T00:00:00-05:00",
          "2023-11-15T00:00:00-05:00",
          "2023-11-16T00:00:00-05:00",
          "2023-11-17T00:00:00-05:00",
          "2023-11-20T00:00:00-05:00",
          "2023-11-21T00:00:00-05:00",
          "2023-11-22T00:00:00-05:00",
          "2023-11-24T00:00:00-05:00",
          "2023-11-27T00:00:00-05:00",
          "2023-11-28T00:00:00-05:00",
          "2023-11-29T00:00:00-05:00",
          "2023-11-30T00:00:00-05:00",
          "2023-12-01T00:00:00-05:00",
          "2023-12-04T00:00:00-05:00",
          "2023-12-05T00:00:00-05:00",
          "2023-12-06T00:00:00-05:00",
          "2023-12-07T00:00:00-05:00",
          "2023-12-08T00:00:00-05:00",
          "2023-12-11T00:00:00-05:00",
          "2023-12-12T00:00:00-05:00",
          "2023-12-13T00:00:00-05:00",
          "2023-12-14T00:00:00-05:00",
          "2023-12-15T00:00:00-05:00",
          "2023-12-18T00:00:00-05:00",
          "2023-12-19T00:00:00-05:00",
          "2023-12-20T00:00:00-05:00",
          "2023-12-21T00:00:00-05:00",
          "2023-12-22T00:00:00-05:00",
          "2023-12-26T00:00:00-05:00",
          "2023-12-27T00:00:00-05:00",
          "2023-12-28T00:00:00-05:00",
          "2023-12-29T00:00:00-05:00",
          "2024-01-02T00:00:00-05:00",
          "2024-01-03T00:00:00-05:00",
          "2024-01-04T00:00:00-05:00",
          "2024-01-05T00:00:00-05:00",
          "2024-01-08T00:00:00-05:00",
          "2024-01-09T00:00:00-05:00",
          "2024-01-10T00:00:00-05:00",
          "2024-01-11T00:00:00-05:00",
          "2024-01-12T00:00:00-05:00",
          "2024-01-16T00:00:00-05:00",
          "2024-01-17T00:00:00-05:00",
          "2024-01-18T00:00:00-05:00",
          "2024-01-19T00:00:00-05:00",
          "2024-01-22T00:00:00-05:00",
          "2024-01-23T00:00:00-05:00",
          "2024-01-24T00:00:00-05:00",
          "2024-01-25T00:00:00-05:00",
          "2024-01-26T00:00:00-05:00",
          "2024-01-29T00:00:00-05:00",
          "2024-01-30T00:00:00-05:00",
          "2024-01-31T00:00:00-05:00",
          "2024-02-01T00:00:00-05:00",
          "2024-02-02T00:00:00-05:00",
          "2024-02-05T00:00:00-05:00",
          "2024-02-06T00:00:00-05:00",
          "2024-02-07T00:00:00-05:00",
          "2024-02-08T00:00:00-05:00",
          "2024-02-09T00:00:00-05:00",
          "2024-02-12T00:00:00-05:00",
          "2024-02-13T00:00:00-05:00",
          "2024-02-14T00:00:00-05:00",
          "2024-02-15T00:00:00-05:00",
          "2024-02-16T00:00:00-05:00",
          "2024-02-20T00:00:00-05:00",
          "2024-02-21T00:00:00-05:00",
          "2024-02-22T00:00:00-05:00",
          "2024-02-23T00:00:00-05:00",
          "2024-02-26T00:00:00-05:00",
          "2024-02-27T00:00:00-05:00",
          "2024-02-28T00:00:00-05:00",
          "2024-02-29T00:00:00-05:00",
          "2024-03-01T00:00:00-05:00",
          "2024-03-04T00:00:00-05:00",
          "2024-03-05T00:00:00-05:00",
          "2024-03-06T00:00:00-05:00",
          "2024-03-07T00:00:00-05:00",
          "2024-03-08T00:00:00-05:00",
          "2024-03-11T00:00:00-04:00",
          "2024-03-12T00:00:00-04:00",
          "2024-03-13T00:00:00-04:00",
          "2024-03-14T00:00:00-04:00",
          "2024-03-15T00:00:00-04:00",
          "2024-03-18T00:00:00-04:00",
          "2024-03-19T00:00:00-04:00",
          "2024-03-20T00:00:00-04:00",
          "2024-03-21T00:00:00-04:00",
          "2024-03-22T00:00:00-04:00",
          "2024-03-25T00:00:00-04:00",
          "2024-03-26T00:00:00-04:00",
          "2024-03-27T00:00:00-04:00",
          "2024-03-28T00:00:00-04:00",
          "2024-04-01T00:00:00-04:00",
          "2024-04-02T00:00:00-04:00",
          "2024-04-03T00:00:00-04:00",
          "2024-04-04T00:00:00-04:00",
          "2024-04-05T00:00:00-04:00",
          "2024-04-08T00:00:00-04:00",
          "2024-04-09T00:00:00-04:00",
          "2024-04-10T00:00:00-04:00",
          "2024-04-11T00:00:00-04:00",
          "2024-04-12T00:00:00-04:00",
          "2024-04-15T00:00:00-04:00",
          "2024-04-16T00:00:00-04:00",
          "2024-04-17T00:00:00-04:00",
          "2024-04-18T00:00:00-04:00",
          "2024-04-19T00:00:00-04:00",
          "2024-04-22T00:00:00-04:00",
          "2024-04-23T00:00:00-04:00",
          "2024-04-24T00:00:00-04:00",
          "2024-04-25T00:00:00-04:00",
          "2024-04-26T00:00:00-04:00",
          "2024-04-29T00:00:00-04:00",
          "2024-04-30T00:00:00-04:00",
          "2024-05-01T00:00:00-04:00",
          "2024-05-02T00:00:00-04:00",
          "2024-05-03T00:00:00-04:00",
          "2024-05-06T00:00:00-04:00",
          "2024-05-07T00:00:00-04:00",
          "2024-05-08T00:00:00-04:00",
          "2024-05-09T00:00:00-04:00",
          "2024-05-10T00:00:00-04:00",
          "2024-05-13T00:00:00-04:00",
          "2024-05-14T00:00:00-04:00",
          "2024-05-15T00:00:00-04:00",
          "2024-05-16T00:00:00-04:00",
          "2024-05-17T00:00:00-04:00",
          "2024-05-20T00:00:00-04:00",
          "2024-05-21T00:00:00-04:00",
          "2024-05-22T00:00:00-04:00",
          "2024-05-23T00:00:00-04:00",
          "2024-05-24T00:00:00-04:00",
          "2024-05-28T00:00:00-04:00",
          "2024-05-29T00:00:00-04:00",
          "2024-05-30T00:00:00-04:00",
          "2024-05-31T00:00:00-04:00",
          "2024-06-03T00:00:00-04:00",
          "2024-06-04T00:00:00-04:00",
          "2024-06-05T00:00:00-04:00",
          "2024-06-06T00:00:00-04:00",
          "2024-06-07T00:00:00-04:00",
          "2024-06-10T00:00:00-04:00",
          "2024-06-11T00:00:00-04:00",
          "2024-06-12T00:00:00-04:00",
          "2024-06-13T00:00:00-04:00",
          "2024-06-14T00:00:00-04:00",
          "2024-06-17T00:00:00-04:00",
          "2024-06-18T00:00:00-04:00",
          "2024-06-20T00:00:00-04:00",
          "2024-06-21T00:00:00-04:00",
          "2024-06-24T00:00:00-04:00",
          "2024-06-25T00:00:00-04:00",
          "2024-06-26T00:00:00-04:00",
          "2024-06-27T00:00:00-04:00",
          "2024-06-28T00:00:00-04:00",
          "2024-07-01T00:00:00-04:00",
          "2024-07-02T00:00:00-04:00",
          "2024-07-03T00:00:00-04:00",
          "2024-07-05T00:00:00-04:00",
          "2024-07-08T00:00:00-04:00",
          "2024-07-09T00:00:00-04:00",
          "2024-07-10T00:00:00-04:00",
          "2024-07-11T00:00:00-04:00",
          "2024-07-12T00:00:00-04:00",
          "2024-07-15T00:00:00-04:00",
          "2024-07-16T00:00:00-04:00",
          "2024-07-17T00:00:00-04:00",
          "2024-07-18T00:00:00-04:00",
          "2024-07-19T00:00:00-04:00",
          "2024-07-22T00:00:00-04:00",
          "2024-07-23T00:00:00-04:00",
          "2024-07-24T00:00:00-04:00",
          "2024-07-25T00:00:00-04:00",
          "2024-07-26T00:00:00-04:00",
          "2024-07-29T00:00:00-04:00",
          "2024-07-30T00:00:00-04:00",
          "2024-07-31T00:00:00-04:00",
          "2024-08-01T00:00:00-04:00",
          "2024-08-02T00:00:00-04:00",
          "2024-08-05T00:00:00-04:00",
          "2024-08-06T00:00:00-04:00",
          "2024-08-07T00:00:00-04:00",
          "2024-08-08T00:00:00-04:00",
          "2024-08-09T00:00:00-04:00",
          "2024-08-12T00:00:00-04:00",
          "2024-08-13T00:00:00-04:00",
          "2024-08-14T00:00:00-04:00",
          "2024-08-15T00:00:00-04:00",
          "2024-08-16T00:00:00-04:00",
          "2024-08-19T00:00:00-04:00",
          "2024-08-20T00:00:00-04:00",
          "2024-08-21T00:00:00-04:00",
          "2024-08-22T00:00:00-04:00",
          "2024-08-23T00:00:00-04:00",
          "2024-08-26T00:00:00-04:00",
          "2024-08-27T00:00:00-04:00",
          "2024-08-28T00:00:00-04:00",
          "2024-08-29T00:00:00-04:00",
          "2024-08-30T00:00:00-04:00",
          "2024-09-03T00:00:00-04:00",
          "2024-09-04T00:00:00-04:00",
          "2024-09-05T00:00:00-04:00",
          "2024-09-06T00:00:00-04:00",
          "2024-09-09T00:00:00-04:00",
          "2024-09-10T00:00:00-04:00",
          "2024-09-11T00:00:00-04:00",
          "2024-09-12T00:00:00-04:00",
          "2024-09-13T00:00:00-04:00",
          "2024-09-16T00:00:00-04:00",
          "2024-09-17T00:00:00-04:00",
          "2024-09-18T00:00:00-04:00",
          "2024-09-19T00:00:00-04:00",
          "2024-09-20T00:00:00-04:00",
          "2024-09-23T00:00:00-04:00",
          "2024-09-24T00:00:00-04:00",
          "2024-09-25T00:00:00-04:00",
          "2024-09-26T00:00:00-04:00",
          "2024-09-27T00:00:00-04:00",
          "2024-09-30T00:00:00-04:00",
          "2024-10-01T00:00:00-04:00",
          "2024-10-02T00:00:00-04:00",
          "2024-10-03T00:00:00-04:00",
          "2024-10-04T00:00:00-04:00",
          "2024-10-07T00:00:00-04:00",
          "2024-10-08T00:00:00-04:00",
          "2024-10-09T00:00:00-04:00",
          "2024-10-10T00:00:00-04:00",
          "2024-10-11T00:00:00-04:00",
          "2024-10-14T00:00:00-04:00",
          "2024-10-15T00:00:00-04:00",
          "2024-10-16T00:00:00-04:00",
          "2024-10-17T00:00:00-04:00",
          "2024-10-18T00:00:00-04:00",
          "2024-10-21T00:00:00-04:00",
          "2024-10-22T00:00:00-04:00",
          "2024-10-23T00:00:00-04:00",
          "2024-10-24T00:00:00-04:00",
          "2024-10-25T00:00:00-04:00",
          "2024-10-28T00:00:00-04:00",
          "2024-10-29T00:00:00-04:00",
          "2024-10-30T00:00:00-04:00",
          "2024-10-31T00:00:00-04:00",
          "2024-11-01T00:00:00-04:00",
          "2024-11-04T00:00:00-05:00",
          "2024-11-05T00:00:00-05:00",
          "2024-11-06T00:00:00-05:00",
          "2024-11-07T00:00:00-05:00",
          "2024-11-08T00:00:00-05:00",
          "2024-11-11T00:00:00-05:00",
          "2024-11-12T00:00:00-05:00",
          "2024-11-13T00:00:00-05:00",
          "2024-11-14T00:00:00-05:00",
          "2024-11-15T00:00:00-05:00",
          "2024-11-18T00:00:00-05:00",
          "2024-11-19T00:00:00-05:00",
          "2024-11-20T00:00:00-05:00",
          "2024-11-21T00:00:00-05:00",
          "2024-11-22T00:00:00-05:00",
          "2024-11-25T00:00:00-05:00",
          "2024-11-26T00:00:00-05:00",
          "2024-11-27T00:00:00-05:00",
          "2024-11-29T00:00:00-05:00",
          "2024-12-02T00:00:00-05:00",
          "2024-12-03T00:00:00-05:00",
          "2024-12-04T00:00:00-05:00",
          "2024-12-05T00:00:00-05:00",
          "2024-12-06T00:00:00-05:00",
          "2024-12-09T00:00:00-05:00",
          "2024-12-10T00:00:00-05:00",
          "2024-12-11T00:00:00-05:00",
          "2024-12-12T00:00:00-05:00",
          "2024-12-13T00:00:00-05:00",
          "2024-12-16T00:00:00-05:00",
          "2024-12-17T00:00:00-05:00",
          "2024-12-18T00:00:00-05:00",
          "2024-12-19T00:00:00-05:00",
          "2024-12-20T00:00:00-05:00",
          "2024-12-23T00:00:00-05:00",
          "2024-12-24T00:00:00-05:00",
          "2024-12-26T00:00:00-05:00",
          "2024-12-27T00:00:00-05:00",
          "2024-12-30T00:00:00-05:00",
          "2024-12-31T00:00:00-05:00",
          "2025-01-02T00:00:00-05:00",
          "2025-01-03T00:00:00-05:00",
          "2025-01-06T00:00:00-05:00",
          "2025-01-07T00:00:00-05:00",
          "2025-01-08T00:00:00-05:00",
          "2025-01-10T00:00:00-05:00",
          "2025-01-13T00:00:00-05:00",
          "2025-01-14T00:00:00-05:00",
          "2025-01-15T00:00:00-05:00",
          "2025-01-16T00:00:00-05:00",
          "2025-01-17T00:00:00-05:00",
          "2025-01-21T00:00:00-05:00",
          "2025-01-22T00:00:00-05:00",
          "2025-01-23T00:00:00-05:00",
          "2025-01-24T00:00:00-05:00",
          "2025-01-27T00:00:00-05:00",
          "2025-01-28T00:00:00-05:00",
          "2025-01-29T00:00:00-05:00",
          "2025-01-30T00:00:00-05:00",
          "2025-01-31T00:00:00-05:00",
          "2025-02-03T00:00:00-05:00",
          "2025-02-04T00:00:00-05:00",
          "2025-02-05T00:00:00-05:00",
          "2025-02-06T00:00:00-05:00",
          "2025-02-07T00:00:00-05:00",
          "2025-02-10T00:00:00-05:00",
          "2025-02-11T00:00:00-05:00",
          "2025-02-12T00:00:00-05:00",
          "2025-02-13T00:00:00-05:00",
          "2025-02-14T00:00:00-05:00",
          "2025-02-18T00:00:00-05:00",
          "2025-02-19T00:00:00-05:00",
          "2025-02-20T00:00:00-05:00",
          "2025-02-21T00:00:00-05:00",
          "2025-02-24T00:00:00-05:00",
          "2025-02-25T00:00:00-05:00",
          "2025-02-26T00:00:00-05:00",
          "2025-02-27T00:00:00-05:00",
          "2025-02-28T00:00:00-05:00"
         ]
        }
       ],
       "layout": {
        "template": {
         "data": {
          "bar": [
           {
            "error_x": {
             "color": "#f2f5fa"
            },
            "error_y": {
             "color": "#f2f5fa"
            },
            "marker": {
             "line": {
              "color": "rgb(17,17,17)",
              "width": 0.5
             },
             "pattern": {
              "fillmode": "overlay",
              "size": 10,
              "solidity": 0.2
             }
            },
            "type": "bar"
           }
          ],
          "barpolar": [
           {
            "marker": {
             "line": {
              "color": "rgb(17,17,17)",
              "width": 0.5
             },
             "pattern": {
              "fillmode": "overlay",
              "size": 10,
              "solidity": 0.2
             }
            },
            "type": "barpolar"
           }
          ],
          "carpet": [
           {
            "aaxis": {
             "endlinecolor": "#A2B1C6",
             "gridcolor": "#506784",
             "linecolor": "#506784",
             "minorgridcolor": "#506784",
             "startlinecolor": "#A2B1C6"
            },
            "baxis": {
             "endlinecolor": "#A2B1C6",
             "gridcolor": "#506784",
             "linecolor": "#506784",
             "minorgridcolor": "#506784",
             "startlinecolor": "#A2B1C6"
            },
            "type": "carpet"
           }
          ],
          "choropleth": [
           {
            "colorbar": {
             "outlinewidth": 0,
             "ticks": ""
            },
            "type": "choropleth"
           }
          ],
          "contour": [
           {
            "colorbar": {
             "outlinewidth": 0,
             "ticks": ""
            },
            "colorscale": [
             [
              0,
              "#0d0887"
             ],
             [
              0.1111111111111111,
              "#46039f"
             ],
             [
              0.2222222222222222,
              "#7201a8"
             ],
             [
              0.3333333333333333,
              "#9c179e"
             ],
             [
              0.4444444444444444,
              "#bd3786"
             ],
             [
              0.5555555555555556,
              "#d8576b"
             ],
             [
              0.6666666666666666,
              "#ed7953"
             ],
             [
              0.7777777777777778,
              "#fb9f3a"
             ],
             [
              0.8888888888888888,
              "#fdca26"
             ],
             [
              1,
              "#f0f921"
             ]
            ],
            "type": "contour"
           }
          ],
          "contourcarpet": [
           {
            "colorbar": {
             "outlinewidth": 0,
             "ticks": ""
            },
            "type": "contourcarpet"
           }
          ],
          "heatmap": [
           {
            "colorbar": {
             "outlinewidth": 0,
             "ticks": ""
            },
            "colorscale": [
             [
              0,
              "#0d0887"
             ],
             [
              0.1111111111111111,
              "#46039f"
             ],
             [
              0.2222222222222222,
              "#7201a8"
             ],
             [
              0.3333333333333333,
              "#9c179e"
             ],
             [
              0.4444444444444444,
              "#bd3786"
             ],
             [
              0.5555555555555556,
              "#d8576b"
             ],
             [
              0.6666666666666666,
              "#ed7953"
             ],
             [
              0.7777777777777778,
              "#fb9f3a"
             ],
             [
              0.8888888888888888,
              "#fdca26"
             ],
             [
              1,
              "#f0f921"
             ]
            ],
            "type": "heatmap"
           }
          ],
          "histogram": [
           {
            "marker": {
             "pattern": {
              "fillmode": "overlay",
              "size": 10,
              "solidity": 0.2
             }
            },
            "type": "histogram"
           }
          ],
          "histogram2d": [
           {
            "colorbar": {
             "outlinewidth": 0,
             "ticks": ""
            },
            "colorscale": [
             [
              0,
              "#0d0887"
             ],
             [
              0.1111111111111111,
              "#46039f"
             ],
             [
              0.2222222222222222,
              "#7201a8"
             ],
             [
              0.3333333333333333,
              "#9c179e"
             ],
             [
              0.4444444444444444,
              "#bd3786"
             ],
             [
              0.5555555555555556,
              "#d8576b"
             ],
             [
              0.6666666666666666,
              "#ed7953"
             ],
             [
              0.7777777777777778,
              "#fb9f3a"
             ],
             [
              0.8888888888888888,
              "#fdca26"
             ],
             [
              1,
              "#f0f921"
             ]
            ],
            "type": "histogram2d"
           }
          ],
          "histogram2dcontour": [
           {
            "colorbar": {
             "outlinewidth": 0,
             "ticks": ""
            },
            "colorscale": [
             [
              0,
              "#0d0887"
             ],
             [
              0.1111111111111111,
              "#46039f"
             ],
             [
              0.2222222222222222,
              "#7201a8"
             ],
             [
              0.3333333333333333,
              "#9c179e"
             ],
             [
              0.4444444444444444,
              "#bd3786"
             ],
             [
              0.5555555555555556,
              "#d8576b"
             ],
             [
              0.6666666666666666,
              "#ed7953"
             ],
             [
              0.7777777777777778,
              "#fb9f3a"
             ],
             [
              0.8888888888888888,
              "#fdca26"
             ],
             [
              1,
              "#f0f921"
             ]
            ],
            "type": "histogram2dcontour"
           }
          ],
          "mesh3d": [
           {
            "colorbar": {
             "outlinewidth": 0,
             "ticks": ""
            },
            "type": "mesh3d"
           }
          ],
          "parcoords": [
           {
            "line": {
             "colorbar": {
              "outlinewidth": 0,
              "ticks": ""
             }
            },
            "type": "parcoords"
           }
          ],
          "pie": [
           {
            "automargin": true,
            "type": "pie"
           }
          ],
          "scatter": [
           {
            "marker": {
             "line": {
              "color": "#283442"
             }
            },
            "type": "scatter"
           }
          ],
          "scatter3d": [
           {
            "line": {
             "colorbar": {
              "outlinewidth": 0,
              "ticks": ""
             }
            },
            "marker": {
             "colorbar": {
              "outlinewidth": 0,
              "ticks": ""
             }
            },
            "type": "scatter3d"
           }
          ],
          "scattercarpet": [
           {
            "marker": {
             "colorbar": {
              "outlinewidth": 0,
              "ticks": ""
             }
            },
            "type": "scattercarpet"
           }
          ],
          "scattergeo": [
           {
            "marker": {
             "colorbar": {
              "outlinewidth": 0,
              "ticks": ""
             }
            },
            "type": "scattergeo"
           }
          ],
          "scattergl": [
           {
            "marker": {
             "line": {
              "color": "#283442"
             }
            },
            "type": "scattergl"
           }
          ],
          "scattermap": [
           {
            "marker": {
             "colorbar": {
              "outlinewidth": 0,
              "ticks": ""
             }
            },
            "type": "scattermap"
           }
          ],
          "scattermapbox": [
           {
            "marker": {
             "colorbar": {
              "outlinewidth": 0,
              "ticks": ""
             }
            },
            "type": "scattermapbox"
           }
          ],
          "scatterpolar": [
           {
            "marker": {
             "colorbar": {
              "outlinewidth": 0,
              "ticks": ""
             }
            },
            "type": "scatterpolar"
           }
          ],
          "scatterpolargl": [
           {
            "marker": {
             "colorbar": {
              "outlinewidth": 0,
              "ticks": ""
             }
            },
            "type": "scatterpolargl"
           }
          ],
          "scatterternary": [
           {
            "marker": {
             "colorbar": {
              "outlinewidth": 0,
              "ticks": ""
             }
            },
            "type": "scatterternary"
           }
          ],
          "surface": [
           {
            "colorbar": {
             "outlinewidth": 0,
             "ticks": ""
            },
            "colorscale": [
             [
              0,
              "#0d0887"
             ],
             [
              0.1111111111111111,
              "#46039f"
             ],
             [
              0.2222222222222222,
              "#7201a8"
             ],
             [
              0.3333333333333333,
              "#9c179e"
             ],
             [
              0.4444444444444444,
              "#bd3786"
             ],
             [
              0.5555555555555556,
              "#d8576b"
             ],
             [
              0.6666666666666666,
              "#ed7953"
             ],
             [
              0.7777777777777778,
              "#fb9f3a"
             ],
             [
              0.8888888888888888,
              "#fdca26"
             ],
             [
              1,
              "#f0f921"
             ]
            ],
            "type": "surface"
           }
          ],
          "table": [
           {
            "cells": {
             "fill": {
              "color": "#506784"
             },
             "line": {
              "color": "rgb(17,17,17)"
             }
            },
            "header": {
             "fill": {
              "color": "#2a3f5f"
             },
             "line": {
              "color": "rgb(17,17,17)"
             }
            },
            "type": "table"
           }
          ]
         },
         "layout": {
          "annotationdefaults": {
           "arrowcolor": "#f2f5fa",
           "arrowhead": 0,
           "arrowwidth": 1
          },
          "autotypenumbers": "strict",
          "coloraxis": {
           "colorbar": {
            "outlinewidth": 0,
            "ticks": ""
           }
          },
          "colorscale": {
           "diverging": [
            [
             0,
             "#8e0152"
            ],
            [
             0.1,
             "#c51b7d"
            ],
            [
             0.2,
             "#de77ae"
            ],
            [
             0.3,
             "#f1b6da"
            ],
            [
             0.4,
             "#fde0ef"
            ],
            [
             0.5,
             "#f7f7f7"
            ],
            [
             0.6,
             "#e6f5d0"
            ],
            [
             0.7,
             "#b8e186"
            ],
            [
             0.8,
             "#7fbc41"
            ],
            [
             0.9,
             "#4d9221"
            ],
            [
             1,
             "#276419"
            ]
           ],
           "sequential": [
            [
             0,
             "#0d0887"
            ],
            [
             0.1111111111111111,
             "#46039f"
            ],
            [
             0.2222222222222222,
             "#7201a8"
            ],
            [
             0.3333333333333333,
             "#9c179e"
            ],
            [
             0.4444444444444444,
             "#bd3786"
            ],
            [
             0.5555555555555556,
             "#d8576b"
            ],
            [
             0.6666666666666666,
             "#ed7953"
            ],
            [
             0.7777777777777778,
             "#fb9f3a"
            ],
            [
             0.8888888888888888,
             "#fdca26"
            ],
            [
             1,
             "#f0f921"
            ]
           ],
           "sequentialminus": [
            [
             0,
             "#0d0887"
            ],
            [
             0.1111111111111111,
             "#46039f"
            ],
            [
             0.2222222222222222,
             "#7201a8"
            ],
            [
             0.3333333333333333,
             "#9c179e"
            ],
            [
             0.4444444444444444,
             "#bd3786"
            ],
            [
             0.5555555555555556,
             "#d8576b"
            ],
            [
             0.6666666666666666,
             "#ed7953"
            ],
            [
             0.7777777777777778,
             "#fb9f3a"
            ],
            [
             0.8888888888888888,
             "#fdca26"
            ],
            [
             1,
             "#f0f921"
            ]
           ]
          },
          "colorway": [
           "#636efa",
           "#EF553B",
           "#00cc96",
           "#ab63fa",
           "#FFA15A",
           "#19d3f3",
           "#FF6692",
           "#B6E880",
           "#FF97FF",
           "#FECB52"
          ],
          "font": {
           "color": "#f2f5fa"
          },
          "geo": {
           "bgcolor": "rgb(17,17,17)",
           "lakecolor": "rgb(17,17,17)",
           "landcolor": "rgb(17,17,17)",
           "showlakes": true,
           "showland": true,
           "subunitcolor": "#506784"
          },
          "hoverlabel": {
           "align": "left"
          },
          "hovermode": "closest",
          "mapbox": {
           "style": "dark"
          },
          "paper_bgcolor": "rgb(17,17,17)",
          "plot_bgcolor": "rgb(17,17,17)",
          "polar": {
           "angularaxis": {
            "gridcolor": "#506784",
            "linecolor": "#506784",
            "ticks": ""
           },
           "bgcolor": "rgb(17,17,17)",
           "radialaxis": {
            "gridcolor": "#506784",
            "linecolor": "#506784",
            "ticks": ""
           }
          },
          "scene": {
           "xaxis": {
            "backgroundcolor": "rgb(17,17,17)",
            "gridcolor": "#506784",
            "gridwidth": 2,
            "linecolor": "#506784",
            "showbackground": true,
            "ticks": "",
            "zerolinecolor": "#C8D4E3"
           },
           "yaxis": {
            "backgroundcolor": "rgb(17,17,17)",
            "gridcolor": "#506784",
            "gridwidth": 2,
            "linecolor": "#506784",
            "showbackground": true,
            "ticks": "",
            "zerolinecolor": "#C8D4E3"
           },
           "zaxis": {
            "backgroundcolor": "rgb(17,17,17)",
            "gridcolor": "#506784",
            "gridwidth": 2,
            "linecolor": "#506784",
            "showbackground": true,
            "ticks": "",
            "zerolinecolor": "#C8D4E3"
           }
          },
          "shapedefaults": {
           "line": {
            "color": "#f2f5fa"
           }
          },
          "sliderdefaults": {
           "bgcolor": "#C8D4E3",
           "bordercolor": "rgb(17,17,17)",
           "borderwidth": 1,
           "tickwidth": 0
          },
          "ternary": {
           "aaxis": {
            "gridcolor": "#506784",
            "linecolor": "#506784",
            "ticks": ""
           },
           "baxis": {
            "gridcolor": "#506784",
            "linecolor": "#506784",
            "ticks": ""
           },
           "bgcolor": "rgb(17,17,17)",
           "caxis": {
            "gridcolor": "#506784",
            "linecolor": "#506784",
            "ticks": ""
           }
          },
          "title": {
           "x": 0.05
          },
          "updatemenudefaults": {
           "bgcolor": "#506784",
           "borderwidth": 0
          },
          "xaxis": {
           "automargin": true,
           "gridcolor": "#283442",
           "linecolor": "#506784",
           "ticks": "",
           "title": {
            "standoff": 15
           },
           "zerolinecolor": "#283442",
           "zerolinewidth": 2
          },
          "yaxis": {
           "automargin": true,
           "gridcolor": "#283442",
           "linecolor": "#506784",
           "ticks": "",
           "title": {
            "standoff": 15
           },
           "zerolinecolor": "#283442",
           "zerolinewidth": 2
          }
         }
        },
        "title": {
         "text": "AMZN OHLC Chart"
        },
        "xaxis": {
         "title": {
          "text": "Date"
         }
        },
        "yaxis": {
         "title": {
          "text": "Stock Price (USD)"
         }
        }
       }
      }
     },
     "metadata": {},
     "output_type": "display_data"
    }
   ],
   "source": [
    "fig = go.Figure(data=[go.Ohlc(x=df['Date'], open=df['Open'], high=df['High'], low=df['Low'], close=df['Close'])])\n",
    "\n",
    "fig.update_layout(title=\"AMZN OHLC Chart\",xaxis_title=\"Date\",yaxis_title=\"Stock Price (USD)\",template=\"plotly_dark\")\n",
    "\n",
    "fig.show()\n",
    "\n",
    "fig.write_html(\"amazon_ohlc.html\")\n"
   ]
  },
  {
   "cell_type": "markdown",
   "metadata": {},
   "source": [
    "- <h4> Trading Volume Trends"
   ]
  },
  {
   "cell_type": "code",
   "execution_count": 15,
   "metadata": {},
   "outputs": [
    {
     "data": {
      "application/vnd.plotly.v1+json": {
       "config": {
        "plotlyServerURL": "https://plot.ly"
       },
       "data": [
        {
         "marker": {
          "color": "#5B9787"
         },
         "name": "Volume",
         "type": "bar",
         "x": [
          "2022-03-01T00:00:00-05:00",
          "2022-03-02T00:00:00-05:00",
          "2022-03-03T00:00:00-05:00",
          "2022-03-04T00:00:00-05:00",
          "2022-03-07T00:00:00-05:00",
          "2022-03-08T00:00:00-05:00",
          "2022-03-09T00:00:00-05:00",
          "2022-03-10T00:00:00-05:00",
          "2022-03-11T00:00:00-05:00",
          "2022-03-14T00:00:00-04:00",
          "2022-03-15T00:00:00-04:00",
          "2022-03-16T00:00:00-04:00",
          "2022-03-17T00:00:00-04:00",
          "2022-03-18T00:00:00-04:00",
          "2022-03-21T00:00:00-04:00",
          "2022-03-22T00:00:00-04:00",
          "2022-03-23T00:00:00-04:00",
          "2022-03-24T00:00:00-04:00",
          "2022-03-25T00:00:00-04:00",
          "2022-03-28T00:00:00-04:00",
          "2022-03-29T00:00:00-04:00",
          "2022-03-30T00:00:00-04:00",
          "2022-03-31T00:00:00-04:00",
          "2022-04-01T00:00:00-04:00",
          "2022-04-04T00:00:00-04:00",
          "2022-04-05T00:00:00-04:00",
          "2022-04-06T00:00:00-04:00",
          "2022-04-07T00:00:00-04:00",
          "2022-04-08T00:00:00-04:00",
          "2022-04-11T00:00:00-04:00",
          "2022-04-12T00:00:00-04:00",
          "2022-04-13T00:00:00-04:00",
          "2022-04-14T00:00:00-04:00",
          "2022-04-18T00:00:00-04:00",
          "2022-04-19T00:00:00-04:00",
          "2022-04-20T00:00:00-04:00",
          "2022-04-21T00:00:00-04:00",
          "2022-04-22T00:00:00-04:00",
          "2022-04-25T00:00:00-04:00",
          "2022-04-26T00:00:00-04:00",
          "2022-04-27T00:00:00-04:00",
          "2022-04-28T00:00:00-04:00",
          "2022-04-29T00:00:00-04:00",
          "2022-05-02T00:00:00-04:00",
          "2022-05-03T00:00:00-04:00",
          "2022-05-04T00:00:00-04:00",
          "2022-05-05T00:00:00-04:00",
          "2022-05-06T00:00:00-04:00",
          "2022-05-09T00:00:00-04:00",
          "2022-05-10T00:00:00-04:00",
          "2022-05-11T00:00:00-04:00",
          "2022-05-12T00:00:00-04:00",
          "2022-05-13T00:00:00-04:00",
          "2022-05-16T00:00:00-04:00",
          "2022-05-17T00:00:00-04:00",
          "2022-05-18T00:00:00-04:00",
          "2022-05-19T00:00:00-04:00",
          "2022-05-20T00:00:00-04:00",
          "2022-05-23T00:00:00-04:00",
          "2022-05-24T00:00:00-04:00",
          "2022-05-25T00:00:00-04:00",
          "2022-05-26T00:00:00-04:00",
          "2022-05-27T00:00:00-04:00",
          "2022-05-31T00:00:00-04:00",
          "2022-06-01T00:00:00-04:00",
          "2022-06-02T00:00:00-04:00",
          "2022-06-03T00:00:00-04:00",
          "2022-06-06T00:00:00-04:00",
          "2022-06-07T00:00:00-04:00",
          "2022-06-08T00:00:00-04:00",
          "2022-06-09T00:00:00-04:00",
          "2022-06-10T00:00:00-04:00",
          "2022-06-13T00:00:00-04:00",
          "2022-06-14T00:00:00-04:00",
          "2022-06-15T00:00:00-04:00",
          "2022-06-16T00:00:00-04:00",
          "2022-06-17T00:00:00-04:00",
          "2022-06-21T00:00:00-04:00",
          "2022-06-22T00:00:00-04:00",
          "2022-06-23T00:00:00-04:00",
          "2022-06-24T00:00:00-04:00",
          "2022-06-27T00:00:00-04:00",
          "2022-06-28T00:00:00-04:00",
          "2022-06-29T00:00:00-04:00",
          "2022-06-30T00:00:00-04:00",
          "2022-07-01T00:00:00-04:00",
          "2022-07-05T00:00:00-04:00",
          "2022-07-06T00:00:00-04:00",
          "2022-07-07T00:00:00-04:00",
          "2022-07-08T00:00:00-04:00",
          "2022-07-11T00:00:00-04:00",
          "2022-07-12T00:00:00-04:00",
          "2022-07-13T00:00:00-04:00",
          "2022-07-14T00:00:00-04:00",
          "2022-07-15T00:00:00-04:00",
          "2022-07-18T00:00:00-04:00",
          "2022-07-19T00:00:00-04:00",
          "2022-07-20T00:00:00-04:00",
          "2022-07-21T00:00:00-04:00",
          "2022-07-22T00:00:00-04:00",
          "2022-07-25T00:00:00-04:00",
          "2022-07-26T00:00:00-04:00",
          "2022-07-27T00:00:00-04:00",
          "2022-07-28T00:00:00-04:00",
          "2022-07-29T00:00:00-04:00",
          "2022-08-01T00:00:00-04:00",
          "2022-08-02T00:00:00-04:00",
          "2022-08-03T00:00:00-04:00",
          "2022-08-04T00:00:00-04:00",
          "2022-08-05T00:00:00-04:00",
          "2022-08-08T00:00:00-04:00",
          "2022-08-09T00:00:00-04:00",
          "2022-08-10T00:00:00-04:00",
          "2022-08-11T00:00:00-04:00",
          "2022-08-12T00:00:00-04:00",
          "2022-08-15T00:00:00-04:00",
          "2022-08-16T00:00:00-04:00",
          "2022-08-17T00:00:00-04:00",
          "2022-08-18T00:00:00-04:00",
          "2022-08-19T00:00:00-04:00",
          "2022-08-22T00:00:00-04:00",
          "2022-08-23T00:00:00-04:00",
          "2022-08-24T00:00:00-04:00",
          "2022-08-25T00:00:00-04:00",
          "2022-08-26T00:00:00-04:00",
          "2022-08-29T00:00:00-04:00",
          "2022-08-30T00:00:00-04:00",
          "2022-08-31T00:00:00-04:00",
          "2022-09-01T00:00:00-04:00",
          "2022-09-02T00:00:00-04:00",
          "2022-09-06T00:00:00-04:00",
          "2022-09-07T00:00:00-04:00",
          "2022-09-08T00:00:00-04:00",
          "2022-09-09T00:00:00-04:00",
          "2022-09-12T00:00:00-04:00",
          "2022-09-13T00:00:00-04:00",
          "2022-09-14T00:00:00-04:00",
          "2022-09-15T00:00:00-04:00",
          "2022-09-16T00:00:00-04:00",
          "2022-09-19T00:00:00-04:00",
          "2022-09-20T00:00:00-04:00",
          "2022-09-21T00:00:00-04:00",
          "2022-09-22T00:00:00-04:00",
          "2022-09-23T00:00:00-04:00",
          "2022-09-26T00:00:00-04:00",
          "2022-09-27T00:00:00-04:00",
          "2022-09-28T00:00:00-04:00",
          "2022-09-29T00:00:00-04:00",
          "2022-09-30T00:00:00-04:00",
          "2022-10-03T00:00:00-04:00",
          "2022-10-04T00:00:00-04:00",
          "2022-10-05T00:00:00-04:00",
          "2022-10-06T00:00:00-04:00",
          "2022-10-07T00:00:00-04:00",
          "2022-10-10T00:00:00-04:00",
          "2022-10-11T00:00:00-04:00",
          "2022-10-12T00:00:00-04:00",
          "2022-10-13T00:00:00-04:00",
          "2022-10-14T00:00:00-04:00",
          "2022-10-17T00:00:00-04:00",
          "2022-10-18T00:00:00-04:00",
          "2022-10-19T00:00:00-04:00",
          "2022-10-20T00:00:00-04:00",
          "2022-10-21T00:00:00-04:00",
          "2022-10-24T00:00:00-04:00",
          "2022-10-25T00:00:00-04:00",
          "2022-10-26T00:00:00-04:00",
          "2022-10-27T00:00:00-04:00",
          "2022-10-28T00:00:00-04:00",
          "2022-10-31T00:00:00-04:00",
          "2022-11-01T00:00:00-04:00",
          "2022-11-02T00:00:00-04:00",
          "2022-11-03T00:00:00-04:00",
          "2022-11-04T00:00:00-04:00",
          "2022-11-07T00:00:00-05:00",
          "2022-11-08T00:00:00-05:00",
          "2022-11-09T00:00:00-05:00",
          "2022-11-10T00:00:00-05:00",
          "2022-11-11T00:00:00-05:00",
          "2022-11-14T00:00:00-05:00",
          "2022-11-15T00:00:00-05:00",
          "2022-11-16T00:00:00-05:00",
          "2022-11-17T00:00:00-05:00",
          "2022-11-18T00:00:00-05:00",
          "2022-11-21T00:00:00-05:00",
          "2022-11-22T00:00:00-05:00",
          "2022-11-23T00:00:00-05:00",
          "2022-11-25T00:00:00-05:00",
          "2022-11-28T00:00:00-05:00",
          "2022-11-29T00:00:00-05:00",
          "2022-11-30T00:00:00-05:00",
          "2022-12-01T00:00:00-05:00",
          "2022-12-02T00:00:00-05:00",
          "2022-12-05T00:00:00-05:00",
          "2022-12-06T00:00:00-05:00",
          "2022-12-07T00:00:00-05:00",
          "2022-12-08T00:00:00-05:00",
          "2022-12-09T00:00:00-05:00",
          "2022-12-12T00:00:00-05:00",
          "2022-12-13T00:00:00-05:00",
          "2022-12-14T00:00:00-05:00",
          "2022-12-15T00:00:00-05:00",
          "2022-12-16T00:00:00-05:00",
          "2022-12-19T00:00:00-05:00",
          "2022-12-20T00:00:00-05:00",
          "2022-12-21T00:00:00-05:00",
          "2022-12-22T00:00:00-05:00",
          "2022-12-23T00:00:00-05:00",
          "2022-12-27T00:00:00-05:00",
          "2022-12-28T00:00:00-05:00",
          "2022-12-29T00:00:00-05:00",
          "2022-12-30T00:00:00-05:00",
          "2023-01-03T00:00:00-05:00",
          "2023-01-04T00:00:00-05:00",
          "2023-01-05T00:00:00-05:00",
          "2023-01-06T00:00:00-05:00",
          "2023-01-09T00:00:00-05:00",
          "2023-01-10T00:00:00-05:00",
          "2023-01-11T00:00:00-05:00",
          "2023-01-12T00:00:00-05:00",
          "2023-01-13T00:00:00-05:00",
          "2023-01-17T00:00:00-05:00",
          "2023-01-18T00:00:00-05:00",
          "2023-01-19T00:00:00-05:00",
          "2023-01-20T00:00:00-05:00",
          "2023-01-23T00:00:00-05:00",
          "2023-01-24T00:00:00-05:00",
          "2023-01-25T00:00:00-05:00",
          "2023-01-26T00:00:00-05:00",
          "2023-01-27T00:00:00-05:00",
          "2023-01-30T00:00:00-05:00",
          "2023-01-31T00:00:00-05:00",
          "2023-02-01T00:00:00-05:00",
          "2023-02-02T00:00:00-05:00",
          "2023-02-03T00:00:00-05:00",
          "2023-02-06T00:00:00-05:00",
          "2023-02-07T00:00:00-05:00",
          "2023-02-08T00:00:00-05:00",
          "2023-02-09T00:00:00-05:00",
          "2023-02-10T00:00:00-05:00",
          "2023-02-13T00:00:00-05:00",
          "2023-02-14T00:00:00-05:00",
          "2023-02-15T00:00:00-05:00",
          "2023-02-16T00:00:00-05:00",
          "2023-02-17T00:00:00-05:00",
          "2023-02-21T00:00:00-05:00",
          "2023-02-22T00:00:00-05:00",
          "2023-02-23T00:00:00-05:00",
          "2023-02-24T00:00:00-05:00",
          "2023-02-27T00:00:00-05:00",
          "2023-02-28T00:00:00-05:00",
          "2023-03-01T00:00:00-05:00",
          "2023-03-02T00:00:00-05:00",
          "2023-03-03T00:00:00-05:00",
          "2023-03-06T00:00:00-05:00",
          "2023-03-07T00:00:00-05:00",
          "2023-03-08T00:00:00-05:00",
          "2023-03-09T00:00:00-05:00",
          "2023-03-10T00:00:00-05:00",
          "2023-03-13T00:00:00-04:00",
          "2023-03-14T00:00:00-04:00",
          "2023-03-15T00:00:00-04:00",
          "2023-03-16T00:00:00-04:00",
          "2023-03-17T00:00:00-04:00",
          "2023-03-20T00:00:00-04:00",
          "2023-03-21T00:00:00-04:00",
          "2023-03-22T00:00:00-04:00",
          "2023-03-23T00:00:00-04:00",
          "2023-03-24T00:00:00-04:00",
          "2023-03-27T00:00:00-04:00",
          "2023-03-28T00:00:00-04:00",
          "2023-03-29T00:00:00-04:00",
          "2023-03-30T00:00:00-04:00",
          "2023-03-31T00:00:00-04:00",
          "2023-04-03T00:00:00-04:00",
          "2023-04-04T00:00:00-04:00",
          "2023-04-05T00:00:00-04:00",
          "2023-04-06T00:00:00-04:00",
          "2023-04-10T00:00:00-04:00",
          "2023-04-11T00:00:00-04:00",
          "2023-04-12T00:00:00-04:00",
          "2023-04-13T00:00:00-04:00",
          "2023-04-14T00:00:00-04:00",
          "2023-04-17T00:00:00-04:00",
          "2023-04-18T00:00:00-04:00",
          "2023-04-19T00:00:00-04:00",
          "2023-04-20T00:00:00-04:00",
          "2023-04-21T00:00:00-04:00",
          "2023-04-24T00:00:00-04:00",
          "2023-04-25T00:00:00-04:00",
          "2023-04-26T00:00:00-04:00",
          "2023-04-27T00:00:00-04:00",
          "2023-04-28T00:00:00-04:00",
          "2023-05-01T00:00:00-04:00",
          "2023-05-02T00:00:00-04:00",
          "2023-05-03T00:00:00-04:00",
          "2023-05-04T00:00:00-04:00",
          "2023-05-05T00:00:00-04:00",
          "2023-05-08T00:00:00-04:00",
          "2023-05-09T00:00:00-04:00",
          "2023-05-10T00:00:00-04:00",
          "2023-05-11T00:00:00-04:00",
          "2023-05-12T00:00:00-04:00",
          "2023-05-15T00:00:00-04:00",
          "2023-05-16T00:00:00-04:00",
          "2023-05-17T00:00:00-04:00",
          "2023-05-18T00:00:00-04:00",
          "2023-05-19T00:00:00-04:00",
          "2023-05-22T00:00:00-04:00",
          "2023-05-23T00:00:00-04:00",
          "2023-05-24T00:00:00-04:00",
          "2023-05-25T00:00:00-04:00",
          "2023-05-26T00:00:00-04:00",
          "2023-05-30T00:00:00-04:00",
          "2023-05-31T00:00:00-04:00",
          "2023-06-01T00:00:00-04:00",
          "2023-06-02T00:00:00-04:00",
          "2023-06-05T00:00:00-04:00",
          "2023-06-06T00:00:00-04:00",
          "2023-06-07T00:00:00-04:00",
          "2023-06-08T00:00:00-04:00",
          "2023-06-09T00:00:00-04:00",
          "2023-06-12T00:00:00-04:00",
          "2023-06-13T00:00:00-04:00",
          "2023-06-14T00:00:00-04:00",
          "2023-06-15T00:00:00-04:00",
          "2023-06-16T00:00:00-04:00",
          "2023-06-20T00:00:00-04:00",
          "2023-06-21T00:00:00-04:00",
          "2023-06-22T00:00:00-04:00",
          "2023-06-23T00:00:00-04:00",
          "2023-06-26T00:00:00-04:00",
          "2023-06-27T00:00:00-04:00",
          "2023-06-28T00:00:00-04:00",
          "2023-06-29T00:00:00-04:00",
          "2023-06-30T00:00:00-04:00",
          "2023-07-03T00:00:00-04:00",
          "2023-07-05T00:00:00-04:00",
          "2023-07-06T00:00:00-04:00",
          "2023-07-07T00:00:00-04:00",
          "2023-07-10T00:00:00-04:00",
          "2023-07-11T00:00:00-04:00",
          "2023-07-12T00:00:00-04:00",
          "2023-07-13T00:00:00-04:00",
          "2023-07-14T00:00:00-04:00",
          "2023-07-17T00:00:00-04:00",
          "2023-07-18T00:00:00-04:00",
          "2023-07-19T00:00:00-04:00",
          "2023-07-20T00:00:00-04:00",
          "2023-07-21T00:00:00-04:00",
          "2023-07-24T00:00:00-04:00",
          "2023-07-25T00:00:00-04:00",
          "2023-07-26T00:00:00-04:00",
          "2023-07-27T00:00:00-04:00",
          "2023-07-28T00:00:00-04:00",
          "2023-07-31T00:00:00-04:00",
          "2023-08-01T00:00:00-04:00",
          "2023-08-02T00:00:00-04:00",
          "2023-08-03T00:00:00-04:00",
          "2023-08-04T00:00:00-04:00",
          "2023-08-07T00:00:00-04:00",
          "2023-08-08T00:00:00-04:00",
          "2023-08-09T00:00:00-04:00",
          "2023-08-10T00:00:00-04:00",
          "2023-08-11T00:00:00-04:00",
          "2023-08-14T00:00:00-04:00",
          "2023-08-15T00:00:00-04:00",
          "2023-08-16T00:00:00-04:00",
          "2023-08-17T00:00:00-04:00",
          "2023-08-18T00:00:00-04:00",
          "2023-08-21T00:00:00-04:00",
          "2023-08-22T00:00:00-04:00",
          "2023-08-23T00:00:00-04:00",
          "2023-08-24T00:00:00-04:00",
          "2023-08-25T00:00:00-04:00",
          "2023-08-28T00:00:00-04:00",
          "2023-08-29T00:00:00-04:00",
          "2023-08-30T00:00:00-04:00",
          "2023-08-31T00:00:00-04:00",
          "2023-09-01T00:00:00-04:00",
          "2023-09-05T00:00:00-04:00",
          "2023-09-06T00:00:00-04:00",
          "2023-09-07T00:00:00-04:00",
          "2023-09-08T00:00:00-04:00",
          "2023-09-11T00:00:00-04:00",
          "2023-09-12T00:00:00-04:00",
          "2023-09-13T00:00:00-04:00",
          "2023-09-14T00:00:00-04:00",
          "2023-09-15T00:00:00-04:00",
          "2023-09-18T00:00:00-04:00",
          "2023-09-19T00:00:00-04:00",
          "2023-09-20T00:00:00-04:00",
          "2023-09-21T00:00:00-04:00",
          "2023-09-22T00:00:00-04:00",
          "2023-09-25T00:00:00-04:00",
          "2023-09-26T00:00:00-04:00",
          "2023-09-27T00:00:00-04:00",
          "2023-09-28T00:00:00-04:00",
          "2023-09-29T00:00:00-04:00",
          "2023-10-02T00:00:00-04:00",
          "2023-10-03T00:00:00-04:00",
          "2023-10-04T00:00:00-04:00",
          "2023-10-05T00:00:00-04:00",
          "2023-10-06T00:00:00-04:00",
          "2023-10-09T00:00:00-04:00",
          "2023-10-10T00:00:00-04:00",
          "2023-10-11T00:00:00-04:00",
          "2023-10-12T00:00:00-04:00",
          "2023-10-13T00:00:00-04:00",
          "2023-10-16T00:00:00-04:00",
          "2023-10-17T00:00:00-04:00",
          "2023-10-18T00:00:00-04:00",
          "2023-10-19T00:00:00-04:00",
          "2023-10-20T00:00:00-04:00",
          "2023-10-23T00:00:00-04:00",
          "2023-10-24T00:00:00-04:00",
          "2023-10-25T00:00:00-04:00",
          "2023-10-26T00:00:00-04:00",
          "2023-10-27T00:00:00-04:00",
          "2023-10-30T00:00:00-04:00",
          "2023-10-31T00:00:00-04:00",
          "2023-11-01T00:00:00-04:00",
          "2023-11-02T00:00:00-04:00",
          "2023-11-03T00:00:00-04:00",
          "2023-11-06T00:00:00-05:00",
          "2023-11-07T00:00:00-05:00",
          "2023-11-08T00:00:00-05:00",
          "2023-11-09T00:00:00-05:00",
          "2023-11-10T00:00:00-05:00",
          "2023-11-13T00:00:00-05:00",
          "2023-11-14T00:00:00-05:00",
          "2023-11-15T00:00:00-05:00",
          "2023-11-16T00:00:00-05:00",
          "2023-11-17T00:00:00-05:00",
          "2023-11-20T00:00:00-05:00",
          "2023-11-21T00:00:00-05:00",
          "2023-11-22T00:00:00-05:00",
          "2023-11-24T00:00:00-05:00",
          "2023-11-27T00:00:00-05:00",
          "2023-11-28T00:00:00-05:00",
          "2023-11-29T00:00:00-05:00",
          "2023-11-30T00:00:00-05:00",
          "2023-12-01T00:00:00-05:00",
          "2023-12-04T00:00:00-05:00",
          "2023-12-05T00:00:00-05:00",
          "2023-12-06T00:00:00-05:00",
          "2023-12-07T00:00:00-05:00",
          "2023-12-08T00:00:00-05:00",
          "2023-12-11T00:00:00-05:00",
          "2023-12-12T00:00:00-05:00",
          "2023-12-13T00:00:00-05:00",
          "2023-12-14T00:00:00-05:00",
          "2023-12-15T00:00:00-05:00",
          "2023-12-18T00:00:00-05:00",
          "2023-12-19T00:00:00-05:00",
          "2023-12-20T00:00:00-05:00",
          "2023-12-21T00:00:00-05:00",
          "2023-12-22T00:00:00-05:00",
          "2023-12-26T00:00:00-05:00",
          "2023-12-27T00:00:00-05:00",
          "2023-12-28T00:00:00-05:00",
          "2023-12-29T00:00:00-05:00",
          "2024-01-02T00:00:00-05:00",
          "2024-01-03T00:00:00-05:00",
          "2024-01-04T00:00:00-05:00",
          "2024-01-05T00:00:00-05:00",
          "2024-01-08T00:00:00-05:00",
          "2024-01-09T00:00:00-05:00",
          "2024-01-10T00:00:00-05:00",
          "2024-01-11T00:00:00-05:00",
          "2024-01-12T00:00:00-05:00",
          "2024-01-16T00:00:00-05:00",
          "2024-01-17T00:00:00-05:00",
          "2024-01-18T00:00:00-05:00",
          "2024-01-19T00:00:00-05:00",
          "2024-01-22T00:00:00-05:00",
          "2024-01-23T00:00:00-05:00",
          "2024-01-24T00:00:00-05:00",
          "2024-01-25T00:00:00-05:00",
          "2024-01-26T00:00:00-05:00",
          "2024-01-29T00:00:00-05:00",
          "2024-01-30T00:00:00-05:00",
          "2024-01-31T00:00:00-05:00",
          "2024-02-01T00:00:00-05:00",
          "2024-02-02T00:00:00-05:00",
          "2024-02-05T00:00:00-05:00",
          "2024-02-06T00:00:00-05:00",
          "2024-02-07T00:00:00-05:00",
          "2024-02-08T00:00:00-05:00",
          "2024-02-09T00:00:00-05:00",
          "2024-02-12T00:00:00-05:00",
          "2024-02-13T00:00:00-05:00",
          "2024-02-14T00:00:00-05:00",
          "2024-02-15T00:00:00-05:00",
          "2024-02-16T00:00:00-05:00",
          "2024-02-20T00:00:00-05:00",
          "2024-02-21T00:00:00-05:00",
          "2024-02-22T00:00:00-05:00",
          "2024-02-23T00:00:00-05:00",
          "2024-02-26T00:00:00-05:00",
          "2024-02-27T00:00:00-05:00",
          "2024-02-28T00:00:00-05:00",
          "2024-02-29T00:00:00-05:00",
          "2024-03-01T00:00:00-05:00",
          "2024-03-04T00:00:00-05:00",
          "2024-03-05T00:00:00-05:00",
          "2024-03-06T00:00:00-05:00",
          "2024-03-07T00:00:00-05:00",
          "2024-03-08T00:00:00-05:00",
          "2024-03-11T00:00:00-04:00",
          "2024-03-12T00:00:00-04:00",
          "2024-03-13T00:00:00-04:00",
          "2024-03-14T00:00:00-04:00",
          "2024-03-15T00:00:00-04:00",
          "2024-03-18T00:00:00-04:00",
          "2024-03-19T00:00:00-04:00",
          "2024-03-20T00:00:00-04:00",
          "2024-03-21T00:00:00-04:00",
          "2024-03-22T00:00:00-04:00",
          "2024-03-25T00:00:00-04:00",
          "2024-03-26T00:00:00-04:00",
          "2024-03-27T00:00:00-04:00",
          "2024-03-28T00:00:00-04:00",
          "2024-04-01T00:00:00-04:00",
          "2024-04-02T00:00:00-04:00",
          "2024-04-03T00:00:00-04:00",
          "2024-04-04T00:00:00-04:00",
          "2024-04-05T00:00:00-04:00",
          "2024-04-08T00:00:00-04:00",
          "2024-04-09T00:00:00-04:00",
          "2024-04-10T00:00:00-04:00",
          "2024-04-11T00:00:00-04:00",
          "2024-04-12T00:00:00-04:00",
          "2024-04-15T00:00:00-04:00",
          "2024-04-16T00:00:00-04:00",
          "2024-04-17T00:00:00-04:00",
          "2024-04-18T00:00:00-04:00",
          "2024-04-19T00:00:00-04:00",
          "2024-04-22T00:00:00-04:00",
          "2024-04-23T00:00:00-04:00",
          "2024-04-24T00:00:00-04:00",
          "2024-04-25T00:00:00-04:00",
          "2024-04-26T00:00:00-04:00",
          "2024-04-29T00:00:00-04:00",
          "2024-04-30T00:00:00-04:00",
          "2024-05-01T00:00:00-04:00",
          "2024-05-02T00:00:00-04:00",
          "2024-05-03T00:00:00-04:00",
          "2024-05-06T00:00:00-04:00",
          "2024-05-07T00:00:00-04:00",
          "2024-05-08T00:00:00-04:00",
          "2024-05-09T00:00:00-04:00",
          "2024-05-10T00:00:00-04:00",
          "2024-05-13T00:00:00-04:00",
          "2024-05-14T00:00:00-04:00",
          "2024-05-15T00:00:00-04:00",
          "2024-05-16T00:00:00-04:00",
          "2024-05-17T00:00:00-04:00",
          "2024-05-20T00:00:00-04:00",
          "2024-05-21T00:00:00-04:00",
          "2024-05-22T00:00:00-04:00",
          "2024-05-23T00:00:00-04:00",
          "2024-05-24T00:00:00-04:00",
          "2024-05-28T00:00:00-04:00",
          "2024-05-29T00:00:00-04:00",
          "2024-05-30T00:00:00-04:00",
          "2024-05-31T00:00:00-04:00",
          "2024-06-03T00:00:00-04:00",
          "2024-06-04T00:00:00-04:00",
          "2024-06-05T00:00:00-04:00",
          "2024-06-06T00:00:00-04:00",
          "2024-06-07T00:00:00-04:00",
          "2024-06-10T00:00:00-04:00",
          "2024-06-11T00:00:00-04:00",
          "2024-06-12T00:00:00-04:00",
          "2024-06-13T00:00:00-04:00",
          "2024-06-14T00:00:00-04:00",
          "2024-06-17T00:00:00-04:00",
          "2024-06-18T00:00:00-04:00",
          "2024-06-20T00:00:00-04:00",
          "2024-06-21T00:00:00-04:00",
          "2024-06-24T00:00:00-04:00",
          "2024-06-25T00:00:00-04:00",
          "2024-06-26T00:00:00-04:00",
          "2024-06-27T00:00:00-04:00",
          "2024-06-28T00:00:00-04:00",
          "2024-07-01T00:00:00-04:00",
          "2024-07-02T00:00:00-04:00",
          "2024-07-03T00:00:00-04:00",
          "2024-07-05T00:00:00-04:00",
          "2024-07-08T00:00:00-04:00",
          "2024-07-09T00:00:00-04:00",
          "2024-07-10T00:00:00-04:00",
          "2024-07-11T00:00:00-04:00",
          "2024-07-12T00:00:00-04:00",
          "2024-07-15T00:00:00-04:00",
          "2024-07-16T00:00:00-04:00",
          "2024-07-17T00:00:00-04:00",
          "2024-07-18T00:00:00-04:00",
          "2024-07-19T00:00:00-04:00",
          "2024-07-22T00:00:00-04:00",
          "2024-07-23T00:00:00-04:00",
          "2024-07-24T00:00:00-04:00",
          "2024-07-25T00:00:00-04:00",
          "2024-07-26T00:00:00-04:00",
          "2024-07-29T00:00:00-04:00",
          "2024-07-30T00:00:00-04:00",
          "2024-07-31T00:00:00-04:00",
          "2024-08-01T00:00:00-04:00",
          "2024-08-02T00:00:00-04:00",
          "2024-08-05T00:00:00-04:00",
          "2024-08-06T00:00:00-04:00",
          "2024-08-07T00:00:00-04:00",
          "2024-08-08T00:00:00-04:00",
          "2024-08-09T00:00:00-04:00",
          "2024-08-12T00:00:00-04:00",
          "2024-08-13T00:00:00-04:00",
          "2024-08-14T00:00:00-04:00",
          "2024-08-15T00:00:00-04:00",
          "2024-08-16T00:00:00-04:00",
          "2024-08-19T00:00:00-04:00",
          "2024-08-20T00:00:00-04:00",
          "2024-08-21T00:00:00-04:00",
          "2024-08-22T00:00:00-04:00",
          "2024-08-23T00:00:00-04:00",
          "2024-08-26T00:00:00-04:00",
          "2024-08-27T00:00:00-04:00",
          "2024-08-28T00:00:00-04:00",
          "2024-08-29T00:00:00-04:00",
          "2024-08-30T00:00:00-04:00",
          "2024-09-03T00:00:00-04:00",
          "2024-09-04T00:00:00-04:00",
          "2024-09-05T00:00:00-04:00",
          "2024-09-06T00:00:00-04:00",
          "2024-09-09T00:00:00-04:00",
          "2024-09-10T00:00:00-04:00",
          "2024-09-11T00:00:00-04:00",
          "2024-09-12T00:00:00-04:00",
          "2024-09-13T00:00:00-04:00",
          "2024-09-16T00:00:00-04:00",
          "2024-09-17T00:00:00-04:00",
          "2024-09-18T00:00:00-04:00",
          "2024-09-19T00:00:00-04:00",
          "2024-09-20T00:00:00-04:00",
          "2024-09-23T00:00:00-04:00",
          "2024-09-24T00:00:00-04:00",
          "2024-09-25T00:00:00-04:00",
          "2024-09-26T00:00:00-04:00",
          "2024-09-27T00:00:00-04:00",
          "2024-09-30T00:00:00-04:00",
          "2024-10-01T00:00:00-04:00",
          "2024-10-02T00:00:00-04:00",
          "2024-10-03T00:00:00-04:00",
          "2024-10-04T00:00:00-04:00",
          "2024-10-07T00:00:00-04:00",
          "2024-10-08T00:00:00-04:00",
          "2024-10-09T00:00:00-04:00",
          "2024-10-10T00:00:00-04:00",
          "2024-10-11T00:00:00-04:00",
          "2024-10-14T00:00:00-04:00",
          "2024-10-15T00:00:00-04:00",
          "2024-10-16T00:00:00-04:00",
          "2024-10-17T00:00:00-04:00",
          "2024-10-18T00:00:00-04:00",
          "2024-10-21T00:00:00-04:00",
          "2024-10-22T00:00:00-04:00",
          "2024-10-23T00:00:00-04:00",
          "2024-10-24T00:00:00-04:00",
          "2024-10-25T00:00:00-04:00",
          "2024-10-28T00:00:00-04:00",
          "2024-10-29T00:00:00-04:00",
          "2024-10-30T00:00:00-04:00",
          "2024-10-31T00:00:00-04:00",
          "2024-11-01T00:00:00-04:00",
          "2024-11-04T00:00:00-05:00",
          "2024-11-05T00:00:00-05:00",
          "2024-11-06T00:00:00-05:00",
          "2024-11-07T00:00:00-05:00",
          "2024-11-08T00:00:00-05:00",
          "2024-11-11T00:00:00-05:00",
          "2024-11-12T00:00:00-05:00",
          "2024-11-13T00:00:00-05:00",
          "2024-11-14T00:00:00-05:00",
          "2024-11-15T00:00:00-05:00",
          "2024-11-18T00:00:00-05:00",
          "2024-11-19T00:00:00-05:00",
          "2024-11-20T00:00:00-05:00",
          "2024-11-21T00:00:00-05:00",
          "2024-11-22T00:00:00-05:00",
          "2024-11-25T00:00:00-05:00",
          "2024-11-26T00:00:00-05:00",
          "2024-11-27T00:00:00-05:00",
          "2024-11-29T00:00:00-05:00",
          "2024-12-02T00:00:00-05:00",
          "2024-12-03T00:00:00-05:00",
          "2024-12-04T00:00:00-05:00",
          "2024-12-05T00:00:00-05:00",
          "2024-12-06T00:00:00-05:00",
          "2024-12-09T00:00:00-05:00",
          "2024-12-10T00:00:00-05:00",
          "2024-12-11T00:00:00-05:00",
          "2024-12-12T00:00:00-05:00",
          "2024-12-13T00:00:00-05:00",
          "2024-12-16T00:00:00-05:00",
          "2024-12-17T00:00:00-05:00",
          "2024-12-18T00:00:00-05:00",
          "2024-12-19T00:00:00-05:00",
          "2024-12-20T00:00:00-05:00",
          "2024-12-23T00:00:00-05:00",
          "2024-12-24T00:00:00-05:00",
          "2024-12-26T00:00:00-05:00",
          "2024-12-27T00:00:00-05:00",
          "2024-12-30T00:00:00-05:00",
          "2024-12-31T00:00:00-05:00",
          "2025-01-02T00:00:00-05:00",
          "2025-01-03T00:00:00-05:00",
          "2025-01-06T00:00:00-05:00",
          "2025-01-07T00:00:00-05:00",
          "2025-01-08T00:00:00-05:00",
          "2025-01-10T00:00:00-05:00",
          "2025-01-13T00:00:00-05:00",
          "2025-01-14T00:00:00-05:00",
          "2025-01-15T00:00:00-05:00",
          "2025-01-16T00:00:00-05:00",
          "2025-01-17T00:00:00-05:00",
          "2025-01-21T00:00:00-05:00",
          "2025-01-22T00:00:00-05:00",
          "2025-01-23T00:00:00-05:00",
          "2025-01-24T00:00:00-05:00",
          "2025-01-27T00:00:00-05:00",
          "2025-01-28T00:00:00-05:00",
          "2025-01-29T00:00:00-05:00",
          "2025-01-30T00:00:00-05:00",
          "2025-01-31T00:00:00-05:00",
          "2025-02-03T00:00:00-05:00",
          "2025-02-04T00:00:00-05:00",
          "2025-02-05T00:00:00-05:00",
          "2025-02-06T00:00:00-05:00",
          "2025-02-07T00:00:00-05:00",
          "2025-02-10T00:00:00-05:00",
          "2025-02-11T00:00:00-05:00",
          "2025-02-12T00:00:00-05:00",
          "2025-02-13T00:00:00-05:00",
          "2025-02-14T00:00:00-05:00",
          "2025-02-18T00:00:00-05:00",
          "2025-02-19T00:00:00-05:00",
          "2025-02-20T00:00:00-05:00",
          "2025-02-21T00:00:00-05:00",
          "2025-02-24T00:00:00-05:00",
          "2025-02-25T00:00:00-05:00",
          "2025-02-26T00:00:00-05:00",
          "2025-02-27T00:00:00-05:00",
          "2025-02-28T00:00:00-05:00"
         ],
         "y": {
          "bdata": "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",
          "dtype": "i4"
         }
        }
       ],
       "layout": {
        "template": {
         "data": {
          "bar": [
           {
            "error_x": {
             "color": "#f2f5fa"
            },
            "error_y": {
             "color": "#f2f5fa"
            },
            "marker": {
             "line": {
              "color": "rgb(17,17,17)",
              "width": 0.5
             },
             "pattern": {
              "fillmode": "overlay",
              "size": 10,
              "solidity": 0.2
             }
            },
            "type": "bar"
           }
          ],
          "barpolar": [
           {
            "marker": {
             "line": {
              "color": "rgb(17,17,17)",
              "width": 0.5
             },
             "pattern": {
              "fillmode": "overlay",
              "size": 10,
              "solidity": 0.2
             }
            },
            "type": "barpolar"
           }
          ],
          "carpet": [
           {
            "aaxis": {
             "endlinecolor": "#A2B1C6",
             "gridcolor": "#506784",
             "linecolor": "#506784",
             "minorgridcolor": "#506784",
             "startlinecolor": "#A2B1C6"
            },
            "baxis": {
             "endlinecolor": "#A2B1C6",
             "gridcolor": "#506784",
             "linecolor": "#506784",
             "minorgridcolor": "#506784",
             "startlinecolor": "#A2B1C6"
            },
            "type": "carpet"
           }
          ],
          "choropleth": [
           {
            "colorbar": {
             "outlinewidth": 0,
             "ticks": ""
            },
            "type": "choropleth"
           }
          ],
          "contour": [
           {
            "colorbar": {
             "outlinewidth": 0,
             "ticks": ""
            },
            "colorscale": [
             [
              0,
              "#0d0887"
             ],
             [
              0.1111111111111111,
              "#46039f"
             ],
             [
              0.2222222222222222,
              "#7201a8"
             ],
             [
              0.3333333333333333,
              "#9c179e"
             ],
             [
              0.4444444444444444,
              "#bd3786"
             ],
             [
              0.5555555555555556,
              "#d8576b"
             ],
             [
              0.6666666666666666,
              "#ed7953"
             ],
             [
              0.7777777777777778,
              "#fb9f3a"
             ],
             [
              0.8888888888888888,
              "#fdca26"
             ],
             [
              1,
              "#f0f921"
             ]
            ],
            "type": "contour"
           }
          ],
          "contourcarpet": [
           {
            "colorbar": {
             "outlinewidth": 0,
             "ticks": ""
            },
            "type": "contourcarpet"
           }
          ],
          "heatmap": [
           {
            "colorbar": {
             "outlinewidth": 0,
             "ticks": ""
            },
            "colorscale": [
             [
              0,
              "#0d0887"
             ],
             [
              0.1111111111111111,
              "#46039f"
             ],
             [
              0.2222222222222222,
              "#7201a8"
             ],
             [
              0.3333333333333333,
              "#9c179e"
             ],
             [
              0.4444444444444444,
              "#bd3786"
             ],
             [
              0.5555555555555556,
              "#d8576b"
             ],
             [
              0.6666666666666666,
              "#ed7953"
             ],
             [
              0.7777777777777778,
              "#fb9f3a"
             ],
             [
              0.8888888888888888,
              "#fdca26"
             ],
             [
              1,
              "#f0f921"
             ]
            ],
            "type": "heatmap"
           }
          ],
          "histogram": [
           {
            "marker": {
             "pattern": {
              "fillmode": "overlay",
              "size": 10,
              "solidity": 0.2
             }
            },
            "type": "histogram"
           }
          ],
          "histogram2d": [
           {
            "colorbar": {
             "outlinewidth": 0,
             "ticks": ""
            },
            "colorscale": [
             [
              0,
              "#0d0887"
             ],
             [
              0.1111111111111111,
              "#46039f"
             ],
             [
              0.2222222222222222,
              "#7201a8"
             ],
             [
              0.3333333333333333,
              "#9c179e"
             ],
             [
              0.4444444444444444,
              "#bd3786"
             ],
             [
              0.5555555555555556,
              "#d8576b"
             ],
             [
              0.6666666666666666,
              "#ed7953"
             ],
             [
              0.7777777777777778,
              "#fb9f3a"
             ],
             [
              0.8888888888888888,
              "#fdca26"
             ],
             [
              1,
              "#f0f921"
             ]
            ],
            "type": "histogram2d"
           }
          ],
          "histogram2dcontour": [
           {
            "colorbar": {
             "outlinewidth": 0,
             "ticks": ""
            },
            "colorscale": [
             [
              0,
              "#0d0887"
             ],
             [
              0.1111111111111111,
              "#46039f"
             ],
             [
              0.2222222222222222,
              "#7201a8"
             ],
             [
              0.3333333333333333,
              "#9c179e"
             ],
             [
              0.4444444444444444,
              "#bd3786"
             ],
             [
              0.5555555555555556,
              "#d8576b"
             ],
             [
              0.6666666666666666,
              "#ed7953"
             ],
             [
              0.7777777777777778,
              "#fb9f3a"
             ],
             [
              0.8888888888888888,
              "#fdca26"
             ],
             [
              1,
              "#f0f921"
             ]
            ],
            "type": "histogram2dcontour"
           }
          ],
          "mesh3d": [
           {
            "colorbar": {
             "outlinewidth": 0,
             "ticks": ""
            },
            "type": "mesh3d"
           }
          ],
          "parcoords": [
           {
            "line": {
             "colorbar": {
              "outlinewidth": 0,
              "ticks": ""
             }
            },
            "type": "parcoords"
           }
          ],
          "pie": [
           {
            "automargin": true,
            "type": "pie"
           }
          ],
          "scatter": [
           {
            "marker": {
             "line": {
              "color": "#283442"
             }
            },
            "type": "scatter"
           }
          ],
          "scatter3d": [
           {
            "line": {
             "colorbar": {
              "outlinewidth": 0,
              "ticks": ""
             }
            },
            "marker": {
             "colorbar": {
              "outlinewidth": 0,
              "ticks": ""
             }
            },
            "type": "scatter3d"
           }
          ],
          "scattercarpet": [
           {
            "marker": {
             "colorbar": {
              "outlinewidth": 0,
              "ticks": ""
             }
            },
            "type": "scattercarpet"
           }
          ],
          "scattergeo": [
           {
            "marker": {
             "colorbar": {
              "outlinewidth": 0,
              "ticks": ""
             }
            },
            "type": "scattergeo"
           }
          ],
          "scattergl": [
           {
            "marker": {
             "line": {
              "color": "#283442"
             }
            },
            "type": "scattergl"
           }
          ],
          "scattermap": [
           {
            "marker": {
             "colorbar": {
              "outlinewidth": 0,
              "ticks": ""
             }
            },
            "type": "scattermap"
           }
          ],
          "scattermapbox": [
           {
            "marker": {
             "colorbar": {
              "outlinewidth": 0,
              "ticks": ""
             }
            },
            "type": "scattermapbox"
           }
          ],
          "scatterpolar": [
           {
            "marker": {
             "colorbar": {
              "outlinewidth": 0,
              "ticks": ""
             }
            },
            "type": "scatterpolar"
           }
          ],
          "scatterpolargl": [
           {
            "marker": {
             "colorbar": {
              "outlinewidth": 0,
              "ticks": ""
             }
            },
            "type": "scatterpolargl"
           }
          ],
          "scatterternary": [
           {
            "marker": {
             "colorbar": {
              "outlinewidth": 0,
              "ticks": ""
             }
            },
            "type": "scatterternary"
           }
          ],
          "surface": [
           {
            "colorbar": {
             "outlinewidth": 0,
             "ticks": ""
            },
            "colorscale": [
             [
              0,
              "#0d0887"
             ],
             [
              0.1111111111111111,
              "#46039f"
             ],
             [
              0.2222222222222222,
              "#7201a8"
             ],
             [
              0.3333333333333333,
              "#9c179e"
             ],
             [
              0.4444444444444444,
              "#bd3786"
             ],
             [
              0.5555555555555556,
              "#d8576b"
             ],
             [
              0.6666666666666666,
              "#ed7953"
             ],
             [
              0.7777777777777778,
              "#fb9f3a"
             ],
             [
              0.8888888888888888,
              "#fdca26"
             ],
             [
              1,
              "#f0f921"
             ]
            ],
            "type": "surface"
           }
          ],
          "table": [
           {
            "cells": {
             "fill": {
              "color": "#506784"
             },
             "line": {
              "color": "rgb(17,17,17)"
             }
            },
            "header": {
             "fill": {
              "color": "#2a3f5f"
             },
             "line": {
              "color": "rgb(17,17,17)"
             }
            },
            "type": "table"
           }
          ]
         },
         "layout": {
          "annotationdefaults": {
           "arrowcolor": "#f2f5fa",
           "arrowhead": 0,
           "arrowwidth": 1
          },
          "autotypenumbers": "strict",
          "coloraxis": {
           "colorbar": {
            "outlinewidth": 0,
            "ticks": ""
           }
          },
          "colorscale": {
           "diverging": [
            [
             0,
             "#8e0152"
            ],
            [
             0.1,
             "#c51b7d"
            ],
            [
             0.2,
             "#de77ae"
            ],
            [
             0.3,
             "#f1b6da"
            ],
            [
             0.4,
             "#fde0ef"
            ],
            [
             0.5,
             "#f7f7f7"
            ],
            [
             0.6,
             "#e6f5d0"
            ],
            [
             0.7,
             "#b8e186"
            ],
            [
             0.8,
             "#7fbc41"
            ],
            [
             0.9,
             "#4d9221"
            ],
            [
             1,
             "#276419"
            ]
           ],
           "sequential": [
            [
             0,
             "#0d0887"
            ],
            [
             0.1111111111111111,
             "#46039f"
            ],
            [
             0.2222222222222222,
             "#7201a8"
            ],
            [
             0.3333333333333333,
             "#9c179e"
            ],
            [
             0.4444444444444444,
             "#bd3786"
            ],
            [
             0.5555555555555556,
             "#d8576b"
            ],
            [
             0.6666666666666666,
             "#ed7953"
            ],
            [
             0.7777777777777778,
             "#fb9f3a"
            ],
            [
             0.8888888888888888,
             "#fdca26"
            ],
            [
             1,
             "#f0f921"
            ]
           ],
           "sequentialminus": [
            [
             0,
             "#0d0887"
            ],
            [
             0.1111111111111111,
             "#46039f"
            ],
            [
             0.2222222222222222,
             "#7201a8"
            ],
            [
             0.3333333333333333,
             "#9c179e"
            ],
            [
             0.4444444444444444,
             "#bd3786"
            ],
            [
             0.5555555555555556,
             "#d8576b"
            ],
            [
             0.6666666666666666,
             "#ed7953"
            ],
            [
             0.7777777777777778,
             "#fb9f3a"
            ],
            [
             0.8888888888888888,
             "#fdca26"
            ],
            [
             1,
             "#f0f921"
            ]
           ]
          },
          "colorway": [
           "#636efa",
           "#EF553B",
           "#00cc96",
           "#ab63fa",
           "#FFA15A",
           "#19d3f3",
           "#FF6692",
           "#B6E880",
           "#FF97FF",
           "#FECB52"
          ],
          "font": {
           "color": "#f2f5fa"
          },
          "geo": {
           "bgcolor": "rgb(17,17,17)",
           "lakecolor": "rgb(17,17,17)",
           "landcolor": "rgb(17,17,17)",
           "showlakes": true,
           "showland": true,
           "subunitcolor": "#506784"
          },
          "hoverlabel": {
           "align": "left"
          },
          "hovermode": "closest",
          "mapbox": {
           "style": "dark"
          },
          "paper_bgcolor": "rgb(17,17,17)",
          "plot_bgcolor": "rgb(17,17,17)",
          "polar": {
           "angularaxis": {
            "gridcolor": "#506784",
            "linecolor": "#506784",
            "ticks": ""
           },
           "bgcolor": "rgb(17,17,17)",
           "radialaxis": {
            "gridcolor": "#506784",
            "linecolor": "#506784",
            "ticks": ""
           }
          },
          "scene": {
           "xaxis": {
            "backgroundcolor": "rgb(17,17,17)",
            "gridcolor": "#506784",
            "gridwidth": 2,
            "linecolor": "#506784",
            "showbackground": true,
            "ticks": "",
            "zerolinecolor": "#C8D4E3"
           },
           "yaxis": {
            "backgroundcolor": "rgb(17,17,17)",
            "gridcolor": "#506784",
            "gridwidth": 2,
            "linecolor": "#506784",
            "showbackground": true,
            "ticks": "",
            "zerolinecolor": "#C8D4E3"
           },
           "zaxis": {
            "backgroundcolor": "rgb(17,17,17)",
            "gridcolor": "#506784",
            "gridwidth": 2,
            "linecolor": "#506784",
            "showbackground": true,
            "ticks": "",
            "zerolinecolor": "#C8D4E3"
           }
          },
          "shapedefaults": {
           "line": {
            "color": "#f2f5fa"
           }
          },
          "sliderdefaults": {
           "bgcolor": "#C8D4E3",
           "bordercolor": "rgb(17,17,17)",
           "borderwidth": 1,
           "tickwidth": 0
          },
          "ternary": {
           "aaxis": {
            "gridcolor": "#506784",
            "linecolor": "#506784",
            "ticks": ""
           },
           "baxis": {
            "gridcolor": "#506784",
            "linecolor": "#506784",
            "ticks": ""
           },
           "bgcolor": "rgb(17,17,17)",
           "caxis": {
            "gridcolor": "#506784",
            "linecolor": "#506784",
            "ticks": ""
           }
          },
          "title": {
           "x": 0.05
          },
          "updatemenudefaults": {
           "bgcolor": "#506784",
           "borderwidth": 0
          },
          "xaxis": {
           "automargin": true,
           "gridcolor": "#283442",
           "linecolor": "#506784",
           "ticks": "",
           "title": {
            "standoff": 15
           },
           "zerolinecolor": "#283442",
           "zerolinewidth": 2
          },
          "yaxis": {
           "automargin": true,
           "gridcolor": "#283442",
           "linecolor": "#506784",
           "ticks": "",
           "title": {
            "standoff": 15
           },
           "zerolinecolor": "#283442",
           "zerolinewidth": 2
          }
         }
        },
        "title": {
         "text": "Amazon Trading Volume"
        },
        "xaxis": {
         "title": {
          "text": "Date"
         }
        },
        "yaxis": {
         "title": {
          "text": "Volume"
         }
        }
       }
      }
     },
     "metadata": {},
     "output_type": "display_data"
    }
   ],
   "source": [
    "fig = go.Figure()\n",
    "\n",
    "fig.add_trace(go.Bar(x=df['Date'], y=df['Volume'], name='Volume', marker=dict(color='#5B9787')))\n",
    "\n",
    "fig.update_layout(title=\"Amazon Trading Volume\", xaxis_title=\"Date\",yaxis_title=\"Volume\",template=\"plotly_dark\")\n",
    "\n",
    "fig.show()\n",
    "\n",
    "fig.write_html(\"amazon_trading_volume.html\")\n"
   ]
  },
  {
   "cell_type": "markdown",
   "metadata": {},
   "source": [
    "- <h4> Moving Averages Alignment"
   ]
  },
  {
   "cell_type": "code",
   "execution_count": null,
   "metadata": {},
   "outputs": [],
   "source": [
    "sma_50= df['Close'].rolling(window=50).mean()\n",
    "sma_200= df['Close'].rolling(window=200).mean()"
   ]
  },
  {
   "cell_type": "code",
   "execution_count": null,
   "metadata": {},
   "outputs": [
    {
     "data": {
      "image/png": "[encoded data removed]",
      "text/plain": [
       "<Figure size 1500x400 with 1 Axes>"
      ]
     },
     "metadata": {},
     "output_type": "display_data"
    }
   ],
   "source": [
    "plt.figure(figsize=(15,4))\n",
    "plt.plot(df['Date'], df['Close'], label='Closing Price', color='#5B9787',linewidth=2)\n",
    "plt.plot(df['Date'], sma_50, label='SMA 50', color='blue', linestyle='dashed')\n",
    "plt.plot(df['Date'], sma_200, label='SMA 200', color='red', linestyle='dashed')\n",
    "plt.xlabel('Date')\n",
    "plt.ylabel('Price (USD)')\n",
    "plt.title('Amazon Closing Price')\n",
    "plt.style.use(\"ggplot\")\n",
    "plt.legend()\n",
    "plt.show()"
   ]
  },
  {
   "cell_type": "markdown",
   "metadata": {},
   "source": [
    "- <h4> MACD Trend Analysis"
   ]
  },
  {
   "cell_type": "code",
   "execution_count": null,
   "metadata": {},
   "outputs": [],
   "source": [
    "ema_12 = df['Close'].ewm(span=12, adjust=False).mean()\n",
    "ema_26 = df['Close'].ewm(span=26, adjust=False).mean()\n",
    "macd = ema_12 - ema_26\n",
    "signal = macd.ewm(span=9, adjust=False).mean()"
   ]
  },
  {
   "cell_type": "code",
   "execution_count": null,
   "metadata": {},
   "outputs": [
    {
     "data": {
      "image/png": "[encoded data removed]",
      "text/plain": [
       "<Figure size 1500x400 with 1 Axes>"
      ]
     },
     "metadata": {},
     "output_type": "display_data"
    }
   ],
   "source": [
    "plt.figure(figsize=(15,4))\n",
    "plt.plot(df['Date'], macd, label='MACD', color='purple')\n",
    "plt.plot(df['Date'], signal, label='Signal Line', color='orange')\n",
    "plt.axhline(0, color='gray', linestyle='--', linewidth=0.8)\n",
    "plt.xlabel('Date')\n",
    "plt.ylabel('MACD Value')\n",
    "plt.title('Amazon MACD Analysis')\n",
    "plt.legend()\n",
    "plt.show()"
   ]
  },
  {
   "cell_type": "markdown",
   "metadata": {},
   "source": [
    "- <h4> Distribution of Daily Returns"
   ]
  },
  {
   "cell_type": "code",
   "execution_count": null,
   "metadata": {},
   "outputs": [
    {
     "data": {
      "image/png": "[encoded data removed]",
      "text/plain": [
       "<Figure size 1100x400 with 1 Axes>"
      ]
     },
     "metadata": {},
     "output_type": "display_data"
    }
   ],
   "source": [
    "plt.figure(figsize=(11,4))\n",
    "sns.histplot(df['Daily Return'], bins=30,kde=True, color='#5B9787')\n",
    "plt.title('Distribution of Daily Returns')\n",
    "plt.ylabel('Frequency')\n",
    "plt.show()"
   ]
  },
  {
   "cell_type": "markdown",
   "metadata": {},
   "source": [
    "- <h4> 30-Day Moving Average Comparison"
   ]
  },
  {
   "cell_type": "code",
   "execution_count": null,
   "metadata": {},
   "outputs": [
    {
     "data": {
      "image/png": "[encoded data removed]",
      "text/plain": [
       "<Figure size 1500x400 with 1 Axes>"
      ]
     },
     "metadata": {},
     "output_type": "display_data"
    }
   ],
   "source": [
    "plt.figure(figsize=(15, 4))\n",
    "df['Close'].plot(label='Closing Price', color= '#5B9787', linewidth=2)\n",
    "df['Close'].rolling(window=30).mean().plot(label='30-Day Avg', linestyle='--', color='red')\n",
    "plt.title( 'AMZN Closing Prices with 30-Day Moving Average')\n",
    "plt.xlabel('Date')\n",
    "plt.ylabel('Closing Price (USD)')\n",
    "plt.legend()\n",
    "plt.show()"
   ]
  }
 ],
 "metadata": {
  "kernelspec": {
   "display_name": "Python 3",
   "language": "python",
   "name": "python3"
  },
  "language_info": {
   "codemirror_mode": {
    "name": "ipython",
    "version": 3
   },
   "file_extension": ".py",
   "mimetype": "text/x-python",
   "name": "python",
   "nbconvert_exporter": "python",
   "pygments_lexer": "ipython3",
   "version": "3.11.4"
  }
 },
 "nbformat": 4,
 "nbformat_minor": 2
}
