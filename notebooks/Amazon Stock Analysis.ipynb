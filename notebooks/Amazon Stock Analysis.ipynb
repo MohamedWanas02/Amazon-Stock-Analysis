{
 "cells": [
  {
   "cell_type": "markdown",
   "metadata": {},
   "source": [
    "<h1> <center>   AMAZON STOCK ANALYSIS"
   ]
  },
  {
   "cell_type": "markdown",
   "metadata": {},
   "source": [
    "___"
   ]
  },
  {
   "cell_type": "markdown",
   "metadata": {},
   "source": [
    "<h2> OBJECTIVE"
   ]
  },
  {
   "cell_type": "markdown",
   "metadata": {},
   "source": [
    "- Stock Price Movement Analysis\n",
    "\n",
    "- Trading Volume Trends\n",
    "\n",
    "- Moving Averages Alignment\n",
    "\n",
    "- MACD Trend Analysis\n",
    "\n",
    "- Distribution of Daily Returns\n",
    "\n",
    "- 30-Day Moving Average Comparison"
   ]
  },
  {
   "cell_type": "markdown",
   "metadata": {},
   "source": [
    "_______"
   ]
  },
  {
   "cell_type": "code",
   "execution_count": 1,
   "metadata": {},
   "outputs": [],
   "source": [
    "import pandas as pd\n",
    "import matplotlib.pyplot as plt\n",
    "import seaborn as sns\n",
    "import plotly.graph_objects as go\n",
    "import yfinance as yf\n",
    "import warnings\n",
    "warnings.filterwarnings('ignore')"
   ]
  },
  {
   "cell_type": "code",
   "execution_count": 2,
   "metadata": {},
   "outputs": [
    {
     "data": {
      "text/html": [
       "<div>\n",
       "<style scoped>\n",
       "    .dataframe tbody tr th:only-of-type {\n",
       "        vertical-align: middle;\n",
       "    }\n",
       "\n",
       "    .dataframe tbody tr th {\n",
       "        vertical-align: top;\n",
       "    }\n",
       "\n",
       "    .dataframe thead th {\n",
       "        text-align: right;\n",
       "    }\n",
       "</style>\n",
       "<table border=\"1\" class=\"dataframe\">\n",
       "  <thead>\n",
       "    <tr style=\"text-align: right;\">\n",
       "      <th></th>\n",
       "      <th>Date</th>\n",
       "      <th>Open</th>\n",
       "      <th>High</th>\n",
       "      <th>Low</th>\n",
       "      <th>Close</th>\n",
       "      <th>Volume</th>\n",
       "      <th>Dividends</th>\n",
       "      <th>Stock Splits</th>\n",
       "    </tr>\n",
       "  </thead>\n",
       "  <tbody>\n",
       "    <tr>\n",
       "      <th>0</th>\n",
       "      <td>2022-05-06 00:00:00-04:00</td>\n",
       "      <td>114.849998</td>\n",
       "      <td>119.050499</td>\n",
       "      <td>113.081497</td>\n",
       "      <td>114.772499</td>\n",
       "      <td>124260000</td>\n",
       "      <td>0.0</td>\n",
       "      <td>0.0</td>\n",
       "    </tr>\n",
       "    <tr>\n",
       "      <th>1</th>\n",
       "      <td>2022-05-09 00:00:00-04:00</td>\n",
       "      <td>111.312500</td>\n",
       "      <td>114.000000</td>\n",
       "      <td>107.957001</td>\n",
       "      <td>108.789001</td>\n",
       "      <td>128124000</td>\n",
       "      <td>0.0</td>\n",
       "      <td>0.0</td>\n",
       "    </tr>\n",
       "    <tr>\n",
       "      <th>2</th>\n",
       "      <td>2022-05-10 00:00:00-04:00</td>\n",
       "      <td>111.250000</td>\n",
       "      <td>112.642502</td>\n",
       "      <td>107.170998</td>\n",
       "      <td>108.859001</td>\n",
       "      <td>105434000</td>\n",
       "      <td>0.0</td>\n",
       "      <td>0.0</td>\n",
       "    </tr>\n",
       "    <tr>\n",
       "      <th>3</th>\n",
       "      <td>2022-05-11 00:00:00-04:00</td>\n",
       "      <td>108.103500</td>\n",
       "      <td>110.155998</td>\n",
       "      <td>104.428497</td>\n",
       "      <td>105.372002</td>\n",
       "      <td>109704000</td>\n",
       "      <td>0.0</td>\n",
       "      <td>0.0</td>\n",
       "    </tr>\n",
       "    <tr>\n",
       "      <th>4</th>\n",
       "      <td>2022-05-12 00:00:00-04:00</td>\n",
       "      <td>102.750000</td>\n",
       "      <td>110.780502</td>\n",
       "      <td>102.405502</td>\n",
       "      <td>106.930496</td>\n",
       "      <td>132026000</td>\n",
       "      <td>0.0</td>\n",
       "      <td>0.0</td>\n",
       "    </tr>\n",
       "    <tr>\n",
       "      <th>...</th>\n",
       "      <td>...</td>\n",
       "      <td>...</td>\n",
       "      <td>...</td>\n",
       "      <td>...</td>\n",
       "      <td>...</td>\n",
       "      <td>...</td>\n",
       "      <td>...</td>\n",
       "      <td>...</td>\n",
       "    </tr>\n",
       "    <tr>\n",
       "      <th>746</th>\n",
       "      <td>2025-04-29 00:00:00-04:00</td>\n",
       "      <td>183.990005</td>\n",
       "      <td>188.020004</td>\n",
       "      <td>183.679993</td>\n",
       "      <td>187.389999</td>\n",
       "      <td>41667300</td>\n",
       "      <td>0.0</td>\n",
       "      <td>0.0</td>\n",
       "    </tr>\n",
       "    <tr>\n",
       "      <th>747</th>\n",
       "      <td>2025-04-30 00:00:00-04:00</td>\n",
       "      <td>182.169998</td>\n",
       "      <td>185.050003</td>\n",
       "      <td>178.850006</td>\n",
       "      <td>184.419998</td>\n",
       "      <td>55176500</td>\n",
       "      <td>0.0</td>\n",
       "      <td>0.0</td>\n",
       "    </tr>\n",
       "    <tr>\n",
       "      <th>748</th>\n",
       "      <td>2025-05-01 00:00:00-04:00</td>\n",
       "      <td>190.630005</td>\n",
       "      <td>191.809998</td>\n",
       "      <td>187.500000</td>\n",
       "      <td>190.199997</td>\n",
       "      <td>74266000</td>\n",
       "      <td>0.0</td>\n",
       "      <td>0.0</td>\n",
       "    </tr>\n",
       "    <tr>\n",
       "      <th>749</th>\n",
       "      <td>2025-05-02 00:00:00-04:00</td>\n",
       "      <td>191.440002</td>\n",
       "      <td>192.880005</td>\n",
       "      <td>186.399994</td>\n",
       "      <td>189.979996</td>\n",
       "      <td>77809300</td>\n",
       "      <td>0.0</td>\n",
       "      <td>0.0</td>\n",
       "    </tr>\n",
       "    <tr>\n",
       "      <th>750</th>\n",
       "      <td>2025-05-05 00:00:00-04:00</td>\n",
       "      <td>186.509995</td>\n",
       "      <td>188.179993</td>\n",
       "      <td>185.529999</td>\n",
       "      <td>186.350006</td>\n",
       "      <td>35161600</td>\n",
       "      <td>0.0</td>\n",
       "      <td>0.0</td>\n",
       "    </tr>\n",
       "  </tbody>\n",
       "</table>\n",
       "<p>751 rows × 8 columns</p>\n",
       "</div>"
      ],
      "text/plain": [
       "                         Date        Open        High         Low       Close  \\\n",
       "0   2022-05-06 00:00:00-04:00  114.849998  119.050499  113.081497  114.772499   \n",
       "1   2022-05-09 00:00:00-04:00  111.312500  114.000000  107.957001  108.789001   \n",
       "2   2022-05-10 00:00:00-04:00  111.250000  112.642502  107.170998  108.859001   \n",
       "3   2022-05-11 00:00:00-04:00  108.103500  110.155998  104.428497  105.372002   \n",
       "4   2022-05-12 00:00:00-04:00  102.750000  110.780502  102.405502  106.930496   \n",
       "..                        ...         ...         ...         ...         ...   \n",
       "746 2025-04-29 00:00:00-04:00  183.990005  188.020004  183.679993  187.389999   \n",
       "747 2025-04-30 00:00:00-04:00  182.169998  185.050003  178.850006  184.419998   \n",
       "748 2025-05-01 00:00:00-04:00  190.630005  191.809998  187.500000  190.199997   \n",
       "749 2025-05-02 00:00:00-04:00  191.440002  192.880005  186.399994  189.979996   \n",
       "750 2025-05-05 00:00:00-04:00  186.509995  188.179993  185.529999  186.350006   \n",
       "\n",
       "        Volume  Dividends  Stock Splits  \n",
       "0    124260000        0.0           0.0  \n",
       "1    128124000        0.0           0.0  \n",
       "2    105434000        0.0           0.0  \n",
       "3    109704000        0.0           0.0  \n",
       "4    132026000        0.0           0.0  \n",
       "..         ...        ...           ...  \n",
       "746   41667300        0.0           0.0  \n",
       "747   55176500        0.0           0.0  \n",
       "748   74266000        0.0           0.0  \n",
       "749   77809300        0.0           0.0  \n",
       "750   35161600        0.0           0.0  \n",
       "\n",
       "[751 rows x 8 columns]"
      ]
     },
     "execution_count": 2,
     "metadata": {},
     "output_type": "execute_result"
    }
   ],
   "source": [
    "stock= yf.Ticker('AMZN')\n",
    "df=stock.history(period= '3y')\n",
    "df.reset_index(inplace=True)\n",
    "df"
   ]
  },
  {
   "cell_type": "code",
   "execution_count": 3,
   "metadata": {},
   "outputs": [
    {
     "name": "stdout",
     "output_type": "stream",
     "text": [
      "<class 'pandas.core.frame.DataFrame'>\n",
      "RangeIndex: 751 entries, 0 to 750\n",
      "Data columns (total 8 columns):\n",
      " #   Column        Non-Null Count  Dtype                           \n",
      "---  ------        --------------  -----                           \n",
      " 0   Date          751 non-null    datetime64[ns, America/New_York]\n",
      " 1   Open          751 non-null    float64                         \n",
      " 2   High          751 non-null    float64                         \n",
      " 3   Low           751 non-null    float64                         \n",
      " 4   Close         751 non-null    float64                         \n",
      " 5   Volume        751 non-null    int64                           \n",
      " 6   Dividends     751 non-null    float64                         \n",
      " 7   Stock Splits  751 non-null    float64                         \n",
      "dtypes: datetime64[ns, America/New_York](1), float64(6), int64(1)\n",
      "memory usage: 47.1 KB\n"
     ]
    }
   ],
   "source": [
    "df.info()"
   ]
  },
  {
   "cell_type": "code",
   "execution_count": 4,
   "metadata": {},
   "outputs": [
    {
     "data": {
      "text/plain": [
       "(751, 8)"
      ]
     },
     "execution_count": 4,
     "metadata": {},
     "output_type": "execute_result"
    }
   ],
   "source": [
    "df.shape"
   ]
  },
  {
   "cell_type": "code",
   "execution_count": 5,
   "metadata": {},
   "outputs": [
    {
     "data": {
      "text/html": [
       "<div>\n",
       "<style scoped>\n",
       "    .dataframe tbody tr th:only-of-type {\n",
       "        vertical-align: middle;\n",
       "    }\n",
       "\n",
       "    .dataframe tbody tr th {\n",
       "        vertical-align: top;\n",
       "    }\n",
       "\n",
       "    .dataframe thead th {\n",
       "        text-align: right;\n",
       "    }\n",
       "</style>\n",
       "<table border=\"1\" class=\"dataframe\">\n",
       "  <thead>\n",
       "    <tr style=\"text-align: right;\">\n",
       "      <th></th>\n",
       "      <th>Date</th>\n",
       "      <th>Open</th>\n",
       "      <th>High</th>\n",
       "      <th>Low</th>\n",
       "      <th>Close</th>\n",
       "      <th>Volume</th>\n",
       "      <th>Dividends</th>\n",
       "      <th>Stock Splits</th>\n",
       "    </tr>\n",
       "  </thead>\n",
       "  <tbody>\n",
       "    <tr>\n",
       "      <th>746</th>\n",
       "      <td>2025-04-29 00:00:00-04:00</td>\n",
       "      <td>183.990005</td>\n",
       "      <td>188.020004</td>\n",
       "      <td>183.679993</td>\n",
       "      <td>187.389999</td>\n",
       "      <td>41667300</td>\n",
       "      <td>0.0</td>\n",
       "      <td>0.0</td>\n",
       "    </tr>\n",
       "    <tr>\n",
       "      <th>747</th>\n",
       "      <td>2025-04-30 00:00:00-04:00</td>\n",
       "      <td>182.169998</td>\n",
       "      <td>185.050003</td>\n",
       "      <td>178.850006</td>\n",
       "      <td>184.419998</td>\n",
       "      <td>55176500</td>\n",
       "      <td>0.0</td>\n",
       "      <td>0.0</td>\n",
       "    </tr>\n",
       "    <tr>\n",
       "      <th>748</th>\n",
       "      <td>2025-05-01 00:00:00-04:00</td>\n",
       "      <td>190.630005</td>\n",
       "      <td>191.809998</td>\n",
       "      <td>187.500000</td>\n",
       "      <td>190.199997</td>\n",
       "      <td>74266000</td>\n",
       "      <td>0.0</td>\n",
       "      <td>0.0</td>\n",
       "    </tr>\n",
       "    <tr>\n",
       "      <th>749</th>\n",
       "      <td>2025-05-02 00:00:00-04:00</td>\n",
       "      <td>191.440002</td>\n",
       "      <td>192.880005</td>\n",
       "      <td>186.399994</td>\n",
       "      <td>189.979996</td>\n",
       "      <td>77809300</td>\n",
       "      <td>0.0</td>\n",
       "      <td>0.0</td>\n",
       "    </tr>\n",
       "    <tr>\n",
       "      <th>750</th>\n",
       "      <td>2025-05-05 00:00:00-04:00</td>\n",
       "      <td>186.509995</td>\n",
       "      <td>188.179993</td>\n",
       "      <td>185.529999</td>\n",
       "      <td>186.350006</td>\n",
       "      <td>35161600</td>\n",
       "      <td>0.0</td>\n",
       "      <td>0.0</td>\n",
       "    </tr>\n",
       "  </tbody>\n",
       "</table>\n",
       "</div>"
      ],
      "text/plain": [
       "                         Date        Open        High         Low       Close  \\\n",
       "746 2025-04-29 00:00:00-04:00  183.990005  188.020004  183.679993  187.389999   \n",
       "747 2025-04-30 00:00:00-04:00  182.169998  185.050003  178.850006  184.419998   \n",
       "748 2025-05-01 00:00:00-04:00  190.630005  191.809998  187.500000  190.199997   \n",
       "749 2025-05-02 00:00:00-04:00  191.440002  192.880005  186.399994  189.979996   \n",
       "750 2025-05-05 00:00:00-04:00  186.509995  188.179993  185.529999  186.350006   \n",
       "\n",
       "       Volume  Dividends  Stock Splits  \n",
       "746  41667300        0.0           0.0  \n",
       "747  55176500        0.0           0.0  \n",
       "748  74266000        0.0           0.0  \n",
       "749  77809300        0.0           0.0  \n",
       "750  35161600        0.0           0.0  "
      ]
     },
     "execution_count": 5,
     "metadata": {},
     "output_type": "execute_result"
    }
   ],
   "source": [
    "df.tail()"
   ]
  },
  {
   "cell_type": "code",
   "execution_count": 6,
   "metadata": {},
   "outputs": [
    {
     "data": {
      "text/plain": [
       "Date            0\n",
       "Open            0\n",
       "High            0\n",
       "Low             0\n",
       "Close           0\n",
       "Volume          0\n",
       "Dividends       0\n",
       "Stock Splits    0\n",
       "dtype: int64"
      ]
     },
     "execution_count": 6,
     "metadata": {},
     "output_type": "execute_result"
    }
   ],
   "source": [
    "df.isna().sum()"
   ]
  },
  {
   "cell_type": "code",
   "execution_count": 7,
   "metadata": {},
   "outputs": [
    {
     "data": {
      "text/html": [
       "<div>\n",
       "<style scoped>\n",
       "    .dataframe tbody tr th:only-of-type {\n",
       "        vertical-align: middle;\n",
       "    }\n",
       "\n",
       "    .dataframe tbody tr th {\n",
       "        vertical-align: top;\n",
       "    }\n",
       "\n",
       "    .dataframe thead th {\n",
       "        text-align: right;\n",
       "    }\n",
       "</style>\n",
       "<table border=\"1\" class=\"dataframe\">\n",
       "  <thead>\n",
       "    <tr style=\"text-align: right;\">\n",
       "      <th></th>\n",
       "      <th>Open</th>\n",
       "      <th>High</th>\n",
       "      <th>Low</th>\n",
       "      <th>Close</th>\n",
       "      <th>Volume</th>\n",
       "      <th>Dividends</th>\n",
       "      <th>Stock Splits</th>\n",
       "    </tr>\n",
       "  </thead>\n",
       "  <tbody>\n",
       "    <tr>\n",
       "      <th>count</th>\n",
       "      <td>751.0</td>\n",
       "      <td>751.0</td>\n",
       "      <td>751.0</td>\n",
       "      <td>751.0</td>\n",
       "      <td>751.0</td>\n",
       "      <td>751.0</td>\n",
       "      <td>751.0</td>\n",
       "    </tr>\n",
       "    <tr>\n",
       "      <th>mean</th>\n",
       "      <td>150.0</td>\n",
       "      <td>152.0</td>\n",
       "      <td>148.0</td>\n",
       "      <td>150.0</td>\n",
       "      <td>54918954.0</td>\n",
       "      <td>0.0</td>\n",
       "      <td>0.0</td>\n",
       "    </tr>\n",
       "    <tr>\n",
       "      <th>std</th>\n",
       "      <td>41.0</td>\n",
       "      <td>41.0</td>\n",
       "      <td>41.0</td>\n",
       "      <td>41.0</td>\n",
       "      <td>25229518.0</td>\n",
       "      <td>0.0</td>\n",
       "      <td>1.0</td>\n",
       "    </tr>\n",
       "    <tr>\n",
       "      <th>min</th>\n",
       "      <td>83.0</td>\n",
       "      <td>83.0</td>\n",
       "      <td>81.0</td>\n",
       "      <td>82.0</td>\n",
       "      <td>15007500.0</td>\n",
       "      <td>0.0</td>\n",
       "      <td>0.0</td>\n",
       "    </tr>\n",
       "    <tr>\n",
       "      <th>25%</th>\n",
       "      <td>115.0</td>\n",
       "      <td>117.0</td>\n",
       "      <td>113.0</td>\n",
       "      <td>115.0</td>\n",
       "      <td>38636550.0</td>\n",
       "      <td>0.0</td>\n",
       "      <td>0.0</td>\n",
       "    </tr>\n",
       "    <tr>\n",
       "      <th>50%</th>\n",
       "      <td>142.0</td>\n",
       "      <td>144.0</td>\n",
       "      <td>141.0</td>\n",
       "      <td>143.0</td>\n",
       "      <td>48795100.0</td>\n",
       "      <td>0.0</td>\n",
       "      <td>0.0</td>\n",
       "    </tr>\n",
       "    <tr>\n",
       "      <th>75%</th>\n",
       "      <td>184.0</td>\n",
       "      <td>186.0</td>\n",
       "      <td>182.0</td>\n",
       "      <td>184.0</td>\n",
       "      <td>64330050.0</td>\n",
       "      <td>0.0</td>\n",
       "      <td>0.0</td>\n",
       "    </tr>\n",
       "    <tr>\n",
       "      <th>max</th>\n",
       "      <td>239.0</td>\n",
       "      <td>243.0</td>\n",
       "      <td>238.0</td>\n",
       "      <td>242.0</td>\n",
       "      <td>223133400.0</td>\n",
       "      <td>0.0</td>\n",
       "      <td>20.0</td>\n",
       "    </tr>\n",
       "  </tbody>\n",
       "</table>\n",
       "</div>"
      ],
      "text/plain": [
       "        Open   High    Low  Close       Volume  Dividends  Stock Splits\n",
       "count  751.0  751.0  751.0  751.0        751.0      751.0         751.0\n",
       "mean   150.0  152.0  148.0  150.0   54918954.0        0.0           0.0\n",
       "std     41.0   41.0   41.0   41.0   25229518.0        0.0           1.0\n",
       "min     83.0   83.0   81.0   82.0   15007500.0        0.0           0.0\n",
       "25%    115.0  117.0  113.0  115.0   38636550.0        0.0           0.0\n",
       "50%    142.0  144.0  141.0  143.0   48795100.0        0.0           0.0\n",
       "75%    184.0  186.0  182.0  184.0   64330050.0        0.0           0.0\n",
       "max    239.0  243.0  238.0  242.0  223133400.0        0.0          20.0"
      ]
     },
     "execution_count": 7,
     "metadata": {},
     "output_type": "execute_result"
    }
   ],
   "source": [
    "df.describe().round()"
   ]
  },
  {
   "cell_type": "code",
   "execution_count": 8,
   "metadata": {},
   "outputs": [],
   "source": [
    "df['Daily Return'] = df['Close'].pct_change()"
   ]
  },
  {
   "cell_type": "code",
   "execution_count": 9,
   "metadata": {},
   "outputs": [],
   "source": [
    "df['Year'] = df['Date'].dt.year"
   ]
  },
  {
   "cell_type": "code",
   "execution_count": 10,
   "metadata": {},
   "outputs": [
    {
     "data": {
      "text/html": [
       "<div>\n",
       "<style scoped>\n",
       "    .dataframe tbody tr th:only-of-type {\n",
       "        vertical-align: middle;\n",
       "    }\n",
       "\n",
       "    .dataframe tbody tr th {\n",
       "        vertical-align: top;\n",
       "    }\n",
       "\n",
       "    .dataframe thead th {\n",
       "        text-align: right;\n",
       "    }\n",
       "</style>\n",
       "<table border=\"1\" class=\"dataframe\">\n",
       "  <thead>\n",
       "    <tr style=\"text-align: right;\">\n",
       "      <th></th>\n",
       "      <th>Date</th>\n",
       "      <th>Open</th>\n",
       "      <th>High</th>\n",
       "      <th>Low</th>\n",
       "      <th>Close</th>\n",
       "      <th>Volume</th>\n",
       "      <th>Dividends</th>\n",
       "      <th>Stock Splits</th>\n",
       "      <th>Daily Return</th>\n",
       "      <th>Year</th>\n",
       "    </tr>\n",
       "  </thead>\n",
       "  <tbody>\n",
       "    <tr>\n",
       "      <th>0</th>\n",
       "      <td>2022-05-06 00:00:00-04:00</td>\n",
       "      <td>114.849998</td>\n",
       "      <td>119.050499</td>\n",
       "      <td>113.081497</td>\n",
       "      <td>114.772499</td>\n",
       "      <td>124260000</td>\n",
       "      <td>0.0</td>\n",
       "      <td>0.0</td>\n",
       "      <td>NaN</td>\n",
       "      <td>2022</td>\n",
       "    </tr>\n",
       "    <tr>\n",
       "      <th>1</th>\n",
       "      <td>2022-05-09 00:00:00-04:00</td>\n",
       "      <td>111.312500</td>\n",
       "      <td>114.000000</td>\n",
       "      <td>107.957001</td>\n",
       "      <td>108.789001</td>\n",
       "      <td>128124000</td>\n",
       "      <td>0.0</td>\n",
       "      <td>0.0</td>\n",
       "      <td>-0.052134</td>\n",
       "      <td>2022</td>\n",
       "    </tr>\n",
       "    <tr>\n",
       "      <th>2</th>\n",
       "      <td>2022-05-10 00:00:00-04:00</td>\n",
       "      <td>111.250000</td>\n",
       "      <td>112.642502</td>\n",
       "      <td>107.170998</td>\n",
       "      <td>108.859001</td>\n",
       "      <td>105434000</td>\n",
       "      <td>0.0</td>\n",
       "      <td>0.0</td>\n",
       "      <td>0.000643</td>\n",
       "      <td>2022</td>\n",
       "    </tr>\n",
       "    <tr>\n",
       "      <th>3</th>\n",
       "      <td>2022-05-11 00:00:00-04:00</td>\n",
       "      <td>108.103500</td>\n",
       "      <td>110.155998</td>\n",
       "      <td>104.428497</td>\n",
       "      <td>105.372002</td>\n",
       "      <td>109704000</td>\n",
       "      <td>0.0</td>\n",
       "      <td>0.0</td>\n",
       "      <td>-0.032032</td>\n",
       "      <td>2022</td>\n",
       "    </tr>\n",
       "    <tr>\n",
       "      <th>4</th>\n",
       "      <td>2022-05-12 00:00:00-04:00</td>\n",
       "      <td>102.750000</td>\n",
       "      <td>110.780502</td>\n",
       "      <td>102.405502</td>\n",
       "      <td>106.930496</td>\n",
       "      <td>132026000</td>\n",
       "      <td>0.0</td>\n",
       "      <td>0.0</td>\n",
       "      <td>0.014790</td>\n",
       "      <td>2022</td>\n",
       "    </tr>\n",
       "    <tr>\n",
       "      <th>...</th>\n",
       "      <td>...</td>\n",
       "      <td>...</td>\n",
       "      <td>...</td>\n",
       "      <td>...</td>\n",
       "      <td>...</td>\n",
       "      <td>...</td>\n",
       "      <td>...</td>\n",
       "      <td>...</td>\n",
       "      <td>...</td>\n",
       "      <td>...</td>\n",
       "    </tr>\n",
       "    <tr>\n",
       "      <th>746</th>\n",
       "      <td>2025-04-29 00:00:00-04:00</td>\n",
       "      <td>183.990005</td>\n",
       "      <td>188.020004</td>\n",
       "      <td>183.679993</td>\n",
       "      <td>187.389999</td>\n",
       "      <td>41667300</td>\n",
       "      <td>0.0</td>\n",
       "      <td>0.0</td>\n",
       "      <td>-0.001652</td>\n",
       "      <td>2025</td>\n",
       "    </tr>\n",
       "    <tr>\n",
       "      <th>747</th>\n",
       "      <td>2025-04-30 00:00:00-04:00</td>\n",
       "      <td>182.169998</td>\n",
       "      <td>185.050003</td>\n",
       "      <td>178.850006</td>\n",
       "      <td>184.419998</td>\n",
       "      <td>55176500</td>\n",
       "      <td>0.0</td>\n",
       "      <td>0.0</td>\n",
       "      <td>-0.015849</td>\n",
       "      <td>2025</td>\n",
       "    </tr>\n",
       "    <tr>\n",
       "      <th>748</th>\n",
       "      <td>2025-05-01 00:00:00-04:00</td>\n",
       "      <td>190.630005</td>\n",
       "      <td>191.809998</td>\n",
       "      <td>187.500000</td>\n",
       "      <td>190.199997</td>\n",
       "      <td>74266000</td>\n",
       "      <td>0.0</td>\n",
       "      <td>0.0</td>\n",
       "      <td>0.031341</td>\n",
       "      <td>2025</td>\n",
       "    </tr>\n",
       "    <tr>\n",
       "      <th>749</th>\n",
       "      <td>2025-05-02 00:00:00-04:00</td>\n",
       "      <td>191.440002</td>\n",
       "      <td>192.880005</td>\n",
       "      <td>186.399994</td>\n",
       "      <td>189.979996</td>\n",
       "      <td>77809300</td>\n",
       "      <td>0.0</td>\n",
       "      <td>0.0</td>\n",
       "      <td>-0.001157</td>\n",
       "      <td>2025</td>\n",
       "    </tr>\n",
       "    <tr>\n",
       "      <th>750</th>\n",
       "      <td>2025-05-05 00:00:00-04:00</td>\n",
       "      <td>186.509995</td>\n",
       "      <td>188.179993</td>\n",
       "      <td>185.529999</td>\n",
       "      <td>186.350006</td>\n",
       "      <td>35161600</td>\n",
       "      <td>0.0</td>\n",
       "      <td>0.0</td>\n",
       "      <td>-0.019107</td>\n",
       "      <td>2025</td>\n",
       "    </tr>\n",
       "  </tbody>\n",
       "</table>\n",
       "<p>751 rows × 10 columns</p>\n",
       "</div>"
      ],
      "text/plain": [
       "                         Date        Open        High         Low       Close  \\\n",
       "0   2022-05-06 00:00:00-04:00  114.849998  119.050499  113.081497  114.772499   \n",
       "1   2022-05-09 00:00:00-04:00  111.312500  114.000000  107.957001  108.789001   \n",
       "2   2022-05-10 00:00:00-04:00  111.250000  112.642502  107.170998  108.859001   \n",
       "3   2022-05-11 00:00:00-04:00  108.103500  110.155998  104.428497  105.372002   \n",
       "4   2022-05-12 00:00:00-04:00  102.750000  110.780502  102.405502  106.930496   \n",
       "..                        ...         ...         ...         ...         ...   \n",
       "746 2025-04-29 00:00:00-04:00  183.990005  188.020004  183.679993  187.389999   \n",
       "747 2025-04-30 00:00:00-04:00  182.169998  185.050003  178.850006  184.419998   \n",
       "748 2025-05-01 00:00:00-04:00  190.630005  191.809998  187.500000  190.199997   \n",
       "749 2025-05-02 00:00:00-04:00  191.440002  192.880005  186.399994  189.979996   \n",
       "750 2025-05-05 00:00:00-04:00  186.509995  188.179993  185.529999  186.350006   \n",
       "\n",
       "        Volume  Dividends  Stock Splits  Daily Return  Year  \n",
       "0    124260000        0.0           0.0           NaN  2022  \n",
       "1    128124000        0.0           0.0     -0.052134  2022  \n",
       "2    105434000        0.0           0.0      0.000643  2022  \n",
       "3    109704000        0.0           0.0     -0.032032  2022  \n",
       "4    132026000        0.0           0.0      0.014790  2022  \n",
       "..         ...        ...           ...           ...   ...  \n",
       "746   41667300        0.0           0.0     -0.001652  2025  \n",
       "747   55176500        0.0           0.0     -0.015849  2025  \n",
       "748   74266000        0.0           0.0      0.031341  2025  \n",
       "749   77809300        0.0           0.0     -0.001157  2025  \n",
       "750   35161600        0.0           0.0     -0.019107  2025  \n",
       "\n",
       "[751 rows x 10 columns]"
      ]
     },
     "execution_count": 10,
     "metadata": {},
     "output_type": "execute_result"
    }
   ],
   "source": [
    "df"
   ]
  },
  {
   "cell_type": "code",
   "execution_count": 11,
   "metadata": {},
   "outputs": [
    {
     "data": {
      "text/plain": [
       "242.0"
      ]
     },
     "execution_count": 11,
     "metadata": {},
     "output_type": "execute_result"
    }
   ],
   "source": [
    "df['Close'].max().round()"
   ]
  },
  {
   "cell_type": "code",
   "execution_count": 12,
   "metadata": {},
   "outputs": [
    {
     "data": {
      "text/html": [
       "<div>\n",
       "<style scoped>\n",
       "    .dataframe tbody tr th:only-of-type {\n",
       "        vertical-align: middle;\n",
       "    }\n",
       "\n",
       "    .dataframe tbody tr th {\n",
       "        vertical-align: top;\n",
       "    }\n",
       "\n",
       "    .dataframe thead th {\n",
       "        text-align: right;\n",
       "    }\n",
       "</style>\n",
       "<table border=\"1\" class=\"dataframe\">\n",
       "  <thead>\n",
       "    <tr style=\"text-align: right;\">\n",
       "      <th></th>\n",
       "      <th>Date</th>\n",
       "      <th>Open</th>\n",
       "      <th>High</th>\n",
       "      <th>Low</th>\n",
       "      <th>Close</th>\n",
       "      <th>Volume</th>\n",
       "      <th>Dividends</th>\n",
       "      <th>Stock Splits</th>\n",
       "      <th>Daily Return</th>\n",
       "      <th>Year</th>\n",
       "    </tr>\n",
       "  </thead>\n",
       "  <tbody>\n",
       "    <tr>\n",
       "      <th>688</th>\n",
       "      <td>2025-02-04 00:00:00-05:00</td>\n",
       "      <td>239.009995</td>\n",
       "      <td>242.520004</td>\n",
       "      <td>238.029999</td>\n",
       "      <td>242.059998</td>\n",
       "      <td>29713800</td>\n",
       "      <td>0.0</td>\n",
       "      <td>0.0</td>\n",
       "      <td>0.019543</td>\n",
       "      <td>2025</td>\n",
       "    </tr>\n",
       "  </tbody>\n",
       "</table>\n",
       "</div>"
      ],
      "text/plain": [
       "                         Date        Open        High         Low       Close  \\\n",
       "688 2025-02-04 00:00:00-05:00  239.009995  242.520004  238.029999  242.059998   \n",
       "\n",
       "       Volume  Dividends  Stock Splits  Daily Return  Year  \n",
       "688  29713800        0.0           0.0      0.019543  2025  "
      ]
     },
     "execution_count": 12,
     "metadata": {},
     "output_type": "execute_result"
    }
   ],
   "source": [
    "max_close = df[df['Close'] == df['Close'].max()]\n",
    "max_close"
   ]
  },
  {
   "cell_type": "code",
   "execution_count": 13,
   "metadata": {},
   "outputs": [
    {
     "data": {
      "text/plain": [
       "Date            2025-05-05 00:00:00-04:00\n",
       "Open                           239.020004\n",
       "High                           242.520004\n",
       "Low                            238.029999\n",
       "Close                          242.059998\n",
       "Volume                          223133400\n",
       "Dividends                             0.0\n",
       "Stock Splits                         20.0\n",
       "Daily Return                     0.121778\n",
       "Year                                 2025\n",
       "dtype: object"
      ]
     },
     "execution_count": 13,
     "metadata": {},
     "output_type": "execute_result"
    }
   ],
   "source": [
    "df.max()"
   ]
  },
  {
   "cell_type": "code",
   "execution_count": 14,
   "metadata": {},
   "outputs": [
    {
     "data": {
      "text/html": [
       "<div>\n",
       "<style scoped>\n",
       "    .dataframe tbody tr th:only-of-type {\n",
       "        vertical-align: middle;\n",
       "    }\n",
       "\n",
       "    .dataframe tbody tr th {\n",
       "        vertical-align: top;\n",
       "    }\n",
       "\n",
       "    .dataframe thead th {\n",
       "        text-align: right;\n",
       "    }\n",
       "</style>\n",
       "<table border=\"1\" class=\"dataframe\">\n",
       "  <thead>\n",
       "    <tr style=\"text-align: right;\">\n",
       "      <th></th>\n",
       "      <th>Date</th>\n",
       "      <th>Open</th>\n",
       "      <th>High</th>\n",
       "      <th>Low</th>\n",
       "      <th>Close</th>\n",
       "      <th>Volume</th>\n",
       "      <th>Dividends</th>\n",
       "      <th>Stock Splits</th>\n",
       "      <th>Daily Return</th>\n",
       "      <th>Year</th>\n",
       "    </tr>\n",
       "  </thead>\n",
       "  <tbody>\n",
       "    <tr>\n",
       "      <th>285</th>\n",
       "      <td>2023-06-27 00:00:00-04:00</td>\n",
       "      <td>128.630005</td>\n",
       "      <td>130.089996</td>\n",
       "      <td>127.550003</td>\n",
       "      <td>129.179993</td>\n",
       "      <td>46801000</td>\n",
       "      <td>0.0</td>\n",
       "      <td>0.0</td>\n",
       "      <td>0.014529</td>\n",
       "      <td>2023</td>\n",
       "    </tr>\n",
       "  </tbody>\n",
       "</table>\n",
       "</div>"
      ],
      "text/plain": [
       "                         Date        Open        High         Low       Close  \\\n",
       "285 2023-06-27 00:00:00-04:00  128.630005  130.089996  127.550003  129.179993   \n",
       "\n",
       "       Volume  Dividends  Stock Splits  Daily Return  Year  \n",
       "285  46801000        0.0           0.0      0.014529  2023  "
      ]
     },
     "execution_count": 14,
     "metadata": {},
     "output_type": "execute_result"
    }
   ],
   "source": [
    "df.sample()"
   ]
  },
  {
   "cell_type": "markdown",
   "metadata": {},
   "source": [
    "- <h4> Stock Price Movement Analysis"
   ]
  },
  {
   "cell_type": "code",
   "execution_count": 15,
   "metadata": {},
   "outputs": [
    {
     "data": {
      "application/vnd.plotly.v1+json": {
       "config": {
        "plotlyServerURL": "https://plot.ly"
       },
       "data": [
        {
         "close": {
          "bdata": "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",
          "dtype": "f8"
         },
         "high": {
          "bdata": "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",
          "dtype": "f8"
         },
         "low": {
          "bdata": "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",
          "dtype": "f8"
         },
         "open": {
          "bdata": "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",
          "dtype": "f8"
         },
         "type": "ohlc",
         "x": [
          "2022-05-06T00:00:00-04:00",
          "2022-05-09T00:00:00-04:00",
          "2022-05-10T00:00:00-04:00",
          "2022-05-11T00:00:00-04:00",
          "2022-05-12T00:00:00-04:00",
          "2022-05-13T00:00:00-04:00",
          "2022-05-16T00:00:00-04:00",
          "2022-05-17T00:00:00-04:00",
          "2022-05-18T00:00:00-04:00",
          "2022-05-19T00:00:00-04:00",
          "2022-05-20T00:00:00-04:00",
          "2022-05-23T00:00:00-04:00",
          "2022-05-24T00:00:00-04:00",
          "2022-05-25T00:00:00-04:00",
          "2022-05-26T00:00:00-04:00",
          "2022-05-27T00:00:00-04:00",
          "2022-05-31T00:00:00-04:00",
          "2022-06-01T00:00:00-04:00",
          "2022-06-02T00:00:00-04:00",
          "2022-06-03T00:00:00-04:00",
          "2022-06-06T00:00:00-04:00",
          "2022-06-07T00:00:00-04:00",
          "2022-06-08T00:00:00-04:00",
          "2022-06-09T00:00:00-04:00",
          "2022-06-10T00:00:00-04:00",
          "2022-06-13T00:00:00-04:00",
          "2022-06-14T00:00:00-04:00",
          "2022-06-15T00:00:00-04:00",
          "2022-06-16T00:00:00-04:00",
          "2022-06-17T00:00:00-04:00",
          "2022-06-21T00:00:00-04:00",
          "2022-06-22T00:00:00-04:00",
          "2022-06-23T00:00:00-04:00",
          "2022-06-24T00:00:00-04:00",
          "2022-06-27T00:00:00-04:00",
          "2022-06-28T00:00:00-04:00",
          "2022-06-29T00:00:00-04:00",
          "2022-06-30T00:00:00-04:00",
          "2022-07-01T00:00:00-04:00",
          "2022-07-05T00:00:00-04:00",
          "2022-07-06T00:00:00-04:00",
          "2022-07-07T00:00:00-04:00",
          "2022-07-08T00:00:00-04:00",
          "2022-07-11T00:00:00-04:00",
          "2022-07-12T00:00:00-04:00",
          "2022-07-13T00:00:00-04:00",
          "2022-07-14T00:00:00-04:00",
          "2022-07-15T00:00:00-04:00",
          "2022-07-18T00:00:00-04:00",
          "2022-07-19T00:00:00-04:00",
          "2022-07-20T00:00:00-04:00",
          "2022-07-21T00:00:00-04:00",
          "2022-07-22T00:00:00-04:00",
          "2022-07-25T00:00:00-04:00",
          "2022-07-26T00:00:00-04:00",
          "2022-07-27T00:00:00-04:00",
          "2022-07-28T00:00:00-04:00",
          "2022-07-29T00:00:00-04:00",
          "2022-08-01T00:00:00-04:00",
          "2022-08-02T00:00:00-04:00",
          "2022-08-03T00:00:00-04:00",
          "2022-08-04T00:00:00-04:00",
          "2022-08-05T00:00:00-04:00",
          "2022-08-08T00:00:00-04:00",
          "2022-08-09T00:00:00-04:00",
          "2022-08-10T00:00:00-04:00",
          "2022-08-11T00:00:00-04:00",
          "2022-08-12T00:00:00-04:00",
          "2022-08-15T00:00:00-04:00",
          "2022-08-16T00:00:00-04:00",
          "2022-08-17T00:00:00-04:00",
          "2022-08-18T00:00:00-04:00",
          "2022-08-19T00:00:00-04:00",
          "2022-08-22T00:00:00-04:00",
          "2022-08-23T00:00:00-04:00",
          "2022-08-24T00:00:00-04:00",
          "2022-08-25T00:00:00-04:00",
          "2022-08-26T00:00:00-04:00",
          "2022-08-29T00:00:00-04:00",
          "2022-08-30T00:00:00-04:00",
          "2022-08-31T00:00:00-04:00",
          "2022-09-01T00:00:00-04:00",
          "2022-09-02T00:00:00-04:00",
          "2022-09-06T00:00:00-04:00",
          "2022-09-07T00:00:00-04:00",
          "2022-09-08T00:00:00-04:00",
          "2022-09-09T00:00:00-04:00",
          "2022-09-12T00:00:00-04:00",
          "2022-09-13T00:00:00-04:00",
          "2022-09-14T00:00:00-04:00",
          "2022-09-15T00:00:00-04:00",
          "2022-09-16T00:00:00-04:00",
          "2022-09-19T00:00:00-04:00",
          "2022-09-20T00:00:00-04:00",
          "2022-09-21T00:00:00-04:00",
          "2022-09-22T00:00:00-04:00",
          "2022-09-23T00:00:00-04:00",
          "2022-09-26T00:00:00-04:00",
          "2022-09-27T00:00:00-04:00",
          "2022-09-28T00:00:00-04:00",
          "2022-09-29T00:00:00-04:00",
          "2022-09-30T00:00:00-04:00",
          "2022-10-03T00:00:00-04:00",
          "2022-10-04T00:00:00-04:00",
          "2022-10-05T00:00:00-04:00",
          "2022-10-06T00:00:00-04:00",
          "2022-10-07T00:00:00-04:00",
          "2022-10-10T00:00:00-04:00",
          "2022-10-11T00:00:00-04:00",
          "2022-10-12T00:00:00-04:00",
          "2022-10-13T00:00:00-04:00",
          "2022-10-14T00:00:00-04:00",
          "2022-10-17T00:00:00-04:00",
          "2022-10-18T00:00:00-04:00",
          "2022-10-19T00:00:00-04:00",
          "2022-10-20T00:00:00-04:00",
          "2022-10-21T00:00:00-04:00",
          "2022-10-24T00:00:00-04:00",
          "2022-10-25T00:00:00-04:00",
          "2022-10-26T00:00:00-04:00",
          "2022-10-27T00:00:00-04:00",
          "2022-10-28T00:00:00-04:00",
          "2022-10-31T00:00:00-04:00",
          "2022-11-01T00:00:00-04:00",
          "2022-11-02T00:00:00-04:00",
          "2022-11-03T00:00:00-04:00",
          "2022-11-04T00:00:00-04:00",
          "2022-11-07T00:00:00-05:00",
          "2022-11-08T00:00:00-05:00",
          "2022-11-09T00:00:00-05:00",
          "2022-11-10T00:00:00-05:00",
          "2022-11-11T00:00:00-05:00",
          "2022-11-14T00:00:00-05:00",
          "2022-11-15T00:00:00-05:00",
          "2022-11-16T00:00:00-05:00",
          "2022-11-17T00:00:00-05:00",
          "2022-11-18T00:00:00-05:00",
          "2022-11-21T00:00:00-05:00",
          "2022-11-22T00:00:00-05:00",
          "2022-11-23T00:00:00-05:00",
          "2022-11-25T00:00:00-05:00",
          "2022-11-28T00:00:00-05:00",
          "2022-11-29T00:00:00-05:00",
          "2022-11-30T00:00:00-05:00",
          "2022-12-01T00:00:00-05:00",
          "2022-12-02T00:00:00-05:00",
          "2022-12-05T00:00:00-05:00",
          "2022-12-06T00:00:00-05:00",
          "2022-12-07T00:00:00-05:00",
          "2022-12-08T00:00:00-05:00",
          "2022-12-09T00:00:00-05:00",
          "2022-12-12T00:00:00-05:00",
          "2022-12-13T00:00:00-05:00",
          "2022-12-14T00:00:00-05:00",
          "2022-12-15T00:00:00-05:00",
          "2022-12-16T00:00:00-05:00",
          "2022-12-19T00:00:00-05:00",
          "2022-12-20T00:00:00-05:00",
          "2022-12-21T00:00:00-05:00",
          "2022-12-22T00:00:00-05:00",
          "2022-12-23T00:00:00-05:00",
          "2022-12-27T00:00:00-05:00",
          "2022-12-28T00:00:00-05:00",
          "2022-12-29T00:00:00-05:00",
          "2022-12-30T00:00:00-05:00",
          "2023-01-03T00:00:00-05:00",
          "2023-01-04T00:00:00-05:00",
          "2023-01-05T00:00:00-05:00",
          "2023-01-06T00:00:00-05:00",
          "2023-01-09T00:00:00-05:00",
          "2023-01-10T00:00:00-05:00",
          "2023-01-11T00:00:00-05:00",
          "2023-01-12T00:00:00-05:00",
          "2023-01-13T00:00:00-05:00",
          "2023-01-17T00:00:00-05:00",
          "2023-01-18T00:00:00-05:00",
          "2023-01-19T00:00:00-05:00",
          "2023-01-20T00:00:00-05:00",
          "2023-01-23T00:00:00-05:00",
          "2023-01-24T00:00:00-05:00",
          "2023-01-25T00:00:00-05:00",
          "2023-01-26T00:00:00-05:00",
          "2023-01-27T00:00:00-05:00",
          "2023-01-30T00:00:00-05:00",
          "2023-01-31T00:00:00-05:00",
          "2023-02-01T00:00:00-05:00",
          "2023-02-02T00:00:00-05:00",
          "2023-02-03T00:00:00-05:00",
          "2023-02-06T00:00:00-05:00",
          "2023-02-07T00:00:00-05:00",
          "2023-02-08T00:00:00-05:00",
          "2023-02-09T00:00:00-05:00",
          "2023-02-10T00:00:00-05:00",
          "2023-02-13T00:00:00-05:00",
          "2023-02-14T00:00:00-05:00",
          "2023-02-15T00:00:00-05:00",
          "2023-02-16T00:00:00-05:00",
          "2023-02-17T00:00:00-05:00",
          "2023-02-21T00:00:00-05:00",
          "2023-02-22T00:00:00-05:00",
          "2023-02-23T00:00:00-05:00",
          "2023-02-24T00:00:00-05:00",
          "2023-02-27T00:00:00-05:00",
          "2023-02-28T00:00:00-05:00",
          "2023-03-01T00:00:00-05:00",
          "2023-03-02T00:00:00-05:00",
          "2023-03-03T00:00:00-05:00",
          "2023-03-06T00:00:00-05:00",
          "2023-03-07T00:00:00-05:00",
          "2023-03-08T00:00:00-05:00",
          "2023-03-09T00:00:00-05:00",
          "2023-03-10T00:00:00-05:00",
          "2023-03-13T00:00:00-04:00",
          "2023-03-14T00:00:00-04:00",
          "2023-03-15T00:00:00-04:00",
          "2023-03-16T00:00:00-04:00",
          "2023-03-17T00:00:00-04:00",
          "2023-03-20T00:00:00-04:00",
          "2023-03-21T00:00:00-04:00",
          "2023-03-22T00:00:00-04:00",
          "2023-03-23T00:00:00-04:00",
          "2023-03-24T00:00:00-04:00",
          "2023-03-27T00:00:00-04:00",
          "2023-03-28T00:00:00-04:00",
          "2023-03-29T00:00:00-04:00",
          "2023-03-30T00:00:00-04:00",
          "2023-03-31T00:00:00-04:00",
          "2023-04-03T00:00:00-04:00",
          "2023-04-04T00:00:00-04:00",
          "2023-04-05T00:00:00-04:00",
          "2023-04-06T00:00:00-04:00",
          "2023-04-10T00:00:00-04:00",
          "2023-04-11T00:00:00-04:00",
          "2023-04-12T00:00:00-04:00",
          "2023-04-13T00:00:00-04:00",
          "2023-04-14T00:00:00-04:00",
          "2023-04-17T00:00:00-04:00",
          "2023-04-18T00:00:00-04:00",
          "2023-04-19T00:00:00-04:00",
          "2023-04-20T00:00:00-04:00",
          "2023-04-21T00:00:00-04:00",
          "2023-04-24T00:00:00-04:00",
          "2023-04-25T00:00:00-04:00",
          "2023-04-26T00:00:00-04:00",
          "2023-04-27T00:00:00-04:00",
          "2023-04-28T00:00:00-04:00",
          "2023-05-01T00:00:00-04:00",
          "2023-05-02T00:00:00-04:00",
          "2023-05-03T00:00:00-04:00",
          "2023-05-04T00:00:00-04:00",
          "2023-05-05T00:00:00-04:00",
          "2023-05-08T00:00:00-04:00",
          "2023-05-09T00:00:00-04:00",
          "2023-05-10T00:00:00-04:00",
          "2023-05-11T00:00:00-04:00",
          "2023-05-12T00:00:00-04:00",
          "2023-05-15T00:00:00-04:00",
          "2023-05-16T00:00:00-04:00",
          "2023-05-17T00:00:00-04:00",
          "2023-05-18T00:00:00-04:00",
          "2023-05-19T00:00:00-04:00",
          "2023-05-22T00:00:00-04:00",
          "2023-05-23T00:00:00-04:00",
          "2023-05-24T00:00:00-04:00",
          "2023-05-25T00:00:00-04:00",
          "2023-05-26T00:00:00-04:00",
          "2023-05-30T00:00:00-04:00",
          "2023-05-31T00:00:00-04:00",
          "2023-06-01T00:00:00-04:00",
          "2023-06-02T00:00:00-04:00",
          "2023-06-05T00:00:00-04:00",
          "2023-06-06T00:00:00-04:00",
          "2023-06-07T00:00:00-04:00",
          "2023-06-08T00:00:00-04:00",
          "2023-06-09T00:00:00-04:00",
          "2023-06-12T00:00:00-04:00",
          "2023-06-13T00:00:00-04:00",
          "2023-06-14T00:00:00-04:00",
          "2023-06-15T00:00:00-04:00",
          "2023-06-16T00:00:00-04:00",
          "2023-06-20T00:00:00-04:00",
          "2023-06-21T00:00:00-04:00",
          "2023-06-22T00:00:00-04:00",
          "2023-06-23T00:00:00-04:00",
          "2023-06-26T00:00:00-04:00",
          "2023-06-27T00:00:00-04:00",
          "2023-06-28T00:00:00-04:00",
          "2023-06-29T00:00:00-04:00",
          "2023-06-30T00:00:00-04:00",
          "2023-07-03T00:00:00-04:00",
          "2023-07-05T00:00:00-04:00",
          "2023-07-06T00:00:00-04:00",
          "2023-07-07T00:00:00-04:00",
          "2023-07-10T00:00:00-04:00",
          "2023-07-11T00:00:00-04:00",
          "2023-07-12T00:00:00-04:00",
          "2023-07-13T00:00:00-04:00",
          "2023-07-14T00:00:00-04:00",
          "2023-07-17T00:00:00-04:00",
          "2023-07-18T00:00:00-04:00",
          "2023-07-19T00:00:00-04:00",
          "2023-07-20T00:00:00-04:00",
          "2023-07-21T00:00:00-04:00",
          "2023-07-24T00:00:00-04:00",
          "2023-07-25T00:00:00-04:00",
          "2023-07-26T00:00:00-04:00",
          "2023-07-27T00:00:00-04:00",
          "2023-07-28T00:00:00-04:00",
          "2023-07-31T00:00:00-04:00",
          "2023-08-01T00:00:00-04:00",
          "2023-08-02T00:00:00-04:00",
          "2023-08-03T00:00:00-04:00",
          "2023-08-04T00:00:00-04:00",
          "2023-08-07T00:00:00-04:00",
          "2023-08-08T00:00:00-04:00",
          "2023-08-09T00:00:00-04:00",
          "2023-08-10T00:00:00-04:00",
          "2023-08-11T00:00:00-04:00",
          "2023-08-14T00:00:00-04:00",
          "2023-08-15T00:00:00-04:00",
          "2023-08-16T00:00:00-04:00",
          "2023-08-17T00:00:00-04:00",
          "2023-08-18T00:00:00-04:00",
          "2023-08-21T00:00:00-04:00",
          "2023-08-22T00:00:00-04:00",
          "2023-08-23T00:00:00-04:00",
          "2023-08-24T00:00:00-04:00",
          "2023-08-25T00:00:00-04:00",
          "2023-08-28T00:00:00-04:00",
          "2023-08-29T00:00:00-04:00",
          "2023-08-30T00:00:00-04:00",
          "2023-08-31T00:00:00-04:00",
          "2023-09-01T00:00:00-04:00",
          "2023-09-05T00:00:00-04:00",
          "2023-09-06T00:00:00-04:00",
          "2023-09-07T00:00:00-04:00",
          "2023-09-08T00:00:00-04:00",
          "2023-09-11T00:00:00-04:00",
          "2023-09-12T00:00:00-04:00",
          "2023-09-13T00:00:00-04:00",
          "2023-09-14T00:00:00-04:00",
          "2023-09-15T00:00:00-04:00",
          "2023-09-18T00:00:00-04:00",
          "2023-09-19T00:00:00-04:00",
          "2023-09-20T00:00:00-04:00",
          "2023-09-21T00:00:00-04:00",
          "2023-09-22T00:00:00-04:00",
          "2023-09-25T00:00:00-04:00",
          "2023-09-26T00:00:00-04:00",
          "2023-09-27T00:00:00-04:00",
          "2023-09-28T00:00:00-04:00",
          "2023-09-29T00:00:00-04:00",
          "2023-10-02T00:00:00-04:00",
          "2023-10-03T00:00:00-04:00",
          "2023-10-04T00:00:00-04:00",
          "2023-10-05T00:00:00-04:00",
          "2023-10-06T00:00:00-04:00",
          "2023-10-09T00:00:00-04:00",
          "2023-10-10T00:00:00-04:00",
          "2023-10-11T00:00:00-04:00",
          "2023-10-12T00:00:00-04:00",
          "2023-10-13T00:00:00-04:00",
          "2023-10-16T00:00:00-04:00",
          "2023-10-17T00:00:00-04:00",
          "2023-10-18T00:00:00-04:00",
          "2023-10-19T00:00:00-04:00",
          "2023-10-20T00:00:00-04:00",
          "2023-10-23T00:00:00-04:00",
          "2023-10-24T00:00:00-04:00",
          "2023-10-25T00:00:00-04:00",
          "2023-10-26T00:00:00-04:00",
          "2023-10-27T00:00:00-04:00",
          "2023-10-30T00:00:00-04:00",
          "2023-10-31T00:00:00-04:00",
          "2023-11-01T00:00:00-04:00",
          "2023-11-02T00:00:00-04:00",
          "2023-11-03T00:00:00-04:00",
          "2023-11-06T00:00:00-05:00",
          "2023-11-07T00:00:00-05:00",
          "2023-11-08T00:00:00-05:00",
          "2023-11-09T00:00:00-05:00",
          "2023-11-10T00:00:00-05:00",
          "2023-11-13T00:00:00-05:00",
          "2023-11-14T00:00:00-05:00",
          "2023-11-15T00:00:00-05:00",
          "2023-11-16T00:00:00-05:00",
          "2023-11-17T00:00:00-05:00",
          "2023-11-20T00:00:00-05:00",
          "2023-11-21T00:00:00-05:00",
          "2023-11-22T00:00:00-05:00",
          "2023-11-24T00:00:00-05:00",
          "2023-11-27T00:00:00-05:00",
          "2023-11-28T00:00:00-05:00",
          "2023-11-29T00:00:00-05:00",
          "2023-11-30T00:00:00-05:00",
          "2023-12-01T00:00:00-05:00",
          "2023-12-04T00:00:00-05:00",
          "2023-12-05T00:00:00-05:00",
          "2023-12-06T00:00:00-05:00",
          "2023-12-07T00:00:00-05:00",
          "2023-12-08T00:00:00-05:00",
          "2023-12-11T00:00:00-05:00",
          "2023-12-12T00:00:00-05:00",
          "2023-12-13T00:00:00-05:00",
          "2023-12-14T00:00:00-05:00",
          "2023-12-15T00:00:00-05:00",
          "2023-12-18T00:00:00-05:00",
          "2023-12-19T00:00:00-05:00",
          "2023-12-20T00:00:00-05:00",
          "2023-12-21T00:00:00-05:00",
          "2023-12-22T00:00:00-05:00",
          "2023-12-26T00:00:00-05:00",
          "2023-12-27T00:00:00-05:00",
          "2023-12-28T00:00:00-05:00",
          "2023-12-29T00:00:00-05:00",
          "2024-01-02T00:00:00-05:00",
          "2024-01-03T00:00:00-05:00",
          "2024-01-04T00:00:00-05:00",
          "2024-01-05T00:00:00-05:00",
          "2024-01-08T00:00:00-05:00",
          "2024-01-09T00:00:00-05:00",
          "2024-01-10T00:00:00-05:00",
          "2024-01-11T00:00:00-05:00",
          "2024-01-12T00:00:00-05:00",
          "2024-01-16T00:00:00-05:00",
          "2024-01-17T00:00:00-05:00",
          "2024-01-18T00:00:00-05:00",
          "2024-01-19T00:00:00-05:00",
          "2024-01-22T00:00:00-05:00",
          "2024-01-23T00:00:00-05:00",
          "2024-01-24T00:00:00-05:00",
          "2024-01-25T00:00:00-05:00",
          "2024-01-26T00:00:00-05:00",
          "2024-01-29T00:00:00-05:00",
          "2024-01-30T00:00:00-05:00",
          "2024-01-31T00:00:00-05:00",
          "2024-02-01T00:00:00-05:00",
          "2024-02-02T00:00:00-05:00",
          "2024-02-05T00:00:00-05:00",
          "2024-02-06T00:00:00-05:00",
          "2024-02-07T00:00:00-05:00",
          "2024-02-08T00:00:00-05:00",
          "2024-02-09T00:00:00-05:00",
          "2024-02-12T00:00:00-05:00",
          "2024-02-13T00:00:00-05:00",
          "2024-02-14T00:00:00-05:00",
          "2024-02-15T00:00:00-05:00",
          "2024-02-16T00:00:00-05:00",
          "2024-02-20T00:00:00-05:00",
          "2024-02-21T00:00:00-05:00",
          "2024-02-22T00:00:00-05:00",
          "2024-02-23T00:00:00-05:00",
          "2024-02-26T00:00:00-05:00",
          "2024-02-27T00:00:00-05:00",
          "2024-02-28T00:00:00-05:00",
          "2024-02-29T00:00:00-05:00",
          "2024-03-01T00:00:00-05:00",
          "2024-03-04T00:00:00-05:00",
          "2024-03-05T00:00:00-05:00",
          "2024-03-06T00:00:00-05:00",
          "2024-03-07T00:00:00-05:00",
          "2024-03-08T00:00:00-05:00",
          "2024-03-11T00:00:00-04:00",
          "2024-03-12T00:00:00-04:00",
          "2024-03-13T00:00:00-04:00",
          "2024-03-14T00:00:00-04:00",
          "2024-03-15T00:00:00-04:00",
          "2024-03-18T00:00:00-04:00",
          "2024-03-19T00:00:00-04:00",
          "2024-03-20T00:00:00-04:00",
          "2024-03-21T00:00:00-04:00",
          "2024-03-22T00:00:00-04:00",
          "2024-03-25T00:00:00-04:00",
          "2024-03-26T00:00:00-04:00",
          "2024-03-27T00:00:00-04:00",
          "2024-03-28T00:00:00-04:00",
          "2024-04-01T00:00:00-04:00",
          "2024-04-02T00:00:00-04:00",
          "2024-04-03T00:00:00-04:00",
          "2024-04-04T00:00:00-04:00",
          "2024-04-05T00:00:00-04:00",
          "2024-04-08T00:00:00-04:00",
          "2024-04-09T00:00:00-04:00",
          "2024-04-10T00:00:00-04:00",
          "2024-04-11T00:00:00-04:00",
          "2024-04-12T00:00:00-04:00",
          "2024-04-15T00:00:00-04:00",
          "2024-04-16T00:00:00-04:00",
          "2024-04-17T00:00:00-04:00",
          "2024-04-18T00:00:00-04:00",
          "2024-04-19T00:00:00-04:00",
          "2024-04-22T00:00:00-04:00",
          "2024-04-23T00:00:00-04:00",
          "2024-04-24T00:00:00-04:00",
          "2024-04-25T00:00:00-04:00",
          "2024-04-26T00:00:00-04:00",
          "2024-04-29T00:00:00-04:00",
          "2024-04-30T00:00:00-04:00",
          "2024-05-01T00:00:00-04:00",
          "2024-05-02T00:00:00-04:00",
          "2024-05-03T00:00:00-04:00",
          "2024-05-06T00:00:00-04:00",
          "2024-05-07T00:00:00-04:00",
          "2024-05-08T00:00:00-04:00",
          "2024-05-09T00:00:00-04:00",
          "2024-05-10T00:00:00-04:00",
          "2024-05-13T00:00:00-04:00",
          "2024-05-14T00:00:00-04:00",
          "2024-05-15T00:00:00-04:00",
          "2024-05-16T00:00:00-04:00",
          "2024-05-17T00:00:00-04:00",
          "2024-05-20T00:00:00-04:00",
          "2024-05-21T00:00:00-04:00",
          "2024-05-22T00:00:00-04:00",
          "2024-05-23T00:00:00-04:00",
          "2024-05-24T00:00:00-04:00",
          "2024-05-28T00:00:00-04:00",
          "2024-05-29T00:00:00-04:00",
          "2024-05-30T00:00:00-04:00",
          "2024-05-31T00:00:00-04:00",
          "2024-06-03T00:00:00-04:00",
          "2024-06-04T00:00:00-04:00",
          "2024-06-05T00:00:00-04:00",
          "2024-06-06T00:00:00-04:00",
          "2024-06-07T00:00:00-04:00",
          "2024-06-10T00:00:00-04:00",
          "2024-06-11T00:00:00-04:00",
          "2024-06-12T00:00:00-04:00",
          "2024-06-13T00:00:00-04:00",
          "2024-06-14T00:00:00-04:00",
          "2024-06-17T00:00:00-04:00",
          "2024-06-18T00:00:00-04:00",
          "2024-06-20T00:00:00-04:00",
          "2024-06-21T00:00:00-04:00",
          "2024-06-24T00:00:00-04:00",
          "2024-06-25T00:00:00-04:00",
          "2024-06-26T00:00:00-04:00",
          "2024-06-27T00:00:00-04:00",
          "2024-06-28T00:00:00-04:00",
          "2024-07-01T00:00:00-04:00",
          "2024-07-02T00:00:00-04:00",
          "2024-07-03T00:00:00-04:00",
          "2024-07-05T00:00:00-04:00",
          "2024-07-08T00:00:00-04:00",
          "2024-07-09T00:00:00-04:00",
          "2024-07-10T00:00:00-04:00",
          "2024-07-11T00:00:00-04:00",
          "2024-07-12T00:00:00-04:00",
          "2024-07-15T00:00:00-04:00",
          "2024-07-16T00:00:00-04:00",
          "2024-07-17T00:00:00-04:00",
          "2024-07-18T00:00:00-04:00",
          "2024-07-19T00:00:00-04:00",
          "2024-07-22T00:00:00-04:00",
          "2024-07-23T00:00:00-04:00",
          "2024-07-24T00:00:00-04:00",
          "2024-07-25T00:00:00-04:00",
          "2024-07-26T00:00:00-04:00",
          "2024-07-29T00:00:00-04:00",
          "2024-07-30T00:00:00-04:00",
          "2024-07-31T00:00:00-04:00",
          "2024-08-01T00:00:00-04:00",
          "2024-08-02T00:00:00-04:00",
          "2024-08-05T00:00:00-04:00",
          "2024-08-06T00:00:00-04:00",
          "2024-08-07T00:00:00-04:00",
          "2024-08-08T00:00:00-04:00",
          "2024-08-09T00:00:00-04:00",
          "2024-08-12T00:00:00-04:00",
          "2024-08-13T00:00:00-04:00",
          "2024-08-14T00:00:00-04:00",
          "2024-08-15T00:00:00-04:00",
          "2024-08-16T00:00:00-04:00",
          "2024-08-19T00:00:00-04:00",
          "2024-08-20T00:00:00-04:00",
          "2024-08-21T00:00:00-04:00",
          "2024-08-22T00:00:00-04:00",
          "2024-08-23T00:00:00-04:00",
          "2024-08-26T00:00:00-04:00",
          "2024-08-27T00:00:00-04:00",
          "2024-08-28T00:00:00-04:00",
          "2024-08-29T00:00:00-04:00",
          "2024-08-30T00:00:00-04:00",
          "2024-09-03T00:00:00-04:00",
          "2024-09-04T00:00:00-04:00",
          "2024-09-05T00:00:00-04:00",
          "2024-09-06T00:00:00-04:00",
          "2024-09-09T00:00:00-04:00",
          "2024-09-10T00:00:00-04:00",
          "2024-09-11T00:00:00-04:00",
          "2024-09-12T00:00:00-04:00",
          "2024-09-13T00:00:00-04:00",
          "2024-09-16T00:00:00-04:00",
          "2024-09-17T00:00:00-04:00",
          "2024-09-18T00:00:00-04:00",
          "2024-09-19T00:00:00-04:00",
          "2024-09-20T00:00:00-04:00",
          "2024-09-23T00:00:00-04:00",
          "2024-09-24T00:00:00-04:00",
          "2024-09-25T00:00:00-04:00",
          "2024-09-26T00:00:00-04:00",
          "2024-09-27T00:00:00-04:00",
          "2024-09-30T00:00:00-04:00",
          "2024-10-01T00:00:00-04:00",
          "2024-10-02T00:00:00-04:00",
          "2024-10-03T00:00:00-04:00",
          "2024-10-04T00:00:00-04:00",
          "2024-10-07T00:00:00-04:00",
          "2024-10-08T00:00:00-04:00",
          "2024-10-09T00:00:00-04:00",
          "2024-10-10T00:00:00-04:00",
          "2024-10-11T00:00:00-04:00",
          "2024-10-14T00:00:00-04:00",
          "2024-10-15T00:00:00-04:00",
          "2024-10-16T00:00:00-04:00",
          "2024-10-17T00:00:00-04:00",
          "2024-10-18T00:00:00-04:00",
          "2024-10-21T00:00:00-04:00",
          "2024-10-22T00:00:00-04:00",
          "2024-10-23T00:00:00-04:00",
          "2024-10-24T00:00:00-04:00",
          "2024-10-25T00:00:00-04:00",
          "2024-10-28T00:00:00-04:00",
          "2024-10-29T00:00:00-04:00",
          "2024-10-30T00:00:00-04:00",
          "2024-10-31T00:00:00-04:00",
          "2024-11-01T00:00:00-04:00",
          "2024-11-04T00:00:00-05:00",
          "2024-11-05T00:00:00-05:00",
          "2024-11-06T00:00:00-05:00",
          "2024-11-07T00:00:00-05:00",
          "2024-11-08T00:00:00-05:00",
          "2024-11-11T00:00:00-05:00",
          "2024-11-12T00:00:00-05:00",
          "2024-11-13T00:00:00-05:00",
          "2024-11-14T00:00:00-05:00",
          "2024-11-15T00:00:00-05:00",
          "2024-11-18T00:00:00-05:00",
          "2024-11-19T00:00:00-05:00",
          "2024-11-20T00:00:00-05:00",
          "2024-11-21T00:00:00-05:00",
          "2024-11-22T00:00:00-05:00",
          "2024-11-25T00:00:00-05:00",
          "2024-11-26T00:00:00-05:00",
          "2024-11-27T00:00:00-05:00",
          "2024-11-29T00:00:00-05:00",
          "2024-12-02T00:00:00-05:00",
          "2024-12-03T00:00:00-05:00",
          "2024-12-04T00:00:00-05:00",
          "2024-12-05T00:00:00-05:00",
          "2024-12-06T00:00:00-05:00",
          "2024-12-09T00:00:00-05:00",
          "2024-12-10T00:00:00-05:00",
          "2024-12-11T00:00:00-05:00",
          "2024-12-12T00:00:00-05:00",
          "2024-12-13T00:00:00-05:00",
          "2024-12-16T00:00:00-05:00",
          "2024-12-17T00:00:00-05:00",
          "2024-12-18T00:00:00-05:00",
          "2024-12-19T00:00:00-05:00",
          "2024-12-20T00:00:00-05:00",
          "2024-12-23T00:00:00-05:00",
          "2024-12-24T00:00:00-05:00",
          "2024-12-26T00:00:00-05:00",
          "2024-12-27T00:00:00-05:00",
          "2024-12-30T00:00:00-05:00",
          "2024-12-31T00:00:00-05:00",
          "2025-01-02T00:00:00-05:00",
          "2025-01-03T00:00:00-05:00",
          "2025-01-06T00:00:00-05:00",
          "2025-01-07T00:00:00-05:00",
          "2025-01-08T00:00:00-05:00",
          "2025-01-10T00:00:00-05:00",
          "2025-01-13T00:00:00-05:00",
          "2025-01-14T00:00:00-05:00",
          "2025-01-15T00:00:00-05:00",
          "2025-01-16T00:00:00-05:00",
          "2025-01-17T00:00:00-05:00",
          "2025-01-21T00:00:00-05:00",
          "2025-01-22T00:00:00-05:00",
          "2025-01-23T00:00:00-05:00",
          "2025-01-24T00:00:00-05:00",
          "2025-01-27T00:00:00-05:00",
          "2025-01-28T00:00:00-05:00",
          "2025-01-29T00:00:00-05:00",
          "2025-01-30T00:00:00-05:00",
          "2025-01-31T00:00:00-05:00",
          "2025-02-03T00:00:00-05:00",
          "2025-02-04T00:00:00-05:00",
          "2025-02-05T00:00:00-05:00",
          "2025-02-06T00:00:00-05:00",
          "2025-02-07T00:00:00-05:00",
          "2025-02-10T00:00:00-05:00",
          "2025-02-11T00:00:00-05:00",
          "2025-02-12T00:00:00-05:00",
          "2025-02-13T00:00:00-05:00",
          "2025-02-14T00:00:00-05:00",
          "2025-02-18T00:00:00-05:00",
          "2025-02-19T00:00:00-05:00",
          "2025-02-20T00:00:00-05:00",
          "2025-02-21T00:00:00-05:00",
          "2025-02-24T00:00:00-05:00",
          "2025-02-25T00:00:00-05:00",
          "2025-02-26T00:00:00-05:00",
          "2025-02-27T00:00:00-05:00",
          "2025-02-28T00:00:00-05:00",
          "2025-03-03T00:00:00-05:00",
          "2025-03-04T00:00:00-05:00",
          "2025-03-05T00:00:00-05:00",
          "2025-03-06T00:00:00-05:00",
          "2025-03-07T00:00:00-05:00",
          "2025-03-10T00:00:00-04:00",
          "2025-03-11T00:00:00-04:00",
          "2025-03-12T00:00:00-04:00",
          "2025-03-13T00:00:00-04:00",
          "2025-03-14T00:00:00-04:00",
          "2025-03-17T00:00:00-04:00",
          "2025-03-18T00:00:00-04:00",
          "2025-03-19T00:00:00-04:00",
          "2025-03-20T00:00:00-04:00",
          "2025-03-21T00:00:00-04:00",
          "2025-03-24T00:00:00-04:00",
          "2025-03-25T00:00:00-04:00",
          "2025-03-26T00:00:00-04:00",
          "2025-03-27T00:00:00-04:00",
          "2025-03-28T00:00:00-04:00",
          "2025-03-31T00:00:00-04:00",
          "2025-04-01T00:00:00-04:00",
          "2025-04-02T00:00:00-04:00",
          "2025-04-03T00:00:00-04:00",
          "2025-04-04T00:00:00-04:00",
          "2025-04-07T00:00:00-04:00",
          "2025-04-08T00:00:00-04:00",
          "2025-04-09T00:00:00-04:00",
          "2025-04-10T00:00:00-04:00",
          "2025-04-11T00:00:00-04:00",
          "2025-04-14T00:00:00-04:00",
          "2025-04-15T00:00:00-04:00",
          "2025-04-16T00:00:00-04:00",
          "2025-04-17T00:00:00-04:00",
          "2025-04-21T00:00:00-04:00",
          "2025-04-22T00:00:00-04:00",
          "2025-04-23T00:00:00-04:00",
          "2025-04-24T00:00:00-04:00",
          "2025-04-25T00:00:00-04:00",
          "2025-04-28T00:00:00-04:00",
          "2025-04-29T00:00:00-04:00",
          "2025-04-30T00:00:00-04:00",
          "2025-05-01T00:00:00-04:00",
          "2025-05-02T00:00:00-04:00",
          "2025-05-05T00:00:00-04:00"
         ]
        }
       ],
       "layout": {
        "template": {
         "data": {
          "bar": [
           {
            "error_x": {
             "color": "#f2f5fa"
            },
            "error_y": {
             "color": "#f2f5fa"
            },
            "marker": {
             "line": {
              "color": "rgb(17,17,17)",
              "width": 0.5
             },
             "pattern": {
              "fillmode": "overlay",
              "size": 10,
              "solidity": 0.2
             }
            },
            "type": "bar"
           }
          ],
          "barpolar": [
           {
            "marker": {
             "line": {
              "color": "rgb(17,17,17)",
              "width": 0.5
             },
             "pattern": {
              "fillmode": "overlay",
              "size": 10,
              "solidity": 0.2
             }
            },
            "type": "barpolar"
           }
          ],
          "carpet": [
           {
            "aaxis": {
             "endlinecolor": "#A2B1C6",
             "gridcolor": "#506784",
             "linecolor": "#506784",
             "minorgridcolor": "#506784",
             "startlinecolor": "#A2B1C6"
            },
            "baxis": {
             "endlinecolor": "#A2B1C6",
             "gridcolor": "#506784",
             "linecolor": "#506784",
             "minorgridcolor": "#506784",
             "startlinecolor": "#A2B1C6"
            },
            "type": "carpet"
           }
          ],
          "choropleth": [
           {
            "colorbar": {
             "outlinewidth": 0,
             "ticks": ""
            },
            "type": "choropleth"
           }
          ],
          "contour": [
           {
            "colorbar": {
             "outlinewidth": 0,
             "ticks": ""
            },
            "colorscale": [
             [
              0,
              "#0d0887"
             ],
             [
              0.1111111111111111,
              "#46039f"
             ],
             [
              0.2222222222222222,
              "#7201a8"
             ],
             [
              0.3333333333333333,
              "#9c179e"
             ],
             [
              0.4444444444444444,
              "#bd3786"
             ],
             [
              0.5555555555555556,
              "#d8576b"
             ],
             [
              0.6666666666666666,
              "#ed7953"
             ],
             [
              0.7777777777777778,
              "#fb9f3a"
             ],
             [
              0.8888888888888888,
              "#fdca26"
             ],
             [
              1,
              "#f0f921"
             ]
            ],
            "type": "contour"
           }
          ],
          "contourcarpet": [
           {
            "colorbar": {
             "outlinewidth": 0,
             "ticks": ""
            },
            "type": "contourcarpet"
           }
          ],
          "heatmap": [
           {
            "colorbar": {
             "outlinewidth": 0,
             "ticks": ""
            },
            "colorscale": [
             [
              0,
              "#0d0887"
             ],
             [
              0.1111111111111111,
              "#46039f"
             ],
             [
              0.2222222222222222,
              "#7201a8"
             ],
             [
              0.3333333333333333,
              "#9c179e"
             ],
             [
              0.4444444444444444,
              "#bd3786"
             ],
             [
              0.5555555555555556,
              "#d8576b"
             ],
             [
              0.6666666666666666,
              "#ed7953"
             ],
             [
              0.7777777777777778,
              "#fb9f3a"
             ],
             [
              0.8888888888888888,
              "#fdca26"
             ],
             [
              1,
              "#f0f921"
             ]
            ],
            "type": "heatmap"
           }
          ],
          "histogram": [
           {
            "marker": {
             "pattern": {
              "fillmode": "overlay",
              "size": 10,
              "solidity": 0.2
             }
            },
            "type": "histogram"
           }
          ],
          "histogram2d": [
           {
            "colorbar": {
             "outlinewidth": 0,
             "ticks": ""
            },
            "colorscale": [
             [
              0,
              "#0d0887"
             ],
             [
              0.1111111111111111,
              "#46039f"
             ],
             [
              0.2222222222222222,
              "#7201a8"
             ],
             [
              0.3333333333333333,
              "#9c179e"
             ],
             [
              0.4444444444444444,
              "#bd3786"
             ],
             [
              0.5555555555555556,
              "#d8576b"
             ],
             [
              0.6666666666666666,
              "#ed7953"
             ],
             [
              0.7777777777777778,
              "#fb9f3a"
             ],
             [
              0.8888888888888888,
              "#fdca26"
             ],
             [
              1,
              "#f0f921"
             ]
            ],
            "type": "histogram2d"
           }
          ],
          "histogram2dcontour": [
           {
            "colorbar": {
             "outlinewidth": 0,
             "ticks": ""
            },
            "colorscale": [
             [
              0,
              "#0d0887"
             ],
             [
              0.1111111111111111,
              "#46039f"
             ],
             [
              0.2222222222222222,
              "#7201a8"
             ],
             [
              0.3333333333333333,
              "#9c179e"
             ],
             [
              0.4444444444444444,
              "#bd3786"
             ],
             [
              0.5555555555555556,
              "#d8576b"
             ],
             [
              0.6666666666666666,
              "#ed7953"
             ],
             [
              0.7777777777777778,
              "#fb9f3a"
             ],
             [
              0.8888888888888888,
              "#fdca26"
             ],
             [
              1,
              "#f0f921"
             ]
            ],
            "type": "histogram2dcontour"
           }
          ],
          "mesh3d": [
           {
            "colorbar": {
             "outlinewidth": 0,
             "ticks": ""
            },
            "type": "mesh3d"
           }
          ],
          "parcoords": [
           {
            "line": {
             "colorbar": {
              "outlinewidth": 0,
              "ticks": ""
             }
            },
            "type": "parcoords"
           }
          ],
          "pie": [
           {
            "automargin": true,
            "type": "pie"
           }
          ],
          "scatter": [
           {
            "marker": {
             "line": {
              "color": "#283442"
             }
            },
            "type": "scatter"
           }
          ],
          "scatter3d": [
           {
            "line": {
             "colorbar": {
              "outlinewidth": 0,
              "ticks": ""
             }
            },
            "marker": {
             "colorbar": {
              "outlinewidth": 0,
              "ticks": ""
             }
            },
            "type": "scatter3d"
           }
          ],
          "scattercarpet": [
           {
            "marker": {
             "colorbar": {
              "outlinewidth": 0,
              "ticks": ""
             }
            },
            "type": "scattercarpet"
           }
          ],
          "scattergeo": [
           {
            "marker": {
             "colorbar": {
              "outlinewidth": 0,
              "ticks": ""
             }
            },
            "type": "scattergeo"
           }
          ],
          "scattergl": [
           {
            "marker": {
             "line": {
              "color": "#283442"
             }
            },
            "type": "scattergl"
           }
          ],
          "scattermap": [
           {
            "marker": {
             "colorbar": {
              "outlinewidth": 0,
              "ticks": ""
             }
            },
            "type": "scattermap"
           }
          ],
          "scattermapbox": [
           {
            "marker": {
             "colorbar": {
              "outlinewidth": 0,
              "ticks": ""
             }
            },
            "type": "scattermapbox"
           }
          ],
          "scatterpolar": [
           {
            "marker": {
             "colorbar": {
              "outlinewidth": 0,
              "ticks": ""
             }
            },
            "type": "scatterpolar"
           }
          ],
          "scatterpolargl": [
           {
            "marker": {
             "colorbar": {
              "outlinewidth": 0,
              "ticks": ""
             }
            },
            "type": "scatterpolargl"
           }
          ],
          "scatterternary": [
           {
            "marker": {
             "colorbar": {
              "outlinewidth": 0,
              "ticks": ""
             }
            },
            "type": "scatterternary"
           }
          ],
          "surface": [
           {
            "colorbar": {
             "outlinewidth": 0,
             "ticks": ""
            },
            "colorscale": [
             [
              0,
              "#0d0887"
             ],
             [
              0.1111111111111111,
              "#46039f"
             ],
             [
              0.2222222222222222,
              "#7201a8"
             ],
             [
              0.3333333333333333,
              "#9c179e"
             ],
             [
              0.4444444444444444,
              "#bd3786"
             ],
             [
              0.5555555555555556,
              "#d8576b"
             ],
             [
              0.6666666666666666,
              "#ed7953"
             ],
             [
              0.7777777777777778,
              "#fb9f3a"
             ],
             [
              0.8888888888888888,
              "#fdca26"
             ],
             [
              1,
              "#f0f921"
             ]
            ],
            "type": "surface"
           }
          ],
          "table": [
           {
            "cells": {
             "fill": {
              "color": "#506784"
             },
             "line": {
              "color": "rgb(17,17,17)"
             }
            },
            "header": {
             "fill": {
              "color": "#2a3f5f"
             },
             "line": {
              "color": "rgb(17,17,17)"
             }
            },
            "type": "table"
           }
          ]
         },
         "layout": {
          "annotationdefaults": {
           "arrowcolor": "#f2f5fa",
           "arrowhead": 0,
           "arrowwidth": 1
          },
          "autotypenumbers": "strict",
          "coloraxis": {
           "colorbar": {
            "outlinewidth": 0,
            "ticks": ""
           }
          },
          "colorscale": {
           "diverging": [
            [
             0,
             "#8e0152"
            ],
            [
             0.1,
             "#c51b7d"
            ],
            [
             0.2,
             "#de77ae"
            ],
            [
             0.3,
             "#f1b6da"
            ],
            [
             0.4,
             "#fde0ef"
            ],
            [
             0.5,
             "#f7f7f7"
            ],
            [
             0.6,
             "#e6f5d0"
            ],
            [
             0.7,
             "#b8e186"
            ],
            [
             0.8,
             "#7fbc41"
            ],
            [
             0.9,
             "#4d9221"
            ],
            [
             1,
             "#276419"
            ]
           ],
           "sequential": [
            [
             0,
             "#0d0887"
            ],
            [
             0.1111111111111111,
             "#46039f"
            ],
            [
             0.2222222222222222,
             "#7201a8"
            ],
            [
             0.3333333333333333,
             "#9c179e"
            ],
            [
             0.4444444444444444,
             "#bd3786"
            ],
            [
             0.5555555555555556,
             "#d8576b"
            ],
            [
             0.6666666666666666,
             "#ed7953"
            ],
            [
             0.7777777777777778,
             "#fb9f3a"
            ],
            [
             0.8888888888888888,
             "#fdca26"
            ],
            [
             1,
             "#f0f921"
            ]
           ],
           "sequentialminus": [
            [
             0,
             "#0d0887"
            ],
            [
             0.1111111111111111,
             "#46039f"
            ],
            [
             0.2222222222222222,
             "#7201a8"
            ],
            [
             0.3333333333333333,
             "#9c179e"
            ],
            [
             0.4444444444444444,
             "#bd3786"
            ],
            [
             0.5555555555555556,
             "#d8576b"
            ],
            [
             0.6666666666666666,
             "#ed7953"
            ],
            [
             0.7777777777777778,
             "#fb9f3a"
            ],
            [
             0.8888888888888888,
             "#fdca26"
            ],
            [
             1,
             "#f0f921"
            ]
           ]
          },
          "colorway": [
           "#636efa",
           "#EF553B",
           "#00cc96",
           "#ab63fa",
           "#FFA15A",
           "#19d3f3",
           "#FF6692",
           "#B6E880",
           "#FF97FF",
           "#FECB52"
          ],
          "font": {
           "color": "#f2f5fa"
          },
          "geo": {
           "bgcolor": "rgb(17,17,17)",
           "lakecolor": "rgb(17,17,17)",
           "landcolor": "rgb(17,17,17)",
           "showlakes": true,
           "showland": true,
           "subunitcolor": "#506784"
          },
          "hoverlabel": {
           "align": "left"
          },
          "hovermode": "closest",
          "mapbox": {
           "style": "dark"
          },
          "paper_bgcolor": "rgb(17,17,17)",
          "plot_bgcolor": "rgb(17,17,17)",
          "polar": {
           "angularaxis": {
            "gridcolor": "#506784",
            "linecolor": "#506784",
            "ticks": ""
           },
           "bgcolor": "rgb(17,17,17)",
           "radialaxis": {
            "gridcolor": "#506784",
            "linecolor": "#506784",
            "ticks": ""
           }
          },
          "scene": {
           "xaxis": {
            "backgroundcolor": "rgb(17,17,17)",
            "gridcolor": "#506784",
            "gridwidth": 2,
            "linecolor": "#506784",
            "showbackground": true,
            "ticks": "",
            "zerolinecolor": "#C8D4E3"
           },
           "yaxis": {
            "backgroundcolor": "rgb(17,17,17)",
            "gridcolor": "#506784",
            "gridwidth": 2,
            "linecolor": "#506784",
            "showbackground": true,
            "ticks": "",
            "zerolinecolor": "#C8D4E3"
           },
           "zaxis": {
            "backgroundcolor": "rgb(17,17,17)",
            "gridcolor": "#506784",
            "gridwidth": 2,
            "linecolor": "#506784",
            "showbackground": true,
            "ticks": "",
            "zerolinecolor": "#C8D4E3"
           }
          },
          "shapedefaults": {
           "line": {
            "color": "#f2f5fa"
           }
          },
          "sliderdefaults": {
           "bgcolor": "#C8D4E3",
           "bordercolor": "rgb(17,17,17)",
           "borderwidth": 1,
           "tickwidth": 0
          },
          "ternary": {
           "aaxis": {
            "gridcolor": "#506784",
            "linecolor": "#506784",
            "ticks": ""
           },
           "baxis": {
            "gridcolor": "#506784",
            "linecolor": "#506784",
            "ticks": ""
           },
           "bgcolor": "rgb(17,17,17)",
           "caxis": {
            "gridcolor": "#506784",
            "linecolor": "#506784",
            "ticks": ""
           }
          },
          "title": {
           "x": 0.05
          },
          "updatemenudefaults": {
           "bgcolor": "#506784",
           "borderwidth": 0
          },
          "xaxis": {
           "automargin": true,
           "gridcolor": "#283442",
           "linecolor": "#506784",
           "ticks": "",
           "title": {
            "standoff": 15
           },
           "zerolinecolor": "#283442",
           "zerolinewidth": 2
          },
          "yaxis": {
           "automargin": true,
           "gridcolor": "#283442",
           "linecolor": "#506784",
           "ticks": "",
           "title": {
            "standoff": 15
           },
           "zerolinecolor": "#283442",
           "zerolinewidth": 2
          }
         }
        },
        "title": {
         "text": "AMZN OHLC Chart"
        },
        "xaxis": {
         "title": {
          "text": "Date"
         }
        },
        "yaxis": {
         "title": {
          "text": "Stock Price (USD)"
         }
        }
       }
      }
     },
     "metadata": {},
     "output_type": "display_data"
    }
   ],
   "source": [
    "fig = go.Figure(data=[go.Ohlc(x=df['Date'], open=df['Open'], high=df['High'], low=df['Low'], close=df['Close'])])\n",
    "\n",
    "fig.update_layout(title=\"AMZN OHLC Chart\",xaxis_title=\"Date\",yaxis_title=\"Stock Price (USD)\",template=\"plotly_dark\")\n",
    "\n",
    "fig.show()\n",
    "\n",
    "fig.write_html(\"amazon_ohlc.html\")\n"
   ]
  },
  {
   "cell_type": "markdown",
   "metadata": {},
   "source": [
    "- <h4> Trading Volume Trends"
   ]
  },
  {
   "cell_type": "code",
   "execution_count": 16,
   "metadata": {},
   "outputs": [
    {
     "data": {
      "application/vnd.plotly.v1+json": {
       "config": {
        "plotlyServerURL": "https://plot.ly"
       },
       "data": [
        {
         "marker": {
          "color": "#5B9787"
         },
         "name": "Volume",
         "type": "bar",
         "x": [
          "2022-05-06T00:00:00-04:00",
          "2022-05-09T00:00:00-04:00",
          "2022-05-10T00:00:00-04:00",
          "2022-05-11T00:00:00-04:00",
          "2022-05-12T00:00:00-04:00",
          "2022-05-13T00:00:00-04:00",
          "2022-05-16T00:00:00-04:00",
          "2022-05-17T00:00:00-04:00",
          "2022-05-18T00:00:00-04:00",
          "2022-05-19T00:00:00-04:00",
          "2022-05-20T00:00:00-04:00",
          "2022-05-23T00:00:00-04:00",
          "2022-05-24T00:00:00-04:00",
          "2022-05-25T00:00:00-04:00",
          "2022-05-26T00:00:00-04:00",
          "2022-05-27T00:00:00-04:00",
          "2022-05-31T00:00:00-04:00",
          "2022-06-01T00:00:00-04:00",
          "2022-06-02T00:00:00-04:00",
          "2022-06-03T00:00:00-04:00",
          "2022-06-06T00:00:00-04:00",
          "2022-06-07T00:00:00-04:00",
          "2022-06-08T00:00:00-04:00",
          "2022-06-09T00:00:00-04:00",
          "2022-06-10T00:00:00-04:00",
          "2022-06-13T00:00:00-04:00",
          "2022-06-14T00:00:00-04:00",
          "2022-06-15T00:00:00-04:00",
          "2022-06-16T00:00:00-04:00",
          "2022-06-17T00:00:00-04:00",
          "2022-06-21T00:00:00-04:00",
          "2022-06-22T00:00:00-04:00",
          "2022-06-23T00:00:00-04:00",
          "2022-06-24T00:00:00-04:00",
          "2022-06-27T00:00:00-04:00",
          "2022-06-28T00:00:00-04:00",
          "2022-06-29T00:00:00-04:00",
          "2022-06-30T00:00:00-04:00",
          "2022-07-01T00:00:00-04:00",
          "2022-07-05T00:00:00-04:00",
          "2022-07-06T00:00:00-04:00",
          "2022-07-07T00:00:00-04:00",
          "2022-07-08T00:00:00-04:00",
          "2022-07-11T00:00:00-04:00",
          "2022-07-12T00:00:00-04:00",
          "2022-07-13T00:00:00-04:00",
          "2022-07-14T00:00:00-04:00",
          "2022-07-15T00:00:00-04:00",
          "2022-07-18T00:00:00-04:00",
          "2022-07-19T00:00:00-04:00",
          "2022-07-20T00:00:00-04:00",
          "2022-07-21T00:00:00-04:00",
          "2022-07-22T00:00:00-04:00",
          "2022-07-25T00:00:00-04:00",
          "2022-07-26T00:00:00-04:00",
          "2022-07-27T00:00:00-04:00",
          "2022-07-28T00:00:00-04:00",
          "2022-07-29T00:00:00-04:00",
          "2022-08-01T00:00:00-04:00",
          "2022-08-02T00:00:00-04:00",
          "2022-08-03T00:00:00-04:00",
          "2022-08-04T00:00:00-04:00",
          "2022-08-05T00:00:00-04:00",
          "2022-08-08T00:00:00-04:00",
          "2022-08-09T00:00:00-04:00",
          "2022-08-10T00:00:00-04:00",
          "2022-08-11T00:00:00-04:00",
          "2022-08-12T00:00:00-04:00",
          "2022-08-15T00:00:00-04:00",
          "2022-08-16T00:00:00-04:00",
          "2022-08-17T00:00:00-04:00",
          "2022-08-18T00:00:00-04:00",
          "2022-08-19T00:00:00-04:00",
          "2022-08-22T00:00:00-04:00",
          "2022-08-23T00:00:00-04:00",
          "2022-08-24T00:00:00-04:00",
          "2022-08-25T00:00:00-04:00",
          "2022-08-26T00:00:00-04:00",
          "2022-08-29T00:00:00-04:00",
          "2022-08-30T00:00:00-04:00",
          "2022-08-31T00:00:00-04:00",
          "2022-09-01T00:00:00-04:00",
          "2022-09-02T00:00:00-04:00",
          "2022-09-06T00:00:00-04:00",
          "2022-09-07T00:00:00-04:00",
          "2022-09-08T00:00:00-04:00",
          "2022-09-09T00:00:00-04:00",
          "2022-09-12T00:00:00-04:00",
          "2022-09-13T00:00:00-04:00",
          "2022-09-14T00:00:00-04:00",
          "2022-09-15T00:00:00-04:00",
          "2022-09-16T00:00:00-04:00",
          "2022-09-19T00:00:00-04:00",
          "2022-09-20T00:00:00-04:00",
          "2022-09-21T00:00:00-04:00",
          "2022-09-22T00:00:00-04:00",
          "2022-09-23T00:00:00-04:00",
          "2022-09-26T00:00:00-04:00",
          "2022-09-27T00:00:00-04:00",
          "2022-09-28T00:00:00-04:00",
          "2022-09-29T00:00:00-04:00",
          "2022-09-30T00:00:00-04:00",
          "2022-10-03T00:00:00-04:00",
          "2022-10-04T00:00:00-04:00",
          "2022-10-05T00:00:00-04:00",
          "2022-10-06T00:00:00-04:00",
          "2022-10-07T00:00:00-04:00",
          "2022-10-10T00:00:00-04:00",
          "2022-10-11T00:00:00-04:00",
          "2022-10-12T00:00:00-04:00",
          "2022-10-13T00:00:00-04:00",
          "2022-10-14T00:00:00-04:00",
          "2022-10-17T00:00:00-04:00",
          "2022-10-18T00:00:00-04:00",
          "2022-10-19T00:00:00-04:00",
          "2022-10-20T00:00:00-04:00",
          "2022-10-21T00:00:00-04:00",
          "2022-10-24T00:00:00-04:00",
          "2022-10-25T00:00:00-04:00",
          "2022-10-26T00:00:00-04:00",
          "2022-10-27T00:00:00-04:00",
          "2022-10-28T00:00:00-04:00",
          "2022-10-31T00:00:00-04:00",
          "2022-11-01T00:00:00-04:00",
          "2022-11-02T00:00:00-04:00",
          "2022-11-03T00:00:00-04:00",
          "2022-11-04T00:00:00-04:00",
          "2022-11-07T00:00:00-05:00",
          "2022-11-08T00:00:00-05:00",
          "2022-11-09T00:00:00-05:00",
          "2022-11-10T00:00:00-05:00",
          "2022-11-11T00:00:00-05:00",
          "2022-11-14T00:00:00-05:00",
          "2022-11-15T00:00:00-05:00",
          "2022-11-16T00:00:00-05:00",
          "2022-11-17T00:00:00-05:00",
          "2022-11-18T00:00:00-05:00",
          "2022-11-21T00:00:00-05:00",
          "2022-11-22T00:00:00-05:00",
          "2022-11-23T00:00:00-05:00",
          "2022-11-25T00:00:00-05:00",
          "2022-11-28T00:00:00-05:00",
          "2022-11-29T00:00:00-05:00",
          "2022-11-30T00:00:00-05:00",
          "2022-12-01T00:00:00-05:00",
          "2022-12-02T00:00:00-05:00",
          "2022-12-05T00:00:00-05:00",
          "2022-12-06T00:00:00-05:00",
          "2022-12-07T00:00:00-05:00",
          "2022-12-08T00:00:00-05:00",
          "2022-12-09T00:00:00-05:00",
          "2022-12-12T00:00:00-05:00",
          "2022-12-13T00:00:00-05:00",
          "2022-12-14T00:00:00-05:00",
          "2022-12-15T00:00:00-05:00",
          "2022-12-16T00:00:00-05:00",
          "2022-12-19T00:00:00-05:00",
          "2022-12-20T00:00:00-05:00",
          "2022-12-21T00:00:00-05:00",
          "2022-12-22T00:00:00-05:00",
          "2022-12-23T00:00:00-05:00",
          "2022-12-27T00:00:00-05:00",
          "2022-12-28T00:00:00-05:00",
          "2022-12-29T00:00:00-05:00",
          "2022-12-30T00:00:00-05:00",
          "2023-01-03T00:00:00-05:00",
          "2023-01-04T00:00:00-05:00",
          "2023-01-05T00:00:00-05:00",
          "2023-01-06T00:00:00-05:00",
          "2023-01-09T00:00:00-05:00",
          "2023-01-10T00:00:00-05:00",
          "2023-01-11T00:00:00-05:00",
          "2023-01-12T00:00:00-05:00",
          "2023-01-13T00:00:00-05:00",
          "2023-01-17T00:00:00-05:00",
          "2023-01-18T00:00:00-05:00",
          "2023-01-19T00:00:00-05:00",
          "2023-01-20T00:00:00-05:00",
          "2023-01-23T00:00:00-05:00",
          "2023-01-24T00:00:00-05:00",
          "2023-01-25T00:00:00-05:00",
          "2023-01-26T00:00:00-05:00",
          "2023-01-27T00:00:00-05:00",
          "2023-01-30T00:00:00-05:00",
          "2023-01-31T00:00:00-05:00",
          "2023-02-01T00:00:00-05:00",
          "2023-02-02T00:00:00-05:00",
          "2023-02-03T00:00:00-05:00",
          "2023-02-06T00:00:00-05:00",
          "2023-02-07T00:00:00-05:00",
          "2023-02-08T00:00:00-05:00",
          "2023-02-09T00:00:00-05:00",
          "2023-02-10T00:00:00-05:00",
          "2023-02-13T00:00:00-05:00",
          "2023-02-14T00:00:00-05:00",
          "2023-02-15T00:00:00-05:00",
          "2023-02-16T00:00:00-05:00",
          "2023-02-17T00:00:00-05:00",
          "2023-02-21T00:00:00-05:00",
          "2023-02-22T00:00:00-05:00",
          "2023-02-23T00:00:00-05:00",
          "2023-02-24T00:00:00-05:00",
          "2023-02-27T00:00:00-05:00",
          "2023-02-28T00:00:00-05:00",
          "2023-03-01T00:00:00-05:00",
          "2023-03-02T00:00:00-05:00",
          "2023-03-03T00:00:00-05:00",
          "2023-03-06T00:00:00-05:00",
          "2023-03-07T00:00:00-05:00",
          "2023-03-08T00:00:00-05:00",
          "2023-03-09T00:00:00-05:00",
          "2023-03-10T00:00:00-05:00",
          "2023-03-13T00:00:00-04:00",
          "2023-03-14T00:00:00-04:00",
          "2023-03-15T00:00:00-04:00",
          "2023-03-16T00:00:00-04:00",
          "2023-03-17T00:00:00-04:00",
          "2023-03-20T00:00:00-04:00",
          "2023-03-21T00:00:00-04:00",
          "2023-03-22T00:00:00-04:00",
          "2023-03-23T00:00:00-04:00",
          "2023-03-24T00:00:00-04:00",
          "2023-03-27T00:00:00-04:00",
          "2023-03-28T00:00:00-04:00",
          "2023-03-29T00:00:00-04:00",
          "2023-03-30T00:00:00-04:00",
          "2023-03-31T00:00:00-04:00",
          "2023-04-03T00:00:00-04:00",
          "2023-04-04T00:00:00-04:00",
          "2023-04-05T00:00:00-04:00",
          "2023-04-06T00:00:00-04:00",
          "2023-04-10T00:00:00-04:00",
          "2023-04-11T00:00:00-04:00",
          "2023-04-12T00:00:00-04:00",
          "2023-04-13T00:00:00-04:00",
          "2023-04-14T00:00:00-04:00",
          "2023-04-17T00:00:00-04:00",
          "2023-04-18T00:00:00-04:00",
          "2023-04-19T00:00:00-04:00",
          "2023-04-20T00:00:00-04:00",
          "2023-04-21T00:00:00-04:00",
          "2023-04-24T00:00:00-04:00",
          "2023-04-25T00:00:00-04:00",
          "2023-04-26T00:00:00-04:00",
          "2023-04-27T00:00:00-04:00",
          "2023-04-28T00:00:00-04:00",
          "2023-05-01T00:00:00-04:00",
          "2023-05-02T00:00:00-04:00",
          "2023-05-03T00:00:00-04:00",
          "2023-05-04T00:00:00-04:00",
          "2023-05-05T00:00:00-04:00",
          "2023-05-08T00:00:00-04:00",
          "2023-05-09T00:00:00-04:00",
          "2023-05-10T00:00:00-04:00",
          "2023-05-11T00:00:00-04:00",
          "2023-05-12T00:00:00-04:00",
          "2023-05-15T00:00:00-04:00",
          "2023-05-16T00:00:00-04:00",
          "2023-05-17T00:00:00-04:00",
          "2023-05-18T00:00:00-04:00",
          "2023-05-19T00:00:00-04:00",
          "2023-05-22T00:00:00-04:00",
          "2023-05-23T00:00:00-04:00",
          "2023-05-24T00:00:00-04:00",
          "2023-05-25T00:00:00-04:00",
          "2023-05-26T00:00:00-04:00",
          "2023-05-30T00:00:00-04:00",
          "2023-05-31T00:00:00-04:00",
          "2023-06-01T00:00:00-04:00",
          "2023-06-02T00:00:00-04:00",
          "2023-06-05T00:00:00-04:00",
          "2023-06-06T00:00:00-04:00",
          "2023-06-07T00:00:00-04:00",
          "2023-06-08T00:00:00-04:00",
          "2023-06-09T00:00:00-04:00",
          "2023-06-12T00:00:00-04:00",
          "2023-06-13T00:00:00-04:00",
          "2023-06-14T00:00:00-04:00",
          "2023-06-15T00:00:00-04:00",
          "2023-06-16T00:00:00-04:00",
          "2023-06-20T00:00:00-04:00",
          "2023-06-21T00:00:00-04:00",
          "2023-06-22T00:00:00-04:00",
          "2023-06-23T00:00:00-04:00",
          "2023-06-26T00:00:00-04:00",
          "2023-06-27T00:00:00-04:00",
          "2023-06-28T00:00:00-04:00",
          "2023-06-29T00:00:00-04:00",
          "2023-06-30T00:00:00-04:00",
          "2023-07-03T00:00:00-04:00",
          "2023-07-05T00:00:00-04:00",
          "2023-07-06T00:00:00-04:00",
          "2023-07-07T00:00:00-04:00",
          "2023-07-10T00:00:00-04:00",
          "2023-07-11T00:00:00-04:00",
          "2023-07-12T00:00:00-04:00",
          "2023-07-13T00:00:00-04:00",
          "2023-07-14T00:00:00-04:00",
          "2023-07-17T00:00:00-04:00",
          "2023-07-18T00:00:00-04:00",
          "2023-07-19T00:00:00-04:00",
          "2023-07-20T00:00:00-04:00",
          "2023-07-21T00:00:00-04:00",
          "2023-07-24T00:00:00-04:00",
          "2023-07-25T00:00:00-04:00",
          "2023-07-26T00:00:00-04:00",
          "2023-07-27T00:00:00-04:00",
          "2023-07-28T00:00:00-04:00",
          "2023-07-31T00:00:00-04:00",
          "2023-08-01T00:00:00-04:00",
          "2023-08-02T00:00:00-04:00",
          "2023-08-03T00:00:00-04:00",
          "2023-08-04T00:00:00-04:00",
          "2023-08-07T00:00:00-04:00",
          "2023-08-08T00:00:00-04:00",
          "2023-08-09T00:00:00-04:00",
          "2023-08-10T00:00:00-04:00",
          "2023-08-11T00:00:00-04:00",
          "2023-08-14T00:00:00-04:00",
          "2023-08-15T00:00:00-04:00",
          "2023-08-16T00:00:00-04:00",
          "2023-08-17T00:00:00-04:00",
          "2023-08-18T00:00:00-04:00",
          "2023-08-21T00:00:00-04:00",
          "2023-08-22T00:00:00-04:00",
          "2023-08-23T00:00:00-04:00",
          "2023-08-24T00:00:00-04:00",
          "2023-08-25T00:00:00-04:00",
          "2023-08-28T00:00:00-04:00",
          "2023-08-29T00:00:00-04:00",
          "2023-08-30T00:00:00-04:00",
          "2023-08-31T00:00:00-04:00",
          "2023-09-01T00:00:00-04:00",
          "2023-09-05T00:00:00-04:00",
          "2023-09-06T00:00:00-04:00",
          "2023-09-07T00:00:00-04:00",
          "2023-09-08T00:00:00-04:00",
          "2023-09-11T00:00:00-04:00",
          "2023-09-12T00:00:00-04:00",
          "2023-09-13T00:00:00-04:00",
          "2023-09-14T00:00:00-04:00",
          "2023-09-15T00:00:00-04:00",
          "2023-09-18T00:00:00-04:00",
          "2023-09-19T00:00:00-04:00",
          "2023-09-20T00:00:00-04:00",
          "2023-09-21T00:00:00-04:00",
          "2023-09-22T00:00:00-04:00",
          "2023-09-25T00:00:00-04:00",
          "2023-09-26T00:00:00-04:00",
          "2023-09-27T00:00:00-04:00",
          "2023-09-28T00:00:00-04:00",
          "2023-09-29T00:00:00-04:00",
          "2023-10-02T00:00:00-04:00",
          "2023-10-03T00:00:00-04:00",
          "2023-10-04T00:00:00-04:00",
          "2023-10-05T00:00:00-04:00",
          "2023-10-06T00:00:00-04:00",
          "2023-10-09T00:00:00-04:00",
          "2023-10-10T00:00:00-04:00",
          "2023-10-11T00:00:00-04:00",
          "2023-10-12T00:00:00-04:00",
          "2023-10-13T00:00:00-04:00",
          "2023-10-16T00:00:00-04:00",
          "2023-10-17T00:00:00-04:00",
          "2023-10-18T00:00:00-04:00",
          "2023-10-19T00:00:00-04:00",
          "2023-10-20T00:00:00-04:00",
          "2023-10-23T00:00:00-04:00",
          "2023-10-24T00:00:00-04:00",
          "2023-10-25T00:00:00-04:00",
          "2023-10-26T00:00:00-04:00",
          "2023-10-27T00:00:00-04:00",
          "2023-10-30T00:00:00-04:00",
          "2023-10-31T00:00:00-04:00",
          "2023-11-01T00:00:00-04:00",
          "2023-11-02T00:00:00-04:00",
          "2023-11-03T00:00:00-04:00",
          "2023-11-06T00:00:00-05:00",
          "2023-11-07T00:00:00-05:00",
          "2023-11-08T00:00:00-05:00",
          "2023-11-09T00:00:00-05:00",
          "2023-11-10T00:00:00-05:00",
          "2023-11-13T00:00:00-05:00",
          "2023-11-14T00:00:00-05:00",
          "2023-11-15T00:00:00-05:00",
          "2023-11-16T00:00:00-05:00",
          "2023-11-17T00:00:00-05:00",
          "2023-11-20T00:00:00-05:00",
          "2023-11-21T00:00:00-05:00",
          "2023-11-22T00:00:00-05:00",
          "2023-11-24T00:00:00-05:00",
          "2023-11-27T00:00:00-05:00",
          "2023-11-28T00:00:00-05:00",
          "2023-11-29T00:00:00-05:00",
          "2023-11-30T00:00:00-05:00",
          "2023-12-01T00:00:00-05:00",
          "2023-12-04T00:00:00-05:00",
          "2023-12-05T00:00:00-05:00",
          "2023-12-06T00:00:00-05:00",
          "2023-12-07T00:00:00-05:00",
          "2023-12-08T00:00:00-05:00",
          "2023-12-11T00:00:00-05:00",
          "2023-12-12T00:00:00-05:00",
          "2023-12-13T00:00:00-05:00",
          "2023-12-14T00:00:00-05:00",
          "2023-12-15T00:00:00-05:00",
          "2023-12-18T00:00:00-05:00",
          "2023-12-19T00:00:00-05:00",
          "2023-12-20T00:00:00-05:00",
          "2023-12-21T00:00:00-05:00",
          "2023-12-22T00:00:00-05:00",
          "2023-12-26T00:00:00-05:00",
          "2023-12-27T00:00:00-05:00",
          "2023-12-28T00:00:00-05:00",
          "2023-12-29T00:00:00-05:00",
          "2024-01-02T00:00:00-05:00",
          "2024-01-03T00:00:00-05:00",
          "2024-01-04T00:00:00-05:00",
          "2024-01-05T00:00:00-05:00",
          "2024-01-08T00:00:00-05:00",
          "2024-01-09T00:00:00-05:00",
          "2024-01-10T00:00:00-05:00",
          "2024-01-11T00:00:00-05:00",
          "2024-01-12T00:00:00-05:00",
          "2024-01-16T00:00:00-05:00",
          "2024-01-17T00:00:00-05:00",
          "2024-01-18T00:00:00-05:00",
          "2024-01-19T00:00:00-05:00",
          "2024-01-22T00:00:00-05:00",
          "2024-01-23T00:00:00-05:00",
          "2024-01-24T00:00:00-05:00",
          "2024-01-25T00:00:00-05:00",
          "2024-01-26T00:00:00-05:00",
          "2024-01-29T00:00:00-05:00",
          "2024-01-30T00:00:00-05:00",
          "2024-01-31T00:00:00-05:00",
          "2024-02-01T00:00:00-05:00",
          "2024-02-02T00:00:00-05:00",
          "2024-02-05T00:00:00-05:00",
          "2024-02-06T00:00:00-05:00",
          "2024-02-07T00:00:00-05:00",
          "2024-02-08T00:00:00-05:00",
          "2024-02-09T00:00:00-05:00",
          "2024-02-12T00:00:00-05:00",
          "2024-02-13T00:00:00-05:00",
          "2024-02-14T00:00:00-05:00",
          "2024-02-15T00:00:00-05:00",
          "2024-02-16T00:00:00-05:00",
          "2024-02-20T00:00:00-05:00",
          "2024-02-21T00:00:00-05:00",
          "2024-02-22T00:00:00-05:00",
          "2024-02-23T00:00:00-05:00",
          "2024-02-26T00:00:00-05:00",
          "2024-02-27T00:00:00-05:00",
          "2024-02-28T00:00:00-05:00",
          "2024-02-29T00:00:00-05:00",
          "2024-03-01T00:00:00-05:00",
          "2024-03-04T00:00:00-05:00",
          "2024-03-05T00:00:00-05:00",
          "2024-03-06T00:00:00-05:00",
          "2024-03-07T00:00:00-05:00",
          "2024-03-08T00:00:00-05:00",
          "2024-03-11T00:00:00-04:00",
          "2024-03-12T00:00:00-04:00",
          "2024-03-13T00:00:00-04:00",
          "2024-03-14T00:00:00-04:00",
          "2024-03-15T00:00:00-04:00",
          "2024-03-18T00:00:00-04:00",
          "2024-03-19T00:00:00-04:00",
          "2024-03-20T00:00:00-04:00",
          "2024-03-21T00:00:00-04:00",
          "2024-03-22T00:00:00-04:00",
          "2024-03-25T00:00:00-04:00",
          "2024-03-26T00:00:00-04:00",
          "2024-03-27T00:00:00-04:00",
          "2024-03-28T00:00:00-04:00",
          "2024-04-01T00:00:00-04:00",
          "2024-04-02T00:00:00-04:00",
          "2024-04-03T00:00:00-04:00",
          "2024-04-04T00:00:00-04:00",
          "2024-04-05T00:00:00-04:00",
          "2024-04-08T00:00:00-04:00",
          "2024-04-09T00:00:00-04:00",
          "2024-04-10T00:00:00-04:00",
          "2024-04-11T00:00:00-04:00",
          "2024-04-12T00:00:00-04:00",
          "2024-04-15T00:00:00-04:00",
          "2024-04-16T00:00:00-04:00",
          "2024-04-17T00:00:00-04:00",
          "2024-04-18T00:00:00-04:00",
          "2024-04-19T00:00:00-04:00",
          "2024-04-22T00:00:00-04:00",
          "2024-04-23T00:00:00-04:00",
          "2024-04-24T00:00:00-04:00",
          "2024-04-25T00:00:00-04:00",
          "2024-04-26T00:00:00-04:00",
          "2024-04-29T00:00:00-04:00",
          "2024-04-30T00:00:00-04:00",
          "2024-05-01T00:00:00-04:00",
          "2024-05-02T00:00:00-04:00",
          "2024-05-03T00:00:00-04:00",
          "2024-05-06T00:00:00-04:00",
          "2024-05-07T00:00:00-04:00",
          "2024-05-08T00:00:00-04:00",
          "2024-05-09T00:00:00-04:00",
          "2024-05-10T00:00:00-04:00",
          "2024-05-13T00:00:00-04:00",
          "2024-05-14T00:00:00-04:00",
          "2024-05-15T00:00:00-04:00",
          "2024-05-16T00:00:00-04:00",
          "2024-05-17T00:00:00-04:00",
          "2024-05-20T00:00:00-04:00",
          "2024-05-21T00:00:00-04:00",
          "2024-05-22T00:00:00-04:00",
          "2024-05-23T00:00:00-04:00",
          "2024-05-24T00:00:00-04:00",
          "2024-05-28T00:00:00-04:00",
          "2024-05-29T00:00:00-04:00",
          "2024-05-30T00:00:00-04:00",
          "2024-05-31T00:00:00-04:00",
          "2024-06-03T00:00:00-04:00",
          "2024-06-04T00:00:00-04:00",
          "2024-06-05T00:00:00-04:00",
          "2024-06-06T00:00:00-04:00",
          "2024-06-07T00:00:00-04:00",
          "2024-06-10T00:00:00-04:00",
          "2024-06-11T00:00:00-04:00",
          "2024-06-12T00:00:00-04:00",
          "2024-06-13T00:00:00-04:00",
          "2024-06-14T00:00:00-04:00",
          "2024-06-17T00:00:00-04:00",
          "2024-06-18T00:00:00-04:00",
          "2024-06-20T00:00:00-04:00",
          "2024-06-21T00:00:00-04:00",
          "2024-06-24T00:00:00-04:00",
          "2024-06-25T00:00:00-04:00",
          "2024-06-26T00:00:00-04:00",
          "2024-06-27T00:00:00-04:00",
          "2024-06-28T00:00:00-04:00",
          "2024-07-01T00:00:00-04:00",
          "2024-07-02T00:00:00-04:00",
          "2024-07-03T00:00:00-04:00",
          "2024-07-05T00:00:00-04:00",
          "2024-07-08T00:00:00-04:00",
          "2024-07-09T00:00:00-04:00",
          "2024-07-10T00:00:00-04:00",
          "2024-07-11T00:00:00-04:00",
          "2024-07-12T00:00:00-04:00",
          "2024-07-15T00:00:00-04:00",
          "2024-07-16T00:00:00-04:00",
          "2024-07-17T00:00:00-04:00",
          "2024-07-18T00:00:00-04:00",
          "2024-07-19T00:00:00-04:00",
          "2024-07-22T00:00:00-04:00",
          "2024-07-23T00:00:00-04:00",
          "2024-07-24T00:00:00-04:00",
          "2024-07-25T00:00:00-04:00",
          "2024-07-26T00:00:00-04:00",
          "2024-07-29T00:00:00-04:00",
          "2024-07-30T00:00:00-04:00",
          "2024-07-31T00:00:00-04:00",
          "2024-08-01T00:00:00-04:00",
          "2024-08-02T00:00:00-04:00",
          "2024-08-05T00:00:00-04:00",
          "2024-08-06T00:00:00-04:00",
          "2024-08-07T00:00:00-04:00",
          "2024-08-08T00:00:00-04:00",
          "2024-08-09T00:00:00-04:00",
          "2024-08-12T00:00:00-04:00",
          "2024-08-13T00:00:00-04:00",
          "2024-08-14T00:00:00-04:00",
          "2024-08-15T00:00:00-04:00",
          "2024-08-16T00:00:00-04:00",
          "2024-08-19T00:00:00-04:00",
          "2024-08-20T00:00:00-04:00",
          "2024-08-21T00:00:00-04:00",
          "2024-08-22T00:00:00-04:00",
          "2024-08-23T00:00:00-04:00",
          "2024-08-26T00:00:00-04:00",
          "2024-08-27T00:00:00-04:00",
          "2024-08-28T00:00:00-04:00",
          "2024-08-29T00:00:00-04:00",
          "2024-08-30T00:00:00-04:00",
          "2024-09-03T00:00:00-04:00",
          "2024-09-04T00:00:00-04:00",
          "2024-09-05T00:00:00-04:00",
          "2024-09-06T00:00:00-04:00",
          "2024-09-09T00:00:00-04:00",
          "2024-09-10T00:00:00-04:00",
          "2024-09-11T00:00:00-04:00",
          "2024-09-12T00:00:00-04:00",
          "2024-09-13T00:00:00-04:00",
          "2024-09-16T00:00:00-04:00",
          "2024-09-17T00:00:00-04:00",
          "2024-09-18T00:00:00-04:00",
          "2024-09-19T00:00:00-04:00",
          "2024-09-20T00:00:00-04:00",
          "2024-09-23T00:00:00-04:00",
          "2024-09-24T00:00:00-04:00",
          "2024-09-25T00:00:00-04:00",
          "2024-09-26T00:00:00-04:00",
          "2024-09-27T00:00:00-04:00",
          "2024-09-30T00:00:00-04:00",
          "2024-10-01T00:00:00-04:00",
          "2024-10-02T00:00:00-04:00",
          "2024-10-03T00:00:00-04:00",
          "2024-10-04T00:00:00-04:00",
          "2024-10-07T00:00:00-04:00",
          "2024-10-08T00:00:00-04:00",
          "2024-10-09T00:00:00-04:00",
          "2024-10-10T00:00:00-04:00",
          "2024-10-11T00:00:00-04:00",
          "2024-10-14T00:00:00-04:00",
          "2024-10-15T00:00:00-04:00",
          "2024-10-16T00:00:00-04:00",
          "2024-10-17T00:00:00-04:00",
          "2024-10-18T00:00:00-04:00",
          "2024-10-21T00:00:00-04:00",
          "2024-10-22T00:00:00-04:00",
          "2024-10-23T00:00:00-04:00",
          "2024-10-24T00:00:00-04:00",
          "2024-10-25T00:00:00-04:00",
          "2024-10-28T00:00:00-04:00",
          "2024-10-29T00:00:00-04:00",
          "2024-10-30T00:00:00-04:00",
          "2024-10-31T00:00:00-04:00",
          "2024-11-01T00:00:00-04:00",
          "2024-11-04T00:00:00-05:00",
          "2024-11-05T00:00:00-05:00",
          "2024-11-06T00:00:00-05:00",
          "2024-11-07T00:00:00-05:00",
          "2024-11-08T00:00:00-05:00",
          "2024-11-11T00:00:00-05:00",
          "2024-11-12T00:00:00-05:00",
          "2024-11-13T00:00:00-05:00",
          "2024-11-14T00:00:00-05:00",
          "2024-11-15T00:00:00-05:00",
          "2024-11-18T00:00:00-05:00",
          "2024-11-19T00:00:00-05:00",
          "2024-11-20T00:00:00-05:00",
          "2024-11-21T00:00:00-05:00",
          "2024-11-22T00:00:00-05:00",
          "2024-11-25T00:00:00-05:00",
          "2024-11-26T00:00:00-05:00",
          "2024-11-27T00:00:00-05:00",
          "2024-11-29T00:00:00-05:00",
          "2024-12-02T00:00:00-05:00",
          "2024-12-03T00:00:00-05:00",
          "2024-12-04T00:00:00-05:00",
          "2024-12-05T00:00:00-05:00",
          "2024-12-06T00:00:00-05:00",
          "2024-12-09T00:00:00-05:00",
          "2024-12-10T00:00:00-05:00",
          "2024-12-11T00:00:00-05:00",
          "2024-12-12T00:00:00-05:00",
          "2024-12-13T00:00:00-05:00",
          "2024-12-16T00:00:00-05:00",
          "2024-12-17T00:00:00-05:00",
          "2024-12-18T00:00:00-05:00",
          "2024-12-19T00:00:00-05:00",
          "2024-12-20T00:00:00-05:00",
          "2024-12-23T00:00:00-05:00",
          "2024-12-24T00:00:00-05:00",
          "2024-12-26T00:00:00-05:00",
          "2024-12-27T00:00:00-05:00",
          "2024-12-30T00:00:00-05:00",
          "2024-12-31T00:00:00-05:00",
          "2025-01-02T00:00:00-05:00",
          "2025-01-03T00:00:00-05:00",
          "2025-01-06T00:00:00-05:00",
          "2025-01-07T00:00:00-05:00",
          "2025-01-08T00:00:00-05:00",
          "2025-01-10T00:00:00-05:00",
          "2025-01-13T00:00:00-05:00",
          "2025-01-14T00:00:00-05:00",
          "2025-01-15T00:00:00-05:00",
          "2025-01-16T00:00:00-05:00",
          "2025-01-17T00:00:00-05:00",
          "2025-01-21T00:00:00-05:00",
          "2025-01-22T00:00:00-05:00",
          "2025-01-23T00:00:00-05:00",
          "2025-01-24T00:00:00-05:00",
          "2025-01-27T00:00:00-05:00",
          "2025-01-28T00:00:00-05:00",
          "2025-01-29T00:00:00-05:00",
          "2025-01-30T00:00:00-05:00",
          "2025-01-31T00:00:00-05:00",
          "2025-02-03T00:00:00-05:00",
          "2025-02-04T00:00:00-05:00",
          "2025-02-05T00:00:00-05:00",
          "2025-02-06T00:00:00-05:00",
          "2025-02-07T00:00:00-05:00",
          "2025-02-10T00:00:00-05:00",
          "2025-02-11T00:00:00-05:00",
          "2025-02-12T00:00:00-05:00",
          "2025-02-13T00:00:00-05:00",
          "2025-02-14T00:00:00-05:00",
          "2025-02-18T00:00:00-05:00",
          "2025-02-19T00:00:00-05:00",
          "2025-02-20T00:00:00-05:00",
          "2025-02-21T00:00:00-05:00",
          "2025-02-24T00:00:00-05:00",
          "2025-02-25T00:00:00-05:00",
          "2025-02-26T00:00:00-05:00",
          "2025-02-27T00:00:00-05:00",
          "2025-02-28T00:00:00-05:00",
          "2025-03-03T00:00:00-05:00",
          "2025-03-04T00:00:00-05:00",
          "2025-03-05T00:00:00-05:00",
          "2025-03-06T00:00:00-05:00",
          "2025-03-07T00:00:00-05:00",
          "2025-03-10T00:00:00-04:00",
          "2025-03-11T00:00:00-04:00",
          "2025-03-12T00:00:00-04:00",
          "2025-03-13T00:00:00-04:00",
          "2025-03-14T00:00:00-04:00",
          "2025-03-17T00:00:00-04:00",
          "2025-03-18T00:00:00-04:00",
          "2025-03-19T00:00:00-04:00",
          "2025-03-20T00:00:00-04:00",
          "2025-03-21T00:00:00-04:00",
          "2025-03-24T00:00:00-04:00",
          "2025-03-25T00:00:00-04:00",
          "2025-03-26T00:00:00-04:00",
          "2025-03-27T00:00:00-04:00",
          "2025-03-28T00:00:00-04:00",
          "2025-03-31T00:00:00-04:00",
          "2025-04-01T00:00:00-04:00",
          "2025-04-02T00:00:00-04:00",
          "2025-04-03T00:00:00-04:00",
          "2025-04-04T00:00:00-04:00",
          "2025-04-07T00:00:00-04:00",
          "2025-04-08T00:00:00-04:00",
          "2025-04-09T00:00:00-04:00",
          "2025-04-10T00:00:00-04:00",
          "2025-04-11T00:00:00-04:00",
          "2025-04-14T00:00:00-04:00",
          "2025-04-15T00:00:00-04:00",
          "2025-04-16T00:00:00-04:00",
          "2025-04-17T00:00:00-04:00",
          "2025-04-21T00:00:00-04:00",
          "2025-04-22T00:00:00-04:00",
          "2025-04-23T00:00:00-04:00",
          "2025-04-24T00:00:00-04:00",
          "2025-04-25T00:00:00-04:00",
          "2025-04-28T00:00:00-04:00",
          "2025-04-29T00:00:00-04:00",
          "2025-04-30T00:00:00-04:00",
          "2025-05-01T00:00:00-04:00",
          "2025-05-02T00:00:00-04:00",
          "2025-05-05T00:00:00-04:00"
         ],
         "y": {
          "bdata": "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",
          "dtype": "i4"
         }
        }
       ],
       "layout": {
        "template": {
         "data": {
          "bar": [
           {
            "error_x": {
             "color": "#f2f5fa"
            },
            "error_y": {
             "color": "#f2f5fa"
            },
            "marker": {
             "line": {
              "color": "rgb(17,17,17)",
              "width": 0.5
             },
             "pattern": {
              "fillmode": "overlay",
              "size": 10,
              "solidity": 0.2
             }
            },
            "type": "bar"
           }
          ],
          "barpolar": [
           {
            "marker": {
             "line": {
              "color": "rgb(17,17,17)",
              "width": 0.5
             },
             "pattern": {
              "fillmode": "overlay",
              "size": 10,
              "solidity": 0.2
             }
            },
            "type": "barpolar"
           }
          ],
          "carpet": [
           {
            "aaxis": {
             "endlinecolor": "#A2B1C6",
             "gridcolor": "#506784",
             "linecolor": "#506784",
             "minorgridcolor": "#506784",
             "startlinecolor": "#A2B1C6"
            },
            "baxis": {
             "endlinecolor": "#A2B1C6",
             "gridcolor": "#506784",
             "linecolor": "#506784",
             "minorgridcolor": "#506784",
             "startlinecolor": "#A2B1C6"
            },
            "type": "carpet"
           }
          ],
          "choropleth": [
           {
            "colorbar": {
             "outlinewidth": 0,
             "ticks": ""
            },
            "type": "choropleth"
           }
          ],
          "contour": [
           {
            "colorbar": {
             "outlinewidth": 0,
             "ticks": ""
            },
            "colorscale": [
             [
              0,
              "#0d0887"
             ],
             [
              0.1111111111111111,
              "#46039f"
             ],
             [
              0.2222222222222222,
              "#7201a8"
             ],
             [
              0.3333333333333333,
              "#9c179e"
             ],
             [
              0.4444444444444444,
              "#bd3786"
             ],
             [
              0.5555555555555556,
              "#d8576b"
             ],
             [
              0.6666666666666666,
              "#ed7953"
             ],
             [
              0.7777777777777778,
              "#fb9f3a"
             ],
             [
              0.8888888888888888,
              "#fdca26"
             ],
             [
              1,
              "#f0f921"
             ]
            ],
            "type": "contour"
           }
          ],
          "contourcarpet": [
           {
            "colorbar": {
             "outlinewidth": 0,
             "ticks": ""
            },
            "type": "contourcarpet"
           }
          ],
          "heatmap": [
           {
            "colorbar": {
             "outlinewidth": 0,
             "ticks": ""
            },
            "colorscale": [
             [
              0,
              "#0d0887"
             ],
             [
              0.1111111111111111,
              "#46039f"
             ],
             [
              0.2222222222222222,
              "#7201a8"
             ],
             [
              0.3333333333333333,
              "#9c179e"
             ],
             [
              0.4444444444444444,
              "#bd3786"
             ],
             [
              0.5555555555555556,
              "#d8576b"
             ],
             [
              0.6666666666666666,
              "#ed7953"
             ],
             [
              0.7777777777777778,
              "#fb9f3a"
             ],
             [
              0.8888888888888888,
              "#fdca26"
             ],
             [
              1,
              "#f0f921"
             ]
            ],
            "type": "heatmap"
           }
          ],
          "histogram": [
           {
            "marker": {
             "pattern": {
              "fillmode": "overlay",
              "size": 10,
              "solidity": 0.2
             }
            },
            "type": "histogram"
           }
          ],
          "histogram2d": [
           {
            "colorbar": {
             "outlinewidth": 0,
             "ticks": ""
            },
            "colorscale": [
             [
              0,
              "#0d0887"
             ],
             [
              0.1111111111111111,
              "#46039f"
             ],
             [
              0.2222222222222222,
              "#7201a8"
             ],
             [
              0.3333333333333333,
              "#9c179e"
             ],
             [
              0.4444444444444444,
              "#bd3786"
             ],
             [
              0.5555555555555556,
              "#d8576b"
             ],
             [
              0.6666666666666666,
              "#ed7953"
             ],
             [
              0.7777777777777778,
              "#fb9f3a"
             ],
             [
              0.8888888888888888,
              "#fdca26"
             ],
             [
              1,
              "#f0f921"
             ]
            ],
            "type": "histogram2d"
           }
          ],
          "histogram2dcontour": [
           {
            "colorbar": {
             "outlinewidth": 0,
             "ticks": ""
            },
            "colorscale": [
             [
              0,
              "#0d0887"
             ],
             [
              0.1111111111111111,
              "#46039f"
             ],
             [
              0.2222222222222222,
              "#7201a8"
             ],
             [
              0.3333333333333333,
              "#9c179e"
             ],
             [
              0.4444444444444444,
              "#bd3786"
             ],
             [
              0.5555555555555556,
              "#d8576b"
             ],
             [
              0.6666666666666666,
              "#ed7953"
             ],
             [
              0.7777777777777778,
              "#fb9f3a"
             ],
             [
              0.8888888888888888,
              "#fdca26"
             ],
             [
              1,
              "#f0f921"
             ]
            ],
            "type": "histogram2dcontour"
           }
          ],
          "mesh3d": [
           {
            "colorbar": {
             "outlinewidth": 0,
             "ticks": ""
            },
            "type": "mesh3d"
           }
          ],
          "parcoords": [
           {
            "line": {
             "colorbar": {
              "outlinewidth": 0,
              "ticks": ""
             }
            },
            "type": "parcoords"
           }
          ],
          "pie": [
           {
            "automargin": true,
            "type": "pie"
           }
          ],
          "scatter": [
           {
            "marker": {
             "line": {
              "color": "#283442"
             }
            },
            "type": "scatter"
           }
          ],
          "scatter3d": [
           {
            "line": {
             "colorbar": {
              "outlinewidth": 0,
              "ticks": ""
             }
            },
            "marker": {
             "colorbar": {
              "outlinewidth": 0,
              "ticks": ""
             }
            },
            "type": "scatter3d"
           }
          ],
          "scattercarpet": [
           {
            "marker": {
             "colorbar": {
              "outlinewidth": 0,
              "ticks": ""
             }
            },
            "type": "scattercarpet"
           }
          ],
          "scattergeo": [
           {
            "marker": {
             "colorbar": {
              "outlinewidth": 0,
              "ticks": ""
             }
            },
            "type": "scattergeo"
           }
          ],
          "scattergl": [
           {
            "marker": {
             "line": {
              "color": "#283442"
             }
            },
            "type": "scattergl"
           }
          ],
          "scattermap": [
           {
            "marker": {
             "colorbar": {
              "outlinewidth": 0,
              "ticks": ""
             }
            },
            "type": "scattermap"
           }
          ],
          "scattermapbox": [
           {
            "marker": {
             "colorbar": {
              "outlinewidth": 0,
              "ticks": ""
             }
            },
            "type": "scattermapbox"
           }
          ],
          "scatterpolar": [
           {
            "marker": {
             "colorbar": {
              "outlinewidth": 0,
              "ticks": ""
             }
            },
            "type": "scatterpolar"
           }
          ],
          "scatterpolargl": [
           {
            "marker": {
             "colorbar": {
              "outlinewidth": 0,
              "ticks": ""
             }
            },
            "type": "scatterpolargl"
           }
          ],
          "scatterternary": [
           {
            "marker": {
             "colorbar": {
              "outlinewidth": 0,
              "ticks": ""
             }
            },
            "type": "scatterternary"
           }
          ],
          "surface": [
           {
            "colorbar": {
             "outlinewidth": 0,
             "ticks": ""
            },
            "colorscale": [
             [
              0,
              "#0d0887"
             ],
             [
              0.1111111111111111,
              "#46039f"
             ],
             [
              0.2222222222222222,
              "#7201a8"
             ],
             [
              0.3333333333333333,
              "#9c179e"
             ],
             [
              0.4444444444444444,
              "#bd3786"
             ],
             [
              0.5555555555555556,
              "#d8576b"
             ],
             [
              0.6666666666666666,
              "#ed7953"
             ],
             [
              0.7777777777777778,
              "#fb9f3a"
             ],
             [
              0.8888888888888888,
              "#fdca26"
             ],
             [
              1,
              "#f0f921"
             ]
            ],
            "type": "surface"
           }
          ],
          "table": [
           {
            "cells": {
             "fill": {
              "color": "#506784"
             },
             "line": {
              "color": "rgb(17,17,17)"
             }
            },
            "header": {
             "fill": {
              "color": "#2a3f5f"
             },
             "line": {
              "color": "rgb(17,17,17)"
             }
            },
            "type": "table"
           }
          ]
         },
         "layout": {
          "annotationdefaults": {
           "arrowcolor": "#f2f5fa",
           "arrowhead": 0,
           "arrowwidth": 1
          },
          "autotypenumbers": "strict",
          "coloraxis": {
           "colorbar": {
            "outlinewidth": 0,
            "ticks": ""
           }
          },
          "colorscale": {
           "diverging": [
            [
             0,
             "#8e0152"
            ],
            [
             0.1,
             "#c51b7d"
            ],
            [
             0.2,
             "#de77ae"
            ],
            [
             0.3,
             "#f1b6da"
            ],
            [
             0.4,
             "#fde0ef"
            ],
            [
             0.5,
             "#f7f7f7"
            ],
            [
             0.6,
             "#e6f5d0"
            ],
            [
             0.7,
             "#b8e186"
            ],
            [
             0.8,
             "#7fbc41"
            ],
            [
             0.9,
             "#4d9221"
            ],
            [
             1,
             "#276419"
            ]
           ],
           "sequential": [
            [
             0,
             "#0d0887"
            ],
            [
             0.1111111111111111,
             "#46039f"
            ],
            [
             0.2222222222222222,
             "#7201a8"
            ],
            [
             0.3333333333333333,
             "#9c179e"
            ],
            [
             0.4444444444444444,
             "#bd3786"
            ],
            [
             0.5555555555555556,
             "#d8576b"
            ],
            [
             0.6666666666666666,
             "#ed7953"
            ],
            [
             0.7777777777777778,
             "#fb9f3a"
            ],
            [
             0.8888888888888888,
             "#fdca26"
            ],
            [
             1,
             "#f0f921"
            ]
           ],
           "sequentialminus": [
            [
             0,
             "#0d0887"
            ],
            [
             0.1111111111111111,
             "#46039f"
            ],
            [
             0.2222222222222222,
             "#7201a8"
            ],
            [
             0.3333333333333333,
             "#9c179e"
            ],
            [
             0.4444444444444444,
             "#bd3786"
            ],
            [
             0.5555555555555556,
             "#d8576b"
            ],
            [
             0.6666666666666666,
             "#ed7953"
            ],
            [
             0.7777777777777778,
             "#fb9f3a"
            ],
            [
             0.8888888888888888,
             "#fdca26"
            ],
            [
             1,
             "#f0f921"
            ]
           ]
          },
          "colorway": [
           "#636efa",
           "#EF553B",
           "#00cc96",
           "#ab63fa",
           "#FFA15A",
           "#19d3f3",
           "#FF6692",
           "#B6E880",
           "#FF97FF",
           "#FECB52"
          ],
          "font": {
           "color": "#f2f5fa"
          },
          "geo": {
           "bgcolor": "rgb(17,17,17)",
           "lakecolor": "rgb(17,17,17)",
           "landcolor": "rgb(17,17,17)",
           "showlakes": true,
           "showland": true,
           "subunitcolor": "#506784"
          },
          "hoverlabel": {
           "align": "left"
          },
          "hovermode": "closest",
          "mapbox": {
           "style": "dark"
          },
          "paper_bgcolor": "rgb(17,17,17)",
          "plot_bgcolor": "rgb(17,17,17)",
          "polar": {
           "angularaxis": {
            "gridcolor": "#506784",
            "linecolor": "#506784",
            "ticks": ""
           },
           "bgcolor": "rgb(17,17,17)",
           "radialaxis": {
            "gridcolor": "#506784",
            "linecolor": "#506784",
            "ticks": ""
           }
          },
          "scene": {
           "xaxis": {
            "backgroundcolor": "rgb(17,17,17)",
            "gridcolor": "#506784",
            "gridwidth": 2,
            "linecolor": "#506784",
            "showbackground": true,
            "ticks": "",
            "zerolinecolor": "#C8D4E3"
           },
           "yaxis": {
            "backgroundcolor": "rgb(17,17,17)",
            "gridcolor": "#506784",
            "gridwidth": 2,
            "linecolor": "#506784",
            "showbackground": true,
            "ticks": "",
            "zerolinecolor": "#C8D4E3"
           },
           "zaxis": {
            "backgroundcolor": "rgb(17,17,17)",
            "gridcolor": "#506784",
            "gridwidth": 2,
            "linecolor": "#506784",
            "showbackground": true,
            "ticks": "",
            "zerolinecolor": "#C8D4E3"
           }
          },
          "shapedefaults": {
           "line": {
            "color": "#f2f5fa"
           }
          },
          "sliderdefaults": {
           "bgcolor": "#C8D4E3",
           "bordercolor": "rgb(17,17,17)",
           "borderwidth": 1,
           "tickwidth": 0
          },
          "ternary": {
           "aaxis": {
            "gridcolor": "#506784",
            "linecolor": "#506784",
            "ticks": ""
           },
           "baxis": {
            "gridcolor": "#506784",
            "linecolor": "#506784",
            "ticks": ""
           },
           "bgcolor": "rgb(17,17,17)",
           "caxis": {
            "gridcolor": "#506784",
            "linecolor": "#506784",
            "ticks": ""
           }
          },
          "title": {
           "x": 0.05
          },
          "updatemenudefaults": {
           "bgcolor": "#506784",
           "borderwidth": 0
          },
          "xaxis": {
           "automargin": true,
           "gridcolor": "#283442",
           "linecolor": "#506784",
           "ticks": "",
           "title": {
            "standoff": 15
           },
           "zerolinecolor": "#283442",
           "zerolinewidth": 2
          },
          "yaxis": {
           "automargin": true,
           "gridcolor": "#283442",
           "linecolor": "#506784",
           "ticks": "",
           "title": {
            "standoff": 15
           },
           "zerolinecolor": "#283442",
           "zerolinewidth": 2
          }
         }
        },
        "title": {
         "text": "Amazon Trading Volume"
        },
        "xaxis": {
         "title": {
          "text": "Date"
         }
        },
        "yaxis": {
         "title": {
          "text": "Volume"
         }
        }
       }
      }
     },
     "metadata": {},
     "output_type": "display_data"
    }
   ],
   "source": [
    "fig = go.Figure()\n",
    "\n",
    "fig.add_trace(go.Bar(x=df['Date'], y=df['Volume'], name='Volume', marker=dict(color='#5B9787')))\n",
    "\n",
    "fig.update_layout(title=\"Amazon Trading Volume\", xaxis_title=\"Date\",yaxis_title=\"Volume\",template=\"plotly_dark\")\n",
    "\n",
    "fig.show()\n",
    "\n",
    "fig.write_html(\"amazon_trading_volume.html\")\n"
   ]
  },
  {
   "cell_type": "markdown",
   "metadata": {},
   "source": [
    "- <h4> Moving Averages Alignment"
   ]
  },
  {
   "cell_type": "code",
   "execution_count": 17,
   "metadata": {},
   "outputs": [],
   "source": [
    "sma_50= df['Close'].rolling(window=50).mean()\n",
    "sma_200= df['Close'].rolling(window=200).mean()"
   ]
  },
  {
   "cell_type": "code",
   "execution_count": 18,
   "metadata": {},
   "outputs": [
    {
     "data": {
      "image/png": "[encoded data removed]",
      "text/plain": [
       "<Figure size 1500x400 with 1 Axes>"
      ]
     },
     "metadata": {},
     "output_type": "display_data"
    }
   ],
   "source": [
    "plt.figure(figsize=(15,4))\n",
    "plt.plot(df['Date'], df['Close'], label='Closing Price', color='#5B9787',linewidth=2)\n",
    "plt.plot(df['Date'], sma_50, label='SMA 50', color='blue', linestyle='dashed')\n",
    "plt.plot(df['Date'], sma_200, label='SMA 200', color='red', linestyle='dashed')\n",
    "plt.xlabel('Date')\n",
    "plt.ylabel('Price (USD)')\n",
    "plt.title('Amazon Closing Price')\n",
    "plt.style.use(\"ggplot\")\n",
    "plt.legend()\n",
    "plt.show()"
   ]
  },
  {
   "cell_type": "markdown",
   "metadata": {},
   "source": [
    "- <h4> MACD Trend Analysis"
   ]
  },
  {
   "cell_type": "code",
   "execution_count": 19,
   "metadata": {},
   "outputs": [],
   "source": [
    "ema_12 = df['Close'].ewm(span=12, adjust=False).mean()\n",
    "ema_26 = df['Close'].ewm(span=26, adjust=False).mean()\n",
    "macd = ema_12 - ema_26\n",
    "signal = macd.ewm(span=9, adjust=False).mean()"
   ]
  },
  {
   "cell_type": "code",
   "execution_count": 20,
   "metadata": {},
   "outputs": [
    {
     "data": {
      "image/png": "[encoded data removed]",
      "text/plain": [
       "<Figure size 1500x400 with 1 Axes>"
      ]
     },
     "metadata": {},
     "output_type": "display_data"
    }
   ],
   "source": [
    "plt.figure(figsize=(15,4))\n",
    "plt.plot(df['Date'], macd, label='MACD', color='purple')\n",
    "plt.plot(df['Date'], signal, label='Signal Line', color='orange')\n",
    "plt.axhline(0, color='gray', linestyle='--', linewidth=0.8)\n",
    "plt.xlabel('Date')\n",
    "plt.ylabel('MACD Value')\n",
    "plt.title('Amazon MACD Analysis')\n",
    "plt.legend()\n",
    "plt.show()"
   ]
  },
  {
   "cell_type": "markdown",
   "metadata": {},
   "source": [
    "- <h4> Distribution of Daily Returns"
   ]
  },
  {
   "cell_type": "code",
   "execution_count": 21,
   "metadata": {},
   "outputs": [
    {
     "data": {
      "image/png": "[encoded data removed]",
      "text/plain": [
       "<Figure size 1100x400 with 1 Axes>"
      ]
     },
     "metadata": {},
     "output_type": "display_data"
    }
   ],
   "source": [
    "plt.figure(figsize=(11,4))\n",
    "sns.histplot(df['Daily Return'], bins=30,kde=True, color='#5B9787')\n",
    "plt.title('Distribution of Daily Returns')\n",
    "plt.ylabel('Frequency')\n",
    "plt.show()"
   ]
  },
  {
   "cell_type": "markdown",
   "metadata": {},
   "source": [
    "- <h4> 30-Day Moving Average Comparison"
   ]
  },
  {
   "cell_type": "code",
   "execution_count": 22,
   "metadata": {},
   "outputs": [
    {
     "data": {
      "image/png": "[encoded data removed]",
      "text/plain": [
       "<Figure size 1500x400 with 1 Axes>"
      ]
     },
     "metadata": {},
     "output_type": "display_data"
    }
   ],
   "source": [
    "plt.figure(figsize=(15, 4))\n",
    "df['Close'].plot(label='Closing Price', color= '#5B9787', linewidth=2)\n",
    "df['Close'].rolling(window=30).mean().plot(label='30-Day Avg', linestyle='--', color='red')\n",
    "plt.title( 'AMZN Closing Prices with 30-Day Moving Average')\n",
    "plt.xlabel('Date')\n",
    "plt.ylabel('Closing Price (USD)')\n",
    "plt.legend()\n",
    "plt.show()"
   ]
  },
  {
   "cell_type": "code",
   "execution_count": 23,
   "metadata": {},
   "outputs": [],
   "source": [
    "df.to_csv('amazon_stock_analysis_data.csv', index=False)"
   ]
  }
 ],
 "metadata": {
  "kernelspec": {
   "display_name": "Python 3",
   "language": "python",
   "name": "python3"
  },
  "language_info": {
   "codemirror_mode": {
    "name": "ipython",
    "version": 3
   },
   "file_extension": ".py",
   "mimetype": "text/x-python",
   "name": "python",
   "nbconvert_exporter": "python",
   "pygments_lexer": "ipython3",
   "version": "3.11.4"
  }
 },
 "nbformat": 4,
 "nbformat_minor": 2
}
